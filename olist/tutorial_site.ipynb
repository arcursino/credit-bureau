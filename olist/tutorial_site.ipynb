{
 "cells": [
  {
   "cell_type": "code",
   "execution_count": 2,
   "id": "983036db",
   "metadata": {},
   "outputs": [
    {
     "data": {
      "text/plain": [
       "'from surprise import Reader, Dataset\\nfrom surprise import BaselineOnly\\nfrom surprise import KNNBaseline\\nfrom surprise import SVD\\nfrom surprise import SVDpp'"
      ]
     },
     "execution_count": 2,
     "metadata": {},
     "output_type": "execute_result"
    }
   ],
   "source": [
    "from datetime import datetime\n",
    "import pandas as pd\n",
    "import numpy as np\n",
    "import seaborn as sns\n",
    "import os\n",
    "import random\n",
    "import matplotlib\n",
    "import matplotlib.pyplot as plt\n",
    "from scipy import sparse\n",
    "from sklearn.metrics.pairwise import cosine_similarity\n",
    "from sklearn.metrics import mean_squared_error\n",
    "import xgboost as xgb\n",
    "'''from surprise import Reader, Dataset\n",
    "from surprise import BaselineOnly\n",
    "from surprise import KNNBaseline\n",
    "from surprise import SVD\n",
    "from surprise import SVDpp'''"
   ]
  },
  {
   "cell_type": "code",
   "execution_count": 5,
   "id": "e52fe082",
   "metadata": {},
   "outputs": [
    {
     "data": {
      "text/html": [
       "<div>\n",
       "<style scoped>\n",
       "    .dataframe tbody tr th:only-of-type {\n",
       "        vertical-align: middle;\n",
       "    }\n",
       "\n",
       "    .dataframe tbody tr th {\n",
       "        vertical-align: top;\n",
       "    }\n",
       "\n",
       "    .dataframe thead th {\n",
       "        text-align: right;\n",
       "    }\n",
       "</style>\n",
       "<table border=\"1\" class=\"dataframe\">\n",
       "  <thead>\n",
       "    <tr style=\"text-align: right;\">\n",
       "      <th></th>\n",
       "      <th>customer_id</th>\n",
       "      <th>customer_city</th>\n",
       "      <th>customer_state</th>\n",
       "      <th>order_id</th>\n",
       "      <th>order_purchase_timestamp</th>\n",
       "      <th>order_item_id</th>\n",
       "      <th>product_id</th>\n",
       "      <th>price</th>\n",
       "      <th>review_id</th>\n",
       "      <th>review_score</th>\n",
       "      <th>customer_lat</th>\n",
       "      <th>customer_long</th>\n",
       "      <th>product_category_name</th>\n",
       "      <th>quantidade_item</th>\n",
       "    </tr>\n",
       "  </thead>\n",
       "  <tbody>\n",
       "    <tr>\n",
       "      <th>0</th>\n",
       "      <td>06b8999e2fba1a1fbc88172c00ba8bc7</td>\n",
       "      <td>franca</td>\n",
       "      <td>SP</td>\n",
       "      <td>00e7ee1b050b8499577073aeb2a297a1</td>\n",
       "      <td>2017-05-16 15:05:35</td>\n",
       "      <td>1</td>\n",
       "      <td>a9516a079e37a9c9c36b9b78b10169e8</td>\n",
       "      <td>124.99</td>\n",
       "      <td>88b8b52d46df026a9d1ad2136a59b30b</td>\n",
       "      <td>4</td>\n",
       "      <td>-20.500253</td>\n",
       "      <td>-47.400367</td>\n",
       "      <td>moveis_escritorio</td>\n",
       "      <td>1</td>\n",
       "    </tr>\n",
       "    <tr>\n",
       "      <th>1</th>\n",
       "      <td>8912fc0c3bbf1e2fbf35819e21706718</td>\n",
       "      <td>santarem</td>\n",
       "      <td>PA</td>\n",
       "      <td>c1d2b34febe9cd269e378117d6681172</td>\n",
       "      <td>2017-11-09 00:50:13</td>\n",
       "      <td>1</td>\n",
       "      <td>a9516a079e37a9c9c36b9b78b10169e8</td>\n",
       "      <td>112.99</td>\n",
       "      <td>7fc63200f12eebb5f387856afdd63db8</td>\n",
       "      <td>1</td>\n",
       "      <td>-2.441535</td>\n",
       "      <td>-54.720801</td>\n",
       "      <td>moveis_escritorio</td>\n",
       "      <td>2</td>\n",
       "    </tr>\n",
       "  </tbody>\n",
       "</table>\n",
       "</div>"
      ],
      "text/plain": [
       "                        customer_id customer_city customer_state  \\\n",
       "0  06b8999e2fba1a1fbc88172c00ba8bc7        franca             SP   \n",
       "1  8912fc0c3bbf1e2fbf35819e21706718      santarem             PA   \n",
       "\n",
       "                           order_id order_purchase_timestamp  order_item_id  \\\n",
       "0  00e7ee1b050b8499577073aeb2a297a1      2017-05-16 15:05:35              1   \n",
       "1  c1d2b34febe9cd269e378117d6681172      2017-11-09 00:50:13              1   \n",
       "\n",
       "                         product_id   price                         review_id  \\\n",
       "0  a9516a079e37a9c9c36b9b78b10169e8  124.99  88b8b52d46df026a9d1ad2136a59b30b   \n",
       "1  a9516a079e37a9c9c36b9b78b10169e8  112.99  7fc63200f12eebb5f387856afdd63db8   \n",
       "\n",
       "   review_score  customer_lat  customer_long product_category_name  \\\n",
       "0             4    -20.500253     -47.400367     moveis_escritorio   \n",
       "1             1     -2.441535     -54.720801     moveis_escritorio   \n",
       "\n",
       "   quantidade_item  \n",
       "0                1  \n",
       "1                2  "
      ]
     },
     "execution_count": 5,
     "metadata": {},
     "output_type": "execute_result"
    }
   ],
   "source": [
    "df = pd.read_csv('olist_processado.csv')\n",
    "df.head(2)"
   ]
  },
  {
   "cell_type": "code",
   "execution_count": 37,
   "id": "b3067771",
   "metadata": {},
   "outputs": [],
   "source": [
    "df['customer_id_code'] = df.customer_id.astype('category').cat.codes\n",
    "df['product_id_code'] = df.product_id.astype('category').cat.codes"
   ]
  },
  {
   "cell_type": "code",
   "execution_count": 38,
   "id": "a3215e3e",
   "metadata": {},
   "outputs": [],
   "source": [
    "split_value = int(len(df) * 0.80)\n",
    "train_data = df[:split_value]\n",
    "test_data = df[split_value:]"
   ]
  },
  {
   "cell_type": "code",
   "execution_count": 39,
   "id": "fd23d9d5",
   "metadata": {},
   "outputs": [
    {
     "name": "stderr",
     "output_type": "stream",
     "text": [
      "/usr/local/lib/python3.6/site-packages/ipykernel_launcher.py:3: UserWarning: FixedFormatter should only be used together with FixedLocator\n",
      "  This is separate from the ipykernel package so we can avoid doing imports until\n"
     ]
    },
    {
     "data": {
      "image/png": "[encoded data removed]",
      "text/plain": [
       "<Figure size 864x576 with 1 Axes>"
      ]
     },
     "metadata": {
      "needs_background": "light"
     },
     "output_type": "display_data"
    }
   ],
   "source": [
    "plt.figure(figsize = (12, 8))\n",
    "ax = sns.countplot(x=\"review_score\", data=train_data)\n",
    "ax.set_yticklabels([num for num in ax.get_yticks()])\n",
    "plt.tick_params(labelsize = 15)\n",
    "plt.title(\"Contagem dos Reviews dos dados de treino\", fontsize = 20)\n",
    "plt.xlabel(\"Review\", fontsize = 20)\n",
    "plt.ylabel(\"Número de Review\", fontsize = 20)\n",
    "plt.show()"
   ]
  },
  {
   "cell_type": "code",
   "execution_count": 40,
   "id": "b1fbad57",
   "metadata": {},
   "outputs": [
    {
     "data": {
      "text/plain": [
       "customer_id\n",
       "f4c13379ddd0ed4f4fc1c0b49c2c5e51    22\n",
       "be1c4e52bb71e0c54b11a26b8e8d59f2    22\n",
       "be1b70680b9f9694d8c70f41fa3dc92b    20\n",
       "d6646ea91d8cd9fc7e6882a7068779d4    20\n",
       "62ff903909cb86e2b07156a6d7cc48da    18\n",
       "Name: review_score, dtype: int64"
      ]
     },
     "execution_count": 40,
     "metadata": {},
     "output_type": "execute_result"
    }
   ],
   "source": [
    "no_rated_movies_per_cliente = train_data.groupby(by = \"customer_id\")[\"review_score\"].count().sort_values(ascending = False)\n",
    "no_rated_movies_per_cliente.head()"
   ]
  },
  {
   "cell_type": "code",
   "execution_count": 41,
   "id": "25bba94b",
   "metadata": {},
   "outputs": [
    {
     "data": {
      "text/plain": [
       "product_id\n",
       "aca2eb7d00ea1a7b8ebd4e68314663af    528\n",
       "99a4788cb24856965c36a24e339b6058    527\n",
       "422879e10f46682990de24d770e7f83d    496\n",
       "368c6c730842d78016ad823897a372db    413\n",
       "389d119b48cf3043d311335e499d9c6b    399\n",
       "Name: review_score, dtype: int64"
      ]
     },
     "execution_count": 41,
     "metadata": {},
     "output_type": "execute_result"
    }
   ],
   "source": [
    "no_ratings_per_product = train_data.groupby(by = \"product_id\")[\"review_score\"].count().sort_values(ascending = False)\n",
    "no_ratings_per_product.head()"
   ]
  },
  {
   "cell_type": "code",
   "execution_count": 42,
   "id": "b4a04502",
   "metadata": {},
   "outputs": [],
   "source": [
    "def get_user_item_sparse_matrix(df):\n",
    "    sparse_data = sparse.csr_matrix((df.review_score, (df.customer_id_code, df.product_id_code)))\n",
    "    return sparse_data"
   ]
  },
  {
   "cell_type": "code",
   "execution_count": 43,
   "id": "90caef4b",
   "metadata": {},
   "outputs": [],
   "source": [
    "train_sparse_data = get_user_item_sparse_matrix(train_data)"
   ]
  },
  {
   "cell_type": "code",
   "execution_count": 44,
   "id": "6f36d82e",
   "metadata": {},
   "outputs": [],
   "source": [
    "test_sparse_data = get_user_item_sparse_matrix(test_data)"
   ]
  },
  {
   "cell_type": "code",
   "execution_count": 45,
   "id": "84f04996",
   "metadata": {},
   "outputs": [
    {
     "name": "stdout",
     "output_type": "stream",
     "text": [
      "Média de Review Global: 4.495230908168693\n"
     ]
    }
   ],
   "source": [
    "global_average_rating = train_sparse_data.sum()/train_sparse_data.count_nonzero()\n",
    "print(\"Média de Review Global: {}\".format(global_average_rating))"
   ]
  },
  {
   "cell_type": "code",
   "execution_count": 46,
   "id": "eac2c020",
   "metadata": {},
   "outputs": [],
   "source": [
    "def get_average_rating(sparse_matrix, is_user):\n",
    "    ax = 1 if is_user else 0\n",
    "    sum_of_ratings = sparse_matrix.sum(axis = ax).A1  \n",
    "    no_of_ratings = (sparse_matrix != 0).sum(axis = ax).A1 \n",
    "    rows, cols = sparse_matrix.shape\n",
    "    average_ratings = {i: sum_of_ratings[i]/no_of_ratings[i] for i in range(rows if is_user else cols) if no_of_ratings[i] != 0}\n",
    "    return average_ratings"
   ]
  },
  {
   "cell_type": "code",
   "execution_count": 47,
   "id": "12b69fdc",
   "metadata": {},
   "outputs": [],
   "source": [
    "average_rating_user = get_average_rating(train_sparse_data, True)"
   ]
  },
  {
   "cell_type": "code",
   "execution_count": 51,
   "id": "b8ff0221",
   "metadata": {},
   "outputs": [],
   "source": [
    "avg_rating_product = get_average_rating(train_sparse_data, False)"
   ]
  },
  {
   "cell_type": "code",
   "execution_count": 50,
   "id": "d3e49c1b",
   "metadata": {},
   "outputs": [
    {
     "name": "stdout",
     "output_type": "stream",
     "text": [
      "Total no. de Clientes = 97277\n",
      "No. de Clientes no 'train data'= 77629\n",
      "No. de Clientes não presentes no 'train data' = 19648(20.0%)\n"
     ]
    }
   ],
   "source": [
    "total_users = len(np.unique(df[\"customer_id\"]))\n",
    "train_users = len(average_rating_user)\n",
    "uncommonUsers = total_users - train_users\n",
    "                  \n",
    "print(\"Total no. de Clientes = {}\".format(total_users))\n",
    "print(\"No. de Clientes no 'train data'= {}\".format(train_users))\n",
    "print(\"No. de Clientes não presentes no 'train data' = {}({}%)\".format(uncommonUsers, np.round((uncommonUsers/total_users)*100), 2))"
   ]
  },
  {
   "cell_type": "code",
   "execution_count": 52,
   "id": "91fefa89",
   "metadata": {},
   "outputs": [
    {
     "name": "stdout",
     "output_type": "stream",
     "text": [
      "Total no. de Produtos = 32400\n",
      "No. de Produtos no 'train data' = 17364\n",
      "No. de Clientes no 'train data' = 15036(46.0%)\n"
     ]
    }
   ],
   "source": [
    "total_produtos = len(np.unique(df[\"product_id\"]))\n",
    "train_produtos = len(avg_rating_product)\n",
    "uncommonProdutos = total_produtos - train_produtos\n",
    "                  \n",
    "print(\"Total no. de Produtos = {}\".format(total_produtos))\n",
    "print(\"No. de Produtos no 'train data' = {}\".format(train_produtos))\n",
    "print(\"No. de Clientes no 'train data' = {}({}%)\".format(uncommonProdutos, np.round((uncommonProdutos/total_produtos)*100), 2))"
   ]
  },
  {
   "cell_type": "code",
   "execution_count": 55,
   "id": "fdf5d2fc",
   "metadata": {},
   "outputs": [],
   "source": [
    "def compute_user_similarity(sparse_matrix, limit=100):\n",
    "    row_index, col_index = sparse_matrix.nonzero()\n",
    "    rows = np.unique(row_index)\n",
    "    similar_arr = np.zeros(61700).reshape(617,100)\n",
    "    \n",
    "    for row in rows[:limit]:\n",
    "        sim = cosine_similarity(sparse_matrix.getrow(row), train_sparse_data).ravel()\n",
    "        similar_indices = sim.argsort()[-limit:]\n",
    "        similar = sim[similar_indices]\n",
    "        similar_arr[row] = similar\n",
    "    \n",
    "    return similar_arr "
   ]
  },
  {
   "cell_type": "code",
   "execution_count": 56,
   "id": "71d5ba91",
   "metadata": {},
   "outputs": [],
   "source": [
    "similar_user_matrix = compute_user_similarity(train_sparse_data, 100)"
   ]
  },
  {
   "cell_type": "code",
   "execution_count": 57,
   "id": "9d1a03aa",
   "metadata": {},
   "outputs": [
    {
     "data": {
      "text/plain": [
       "array([0.        , 0.        , 0.        , 0.        , 0.        ,\n",
       "       0.        , 0.        , 0.        , 0.        , 0.        ,\n",
       "       0.        , 0.        , 0.        , 0.        , 0.        ,\n",
       "       0.        , 0.        , 0.        , 0.        , 0.        ,\n",
       "       0.        , 0.        , 0.        , 0.        , 0.        ,\n",
       "       0.        , 0.        , 0.        , 0.        , 0.        ,\n",
       "       0.        , 0.        , 0.        , 0.        , 0.        ,\n",
       "       0.        , 0.        , 0.        , 0.        , 0.        ,\n",
       "       0.        , 0.        , 0.        , 0.        , 0.        ,\n",
       "       0.        , 0.        , 0.        , 0.        , 0.        ,\n",
       "       0.        , 0.        , 0.        , 0.        , 0.        ,\n",
       "       0.        , 0.        , 0.        , 0.        , 0.        ,\n",
       "       0.        , 0.        , 0.        , 0.        , 0.        ,\n",
       "       0.        , 0.        , 0.        , 0.        , 0.        ,\n",
       "       0.        , 0.        , 0.        , 0.        , 0.        ,\n",
       "       0.        , 0.        , 0.        , 0.        , 0.        ,\n",
       "       0.        , 0.        , 0.        , 0.57735027, 1.        ,\n",
       "       1.        , 1.        , 1.        , 1.        , 1.        ,\n",
       "       1.        , 1.        , 1.        , 1.        , 1.        ,\n",
       "       1.        , 1.        , 1.        , 1.        , 1.        ])"
      ]
     },
     "execution_count": 57,
     "metadata": {},
     "output_type": "execute_result"
    }
   ],
   "source": [
    "similar_user_matrix[0]"
   ]
  },
  {
   "cell_type": "code",
   "execution_count": 77,
   "id": "39afd026",
   "metadata": {},
   "outputs": [
    {
     "data": {
      "text/html": [
       "<div>\n",
       "<style scoped>\n",
       "    .dataframe tbody tr th:only-of-type {\n",
       "        vertical-align: middle;\n",
       "    }\n",
       "\n",
       "    .dataframe tbody tr th {\n",
       "        vertical-align: top;\n",
       "    }\n",
       "\n",
       "    .dataframe thead th {\n",
       "        text-align: right;\n",
       "    }\n",
       "</style>\n",
       "<table border=\"1\" class=\"dataframe\">\n",
       "  <thead>\n",
       "    <tr style=\"text-align: right;\">\n",
       "      <th></th>\n",
       "      <th>customer_id</th>\n",
       "      <th>customer_city</th>\n",
       "      <th>customer_state</th>\n",
       "      <th>order_id</th>\n",
       "      <th>order_purchase_timestamp</th>\n",
       "      <th>order_item_id</th>\n",
       "      <th>product_id</th>\n",
       "      <th>price</th>\n",
       "      <th>review_id</th>\n",
       "      <th>review_score</th>\n",
       "      <th>customer_lat</th>\n",
       "      <th>customer_long</th>\n",
       "      <th>product_category_name</th>\n",
       "      <th>quantidade_item</th>\n",
       "      <th>customer_id_code</th>\n",
       "      <th>product_id_code</th>\n",
       "    </tr>\n",
       "  </thead>\n",
       "  <tbody>\n",
       "    <tr>\n",
       "      <th>0</th>\n",
       "      <td>06b8999e2fba1a1fbc88172c00ba8bc7</td>\n",
       "      <td>franca</td>\n",
       "      <td>SP</td>\n",
       "      <td>00e7ee1b050b8499577073aeb2a297a1</td>\n",
       "      <td>2017-05-16 15:05:35</td>\n",
       "      <td>1</td>\n",
       "      <td>a9516a079e37a9c9c36b9b78b10169e8</td>\n",
       "      <td>124.99</td>\n",
       "      <td>88b8b52d46df026a9d1ad2136a59b30b</td>\n",
       "      <td>4</td>\n",
       "      <td>-20.500253</td>\n",
       "      <td>-47.400367</td>\n",
       "      <td>moveis_escritorio</td>\n",
       "      <td>1</td>\n",
       "      <td>2561</td>\n",
       "      <td>21356</td>\n",
       "    </tr>\n",
       "    <tr>\n",
       "      <th>1</th>\n",
       "      <td>8912fc0c3bbf1e2fbf35819e21706718</td>\n",
       "      <td>santarem</td>\n",
       "      <td>PA</td>\n",
       "      <td>c1d2b34febe9cd269e378117d6681172</td>\n",
       "      <td>2017-11-09 00:50:13</td>\n",
       "      <td>1</td>\n",
       "      <td>a9516a079e37a9c9c36b9b78b10169e8</td>\n",
       "      <td>112.99</td>\n",
       "      <td>7fc63200f12eebb5f387856afdd63db8</td>\n",
       "      <td>1</td>\n",
       "      <td>-2.441535</td>\n",
       "      <td>-54.720801</td>\n",
       "      <td>moveis_escritorio</td>\n",
       "      <td>2</td>\n",
       "      <td>52020</td>\n",
       "      <td>21356</td>\n",
       "    </tr>\n",
       "    <tr>\n",
       "      <th>2</th>\n",
       "      <td>8912fc0c3bbf1e2fbf35819e21706718</td>\n",
       "      <td>santarem</td>\n",
       "      <td>PA</td>\n",
       "      <td>c1d2b34febe9cd269e378117d6681172</td>\n",
       "      <td>2017-11-09 00:50:13</td>\n",
       "      <td>2</td>\n",
       "      <td>a9516a079e37a9c9c36b9b78b10169e8</td>\n",
       "      <td>112.99</td>\n",
       "      <td>7fc63200f12eebb5f387856afdd63db8</td>\n",
       "      <td>1</td>\n",
       "      <td>-2.441535</td>\n",
       "      <td>-54.720801</td>\n",
       "      <td>moveis_escritorio</td>\n",
       "      <td>2</td>\n",
       "      <td>52020</td>\n",
       "      <td>21356</td>\n",
       "    </tr>\n",
       "    <tr>\n",
       "      <th>3</th>\n",
       "      <td>f0ac8e5a239118859b1734e1087cbb1f</td>\n",
       "      <td>nova santa rita</td>\n",
       "      <td>RS</td>\n",
       "      <td>b1a5d5365d330d10485e0203d54ab9e8</td>\n",
       "      <td>2017-05-07 20:11:26</td>\n",
       "      <td>1</td>\n",
       "      <td>a9516a079e37a9c9c36b9b78b10169e8</td>\n",
       "      <td>124.99</td>\n",
       "      <td>251191809e37c1cffc16865947c18a4d</td>\n",
       "      <td>3</td>\n",
       "      <td>-29.879675</td>\n",
       "      <td>-51.272093</td>\n",
       "      <td>moveis_escritorio</td>\n",
       "      <td>1</td>\n",
       "      <td>91607</td>\n",
       "      <td>21356</td>\n",
       "    </tr>\n",
       "    <tr>\n",
       "      <th>4</th>\n",
       "      <td>6bc8d08963a135220ed6c6d098831f84</td>\n",
       "      <td>mage</td>\n",
       "      <td>RJ</td>\n",
       "      <td>2e604b3614664aa66867856dba7e61b7</td>\n",
       "      <td>2018-02-03 19:45:40</td>\n",
       "      <td>1</td>\n",
       "      <td>a9516a079e37a9c9c36b9b78b10169e8</td>\n",
       "      <td>106.99</td>\n",
       "      <td>f7123bac5b91a0e2e38d8b41fd1206f4</td>\n",
       "      <td>4</td>\n",
       "      <td>-22.610299</td>\n",
       "      <td>-43.176850</td>\n",
       "      <td>moveis_escritorio</td>\n",
       "      <td>1</td>\n",
       "      <td>40815</td>\n",
       "      <td>21356</td>\n",
       "    </tr>\n",
       "  </tbody>\n",
       "</table>\n",
       "</div>"
      ],
      "text/plain": [
       "                        customer_id    customer_city customer_state  \\\n",
       "0  06b8999e2fba1a1fbc88172c00ba8bc7           franca             SP   \n",
       "1  8912fc0c3bbf1e2fbf35819e21706718         santarem             PA   \n",
       "2  8912fc0c3bbf1e2fbf35819e21706718         santarem             PA   \n",
       "3  f0ac8e5a239118859b1734e1087cbb1f  nova santa rita             RS   \n",
       "4  6bc8d08963a135220ed6c6d098831f84             mage             RJ   \n",
       "\n",
       "                           order_id order_purchase_timestamp  order_item_id  \\\n",
       "0  00e7ee1b050b8499577073aeb2a297a1      2017-05-16 15:05:35              1   \n",
       "1  c1d2b34febe9cd269e378117d6681172      2017-11-09 00:50:13              1   \n",
       "2  c1d2b34febe9cd269e378117d6681172      2017-11-09 00:50:13              2   \n",
       "3  b1a5d5365d330d10485e0203d54ab9e8      2017-05-07 20:11:26              1   \n",
       "4  2e604b3614664aa66867856dba7e61b7      2018-02-03 19:45:40              1   \n",
       "\n",
       "                         product_id   price                         review_id  \\\n",
       "0  a9516a079e37a9c9c36b9b78b10169e8  124.99  88b8b52d46df026a9d1ad2136a59b30b   \n",
       "1  a9516a079e37a9c9c36b9b78b10169e8  112.99  7fc63200f12eebb5f387856afdd63db8   \n",
       "2  a9516a079e37a9c9c36b9b78b10169e8  112.99  7fc63200f12eebb5f387856afdd63db8   \n",
       "3  a9516a079e37a9c9c36b9b78b10169e8  124.99  251191809e37c1cffc16865947c18a4d   \n",
       "4  a9516a079e37a9c9c36b9b78b10169e8  106.99  f7123bac5b91a0e2e38d8b41fd1206f4   \n",
       "\n",
       "   review_score  customer_lat  customer_long product_category_name  \\\n",
       "0             4    -20.500253     -47.400367     moveis_escritorio   \n",
       "1             1     -2.441535     -54.720801     moveis_escritorio   \n",
       "2             1     -2.441535     -54.720801     moveis_escritorio   \n",
       "3             3    -29.879675     -51.272093     moveis_escritorio   \n",
       "4             4    -22.610299     -43.176850     moveis_escritorio   \n",
       "\n",
       "   quantidade_item  customer_id_code  product_id_code  \n",
       "0                1              2561            21356  \n",
       "1                2             52020            21356  \n",
       "2                2             52020            21356  \n",
       "3                1             91607            21356  \n",
       "4                1             40815            21356  "
      ]
     },
     "execution_count": 77,
     "metadata": {},
     "output_type": "execute_result"
    }
   ],
   "source": [
    "df.head()"
   ]
  },
  {
   "cell_type": "code",
   "execution_count": 82,
   "id": "ff7430af",
   "metadata": {},
   "outputs": [],
   "source": [
    "def compute_product_similarity_count(sparse_matrix, df, product_id_code):\n",
    "    similarity = cosine_similarity(sparse_matrix.T, dense_output = False)\n",
    "    no_of_similar_products = df.loc[product_id_code][6], similarity[product_id_code].count_nonzero()\n",
    "    return no_of_similar_products"
   ]
  },
  {
   "cell_type": "code",
   "execution_count": 88,
   "id": "ba392c00",
   "metadata": {},
   "outputs": [
    {
     "name": "stdout",
     "output_type": "stream",
     "text": [
      "Produtos Similares = ('11875b30b49585209e608f40e8082e65', 2)\n"
     ]
    }
   ],
   "source": [
    "similar_products = compute_product_similarity_count(train_sparse_data, df, 21356)\n",
    "print(\"Produtos Similares = {}\".format(similar_products))\n"
   ]
  },
  {
   "cell_type": "code",
   "execution_count": 85,
   "id": "3eb9d84e",
   "metadata": {},
   "outputs": [
    {
     "data": {
      "text/plain": [
       "customer_id                 b71cb835be11fec9d0e0903e4d9acefe\n",
       "customer_city                                      canoinhas\n",
       "customer_state                                            SC\n",
       "order_id                    77e30dea9bbb161e9d91918418f4aafa\n",
       "order_purchase_timestamp                 2017-08-03 07:42:32\n",
       "order_item_id                                              1\n",
       "product_id                  11875b30b49585209e608f40e8082e65\n",
       "price                                                     65\n",
       "review_id                   2f7a94c9b1a0ae1ad24233743ccc6790\n",
       "review_score                                               5\n",
       "customer_lat                                         -26.181\n",
       "customer_long                                       -50.3732\n",
       "product_category_name                          esporte_lazer\n",
       "quantidade_item                                            1\n",
       "customer_id_code                                       69824\n",
       "product_id_code                                         2268\n",
       "Name: 21356, dtype: object"
      ]
     },
     "execution_count": 85,
     "metadata": {},
     "output_type": "execute_result"
    }
   ],
   "source": [
    "df.loc[21356]"
   ]
  },
  {
   "cell_type": "code",
   "execution_count": 89,
   "id": "41a18d83",
   "metadata": {},
   "outputs": [],
   "source": [
    "def get_sample_sparse_matrix(sparse_matrix, no_of_users, no_of_products):\n",
    "    users, products, review_score = sparse.find(sparse_matrix)\n",
    "    uniq_users = np.unique(users)\n",
    "    uniq_products = np.unique(products)\n",
    "    np.random.seed(15)\n",
    "    user = np.random.choice(uniq_users, no_of_users, replace = False)\n",
    "    product = np.random.choice(uniq_products, no_of_products, replace = True)\n",
    "    mask = np.logical_and(np.isin(users, user), np.isin(products, products))\n",
    "    sparse_matrix = sparse.csr_matrix((review_score[mask], (users[mask], products[mask])), shape = (max(user)+1, max(product)+1))\n",
    "    \n",
    "    return sparse_matrix"
   ]
  },
  {
   "cell_type": "code",
   "execution_count": 93,
   "id": "f578aa04",
   "metadata": {},
   "outputs": [
    {
     "ename": "ValueError",
     "evalue": "column index exceeds matrix dimensions",
     "output_type": "error",
     "traceback": [
      "\u001b[0;31m---------------------------------------------------------------------------\u001b[0m",
      "\u001b[0;31mValueError\u001b[0m                                Traceback (most recent call last)",
      "\u001b[0;32m<ipython-input-93-0d78997f2dca>\u001b[0m in \u001b[0;36m<module>\u001b[0;34m\u001b[0m\n\u001b[0;32m----> 1\u001b[0;31m \u001b[0mtrain_sample_sparse_matrix\u001b[0m \u001b[0;34m=\u001b[0m \u001b[0mget_sample_sparse_matrix\u001b[0m\u001b[0;34m(\u001b[0m\u001b[0mtrain_sparse_data\u001b[0m\u001b[0;34m,\u001b[0m \u001b[0;36m20\u001b[0m\u001b[0;34m,\u001b[0m \u001b[0;36m2\u001b[0m\u001b[0;34m)\u001b[0m\u001b[0;34m\u001b[0m\u001b[0;34m\u001b[0m\u001b[0m\n\u001b[0m\u001b[1;32m      2\u001b[0m \u001b[0;34m\u001b[0m\u001b[0m\n\u001b[1;32m      3\u001b[0m \u001b[0mtest_sparse_matrix_matrix\u001b[0m \u001b[0;34m=\u001b[0m \u001b[0mget_sample_sparse_matrix\u001b[0m\u001b[0;34m(\u001b[0m\u001b[0mtest_sparse_data\u001b[0m\u001b[0;34m,\u001b[0m \u001b[0;36m20\u001b[0m\u001b[0;34m,\u001b[0m \u001b[0;36m2\u001b[0m\u001b[0;34m)\u001b[0m\u001b[0;34m\u001b[0m\u001b[0;34m\u001b[0m\u001b[0m\n",
      "\u001b[0;32m<ipython-input-89-f9249faef9d4>\u001b[0m in \u001b[0;36mget_sample_sparse_matrix\u001b[0;34m(sparse_matrix, no_of_users, no_of_products)\u001b[0m\n\u001b[1;32m      7\u001b[0m     \u001b[0mproduct\u001b[0m \u001b[0;34m=\u001b[0m \u001b[0mnp\u001b[0m\u001b[0;34m.\u001b[0m\u001b[0mrandom\u001b[0m\u001b[0;34m.\u001b[0m\u001b[0mchoice\u001b[0m\u001b[0;34m(\u001b[0m\u001b[0muniq_products\u001b[0m\u001b[0;34m,\u001b[0m \u001b[0mno_of_products\u001b[0m\u001b[0;34m,\u001b[0m \u001b[0mreplace\u001b[0m \u001b[0;34m=\u001b[0m \u001b[0;32mTrue\u001b[0m\u001b[0;34m)\u001b[0m\u001b[0;34m\u001b[0m\u001b[0;34m\u001b[0m\u001b[0m\n\u001b[1;32m      8\u001b[0m     \u001b[0mmask\u001b[0m \u001b[0;34m=\u001b[0m \u001b[0mnp\u001b[0m\u001b[0;34m.\u001b[0m\u001b[0mlogical_and\u001b[0m\u001b[0;34m(\u001b[0m\u001b[0mnp\u001b[0m\u001b[0;34m.\u001b[0m\u001b[0misin\u001b[0m\u001b[0;34m(\u001b[0m\u001b[0musers\u001b[0m\u001b[0;34m,\u001b[0m \u001b[0muser\u001b[0m\u001b[0;34m)\u001b[0m\u001b[0;34m,\u001b[0m \u001b[0mnp\u001b[0m\u001b[0;34m.\u001b[0m\u001b[0misin\u001b[0m\u001b[0;34m(\u001b[0m\u001b[0mproducts\u001b[0m\u001b[0;34m,\u001b[0m \u001b[0mproducts\u001b[0m\u001b[0;34m)\u001b[0m\u001b[0;34m)\u001b[0m\u001b[0;34m\u001b[0m\u001b[0;34m\u001b[0m\u001b[0m\n\u001b[0;32m----> 9\u001b[0;31m     \u001b[0msparse_matrix\u001b[0m \u001b[0;34m=\u001b[0m \u001b[0msparse\u001b[0m\u001b[0;34m.\u001b[0m\u001b[0mcsr_matrix\u001b[0m\u001b[0;34m(\u001b[0m\u001b[0;34m(\u001b[0m\u001b[0mreview_score\u001b[0m\u001b[0;34m[\u001b[0m\u001b[0mmask\u001b[0m\u001b[0;34m]\u001b[0m\u001b[0;34m,\u001b[0m \u001b[0;34m(\u001b[0m\u001b[0musers\u001b[0m\u001b[0;34m[\u001b[0m\u001b[0mmask\u001b[0m\u001b[0;34m]\u001b[0m\u001b[0;34m,\u001b[0m \u001b[0mproducts\u001b[0m\u001b[0;34m[\u001b[0m\u001b[0mmask\u001b[0m\u001b[0;34m]\u001b[0m\u001b[0;34m)\u001b[0m\u001b[0;34m)\u001b[0m\u001b[0;34m,\u001b[0m \u001b[0mshape\u001b[0m \u001b[0;34m=\u001b[0m \u001b[0;34m(\u001b[0m\u001b[0mmax\u001b[0m\u001b[0;34m(\u001b[0m\u001b[0muser\u001b[0m\u001b[0;34m)\u001b[0m\u001b[0;34m+\u001b[0m\u001b[0;36m1\u001b[0m\u001b[0;34m,\u001b[0m \u001b[0mmax\u001b[0m\u001b[0;34m(\u001b[0m\u001b[0mproduct\u001b[0m\u001b[0;34m)\u001b[0m\u001b[0;34m+\u001b[0m\u001b[0;36m1\u001b[0m\u001b[0;34m)\u001b[0m\u001b[0;34m)\u001b[0m\u001b[0;34m\u001b[0m\u001b[0;34m\u001b[0m\u001b[0m\n\u001b[0m\u001b[1;32m     10\u001b[0m     \u001b[0;32mreturn\u001b[0m \u001b[0msparse_matrix\u001b[0m\u001b[0;34m\u001b[0m\u001b[0;34m\u001b[0m\u001b[0m\n",
      "\u001b[0;32m~usr/local/lib/python3.6/site-packages/scipy/sparse/compressed.py\u001b[0m in \u001b[0;36m__init__\u001b[0;34m(self, arg1, shape, dtype, copy)\u001b[0m\n\u001b[1;32m     52\u001b[0m                     \u001b[0;31m# (data, ij) format\u001b[0m\u001b[0;34m\u001b[0m\u001b[0;34m\u001b[0m\u001b[0;34m\u001b[0m\u001b[0m\n\u001b[1;32m     53\u001b[0m                     \u001b[0;32mfrom\u001b[0m \u001b[0;34m.\u001b[0m\u001b[0mcoo\u001b[0m \u001b[0;32mimport\u001b[0m \u001b[0mcoo_matrix\u001b[0m\u001b[0;34m\u001b[0m\u001b[0;34m\u001b[0m\u001b[0m\n\u001b[0;32m---> 54\u001b[0;31m                     \u001b[0mother\u001b[0m \u001b[0;34m=\u001b[0m \u001b[0mself\u001b[0m\u001b[0;34m.\u001b[0m\u001b[0m__class__\u001b[0m\u001b[0;34m(\u001b[0m\u001b[0mcoo_matrix\u001b[0m\u001b[0;34m(\u001b[0m\u001b[0marg1\u001b[0m\u001b[0;34m,\u001b[0m \u001b[0mshape\u001b[0m\u001b[0;34m=\u001b[0m\u001b[0mshape\u001b[0m\u001b[0;34m)\u001b[0m\u001b[0;34m)\u001b[0m\u001b[0;34m\u001b[0m\u001b[0;34m\u001b[0m\u001b[0m\n\u001b[0m\u001b[1;32m     55\u001b[0m                     \u001b[0mself\u001b[0m\u001b[0;34m.\u001b[0m\u001b[0m_set_self\u001b[0m\u001b[0;34m(\u001b[0m\u001b[0mother\u001b[0m\u001b[0;34m)\u001b[0m\u001b[0;34m\u001b[0m\u001b[0;34m\u001b[0m\u001b[0m\n\u001b[1;32m     56\u001b[0m                 \u001b[0;32melif\u001b[0m \u001b[0mlen\u001b[0m\u001b[0;34m(\u001b[0m\u001b[0marg1\u001b[0m\u001b[0;34m)\u001b[0m \u001b[0;34m==\u001b[0m \u001b[0;36m3\u001b[0m\u001b[0;34m:\u001b[0m\u001b[0;34m\u001b[0m\u001b[0;34m\u001b[0m\u001b[0m\n",
      "\u001b[0;32m~usr/local/lib/python3.6/site-packages/scipy/sparse/coo.py\u001b[0m in \u001b[0;36m__init__\u001b[0;34m(self, arg1, shape, dtype, copy)\u001b[0m\n\u001b[1;32m    194\u001b[0m             \u001b[0mself\u001b[0m\u001b[0;34m.\u001b[0m\u001b[0mdata\u001b[0m \u001b[0;34m=\u001b[0m \u001b[0mself\u001b[0m\u001b[0;34m.\u001b[0m\u001b[0mdata\u001b[0m\u001b[0;34m.\u001b[0m\u001b[0mastype\u001b[0m\u001b[0;34m(\u001b[0m\u001b[0mdtype\u001b[0m\u001b[0;34m,\u001b[0m \u001b[0mcopy\u001b[0m\u001b[0;34m=\u001b[0m\u001b[0;32mFalse\u001b[0m\u001b[0;34m)\u001b[0m\u001b[0;34m\u001b[0m\u001b[0;34m\u001b[0m\u001b[0m\n\u001b[1;32m    195\u001b[0m \u001b[0;34m\u001b[0m\u001b[0m\n\u001b[0;32m--> 196\u001b[0;31m         \u001b[0mself\u001b[0m\u001b[0;34m.\u001b[0m\u001b[0m_check\u001b[0m\u001b[0;34m(\u001b[0m\u001b[0;34m)\u001b[0m\u001b[0;34m\u001b[0m\u001b[0;34m\u001b[0m\u001b[0m\n\u001b[0m\u001b[1;32m    197\u001b[0m \u001b[0;34m\u001b[0m\u001b[0m\n\u001b[1;32m    198\u001b[0m     \u001b[0;32mdef\u001b[0m \u001b[0mreshape\u001b[0m\u001b[0;34m(\u001b[0m\u001b[0mself\u001b[0m\u001b[0;34m,\u001b[0m \u001b[0;34m*\u001b[0m\u001b[0margs\u001b[0m\u001b[0;34m,\u001b[0m \u001b[0;34m**\u001b[0m\u001b[0mkwargs\u001b[0m\u001b[0;34m)\u001b[0m\u001b[0;34m:\u001b[0m\u001b[0;34m\u001b[0m\u001b[0;34m\u001b[0m\u001b[0m\n",
      "\u001b[0;32m~usr/local/lib/python3.6/site-packages/scipy/sparse/coo.py\u001b[0m in \u001b[0;36m_check\u001b[0;34m(self)\u001b[0m\n\u001b[1;32m    283\u001b[0m                 \u001b[0;32mraise\u001b[0m \u001b[0mValueError\u001b[0m\u001b[0;34m(\u001b[0m\u001b[0;34m'row index exceeds matrix dimensions'\u001b[0m\u001b[0;34m)\u001b[0m\u001b[0;34m\u001b[0m\u001b[0;34m\u001b[0m\u001b[0m\n\u001b[1;32m    284\u001b[0m             \u001b[0;32mif\u001b[0m \u001b[0mself\u001b[0m\u001b[0;34m.\u001b[0m\u001b[0mcol\u001b[0m\u001b[0;34m.\u001b[0m\u001b[0mmax\u001b[0m\u001b[0;34m(\u001b[0m\u001b[0;34m)\u001b[0m \u001b[0;34m>=\u001b[0m \u001b[0mself\u001b[0m\u001b[0;34m.\u001b[0m\u001b[0mshape\u001b[0m\u001b[0;34m[\u001b[0m\u001b[0;36m1\u001b[0m\u001b[0;34m]\u001b[0m\u001b[0;34m:\u001b[0m\u001b[0;34m\u001b[0m\u001b[0;34m\u001b[0m\u001b[0m\n\u001b[0;32m--> 285\u001b[0;31m                 \u001b[0;32mraise\u001b[0m \u001b[0mValueError\u001b[0m\u001b[0;34m(\u001b[0m\u001b[0;34m'column index exceeds matrix dimensions'\u001b[0m\u001b[0;34m)\u001b[0m\u001b[0;34m\u001b[0m\u001b[0;34m\u001b[0m\u001b[0m\n\u001b[0m\u001b[1;32m    286\u001b[0m             \u001b[0;32mif\u001b[0m \u001b[0mself\u001b[0m\u001b[0;34m.\u001b[0m\u001b[0mrow\u001b[0m\u001b[0;34m.\u001b[0m\u001b[0mmin\u001b[0m\u001b[0;34m(\u001b[0m\u001b[0;34m)\u001b[0m \u001b[0;34m<\u001b[0m \u001b[0;36m0\u001b[0m\u001b[0;34m:\u001b[0m\u001b[0;34m\u001b[0m\u001b[0;34m\u001b[0m\u001b[0m\n\u001b[1;32m    287\u001b[0m                 \u001b[0;32mraise\u001b[0m \u001b[0mValueError\u001b[0m\u001b[0;34m(\u001b[0m\u001b[0;34m'negative row index found'\u001b[0m\u001b[0;34m)\u001b[0m\u001b[0;34m\u001b[0m\u001b[0;34m\u001b[0m\u001b[0m\n",
      "\u001b[0;31mValueError\u001b[0m: column index exceeds matrix dimensions"
     ]
    }
   ],
   "source": [
    "train_sample_sparse_matrix = get_sample_sparse_matrix(train_sparse_data, 20, 2)\n",
    "\n",
    "test_sparse_matrix_matrix = get_sample_sparse_matrix(test_sparse_data, 20, 2)\n"
   ]
  },
  {
   "cell_type": "code",
   "execution_count": null,
   "id": "0f0c456b",
   "metadata": {},
   "outputs": [],
   "source": []
  }
 ],
 "metadata": {
  "kernelspec": {
   "display_name": "Python 3",
   "language": "python",
   "name": "python3"
  },
  "language_info": {
   "codemirror_mode": {
    "name": "ipython",
    "version": 3
   },
   "file_extension": ".py",
   "mimetype": "text/x-python",
   "name": "python",
   "nbconvert_exporter": "python",
   "pygments_lexer": "ipython3",
   "version": "3.6.13"
  }
 },
 "nbformat": 4,
 "nbformat_minor": 5
}
