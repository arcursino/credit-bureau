{
 "cells": [
  {
   "cell_type": "code",
   "execution_count": 1,
   "id": "eleven-bikini",
   "metadata": {},
   "outputs": [
    {
     "name": "stderr",
     "output_type": "stream",
     "text": [
      "/usr/local/lib/python3.6/site-packages/geopandas/_compat.py:110: UserWarning: The Shapely GEOS version (3.8.0-CAPI-1.13.1 ) is incompatible with the GEOS version PyGEOS was compiled with (3.9.0-CAPI-1.16.2). Conversions between both will be slow.\n",
      "  shapely_geos_version, geos_capi_version_string\n"
     ]
    }
   ],
   "source": [
    "import pandas as pd\n",
    "import seaborn as sns\n",
    "import numpy as np\n",
    "import matplotlib.pyplot as plt\n",
    "import geopandas"
   ]
  },
  {
   "cell_type": "code",
   "execution_count": 2,
   "id": "increasing-cable",
   "metadata": {},
   "outputs": [],
   "source": [
    "olist = pd.read_csv('olist_dataset.csv', sep=',')\n",
    "data = geopandas.read_file('dados.json', driver='GeoJSON')"
   ]
  },
  {
   "cell_type": "code",
   "execution_count": 3,
   "id": "incomplete-rebel",
   "metadata": {},
   "outputs": [
    {
     "data": {
      "text/html": [
       "<div>\n",
       "<style scoped>\n",
       "    .dataframe tbody tr th:only-of-type {\n",
       "        vertical-align: middle;\n",
       "    }\n",
       "\n",
       "    .dataframe tbody tr th {\n",
       "        vertical-align: top;\n",
       "    }\n",
       "\n",
       "    .dataframe thead th {\n",
       "        text-align: right;\n",
       "    }\n",
       "</style>\n",
       "<table border=\"1\" class=\"dataframe\">\n",
       "  <thead>\n",
       "    <tr style=\"text-align: right;\">\n",
       "      <th></th>\n",
       "      <th>customer_id</th>\n",
       "      <th>customer_unique_id</th>\n",
       "      <th>customer_zip_code_prefix</th>\n",
       "      <th>customer_city</th>\n",
       "      <th>customer_state</th>\n",
       "      <th>product_id</th>\n",
       "      <th>product_category_name</th>\n",
       "      <th>product_name_lenght</th>\n",
       "      <th>product_description_lenght</th>\n",
       "      <th>product_photos_qty</th>\n",
       "      <th>...</th>\n",
       "      <th>seller_id</th>\n",
       "      <th>shipping_limit_date</th>\n",
       "      <th>price</th>\n",
       "      <th>freight_value</th>\n",
       "      <th>order_status</th>\n",
       "      <th>order_purchase_timestamp</th>\n",
       "      <th>order_approved_at</th>\n",
       "      <th>order_delivered_carrier_date</th>\n",
       "      <th>order_delivered_customer_date</th>\n",
       "      <th>order_estimated_delivery_date</th>\n",
       "    </tr>\n",
       "  </thead>\n",
       "  <tbody>\n",
       "    <tr>\n",
       "      <th>0</th>\n",
       "      <td>06b8999e2fba1a1fbc88172c00ba8bc7</td>\n",
       "      <td>861eff4711a542e4b93843c6dd7febb0</td>\n",
       "      <td>14409</td>\n",
       "      <td>franca</td>\n",
       "      <td>SP</td>\n",
       "      <td>a9516a079e37a9c9c36b9b78b10169e8</td>\n",
       "      <td>moveis_escritorio</td>\n",
       "      <td>41.0</td>\n",
       "      <td>1141.0</td>\n",
       "      <td>1.0</td>\n",
       "      <td>...</td>\n",
       "      <td>7c67e1448b00f6e969d365cea6b010ab</td>\n",
       "      <td>2017-05-22 15:22:12</td>\n",
       "      <td>124.99</td>\n",
       "      <td>21.88</td>\n",
       "      <td>delivered</td>\n",
       "      <td>2017-05-16 15:05:35</td>\n",
       "      <td>2017-05-16 15:22:12</td>\n",
       "      <td>2017-05-23 10:47:57</td>\n",
       "      <td>2017-05-25 10:35:35</td>\n",
       "      <td>2017-06-05 00:00:00</td>\n",
       "    </tr>\n",
       "    <tr>\n",
       "      <th>1</th>\n",
       "      <td>18955e83d337fd6b2def6b18a428ac77</td>\n",
       "      <td>290c77bc529b7ac935b93aa66c333dc3</td>\n",
       "      <td>9790</td>\n",
       "      <td>sao bernardo do campo</td>\n",
       "      <td>SP</td>\n",
       "      <td>4aa6014eceb682077f9dc4bffebc05b0</td>\n",
       "      <td>utilidades_domesticas</td>\n",
       "      <td>43.0</td>\n",
       "      <td>1002.0</td>\n",
       "      <td>3.0</td>\n",
       "      <td>...</td>\n",
       "      <td>b8bc237ba3788b23da09c0f1f3a3288c</td>\n",
       "      <td>2018-01-18 20:58:32</td>\n",
       "      <td>289.00</td>\n",
       "      <td>46.48</td>\n",
       "      <td>delivered</td>\n",
       "      <td>2018-01-12 20:48:24</td>\n",
       "      <td>2018-01-12 20:58:32</td>\n",
       "      <td>2018-01-15 17:14:59</td>\n",
       "      <td>2018-01-29 12:41:19</td>\n",
       "      <td>2018-02-06 00:00:00</td>\n",
       "    </tr>\n",
       "  </tbody>\n",
       "</table>\n",
       "<p>2 rows × 30 columns</p>\n",
       "</div>"
      ],
      "text/plain": [
       "                        customer_id                customer_unique_id  \\\n",
       "0  06b8999e2fba1a1fbc88172c00ba8bc7  861eff4711a542e4b93843c6dd7febb0   \n",
       "1  18955e83d337fd6b2def6b18a428ac77  290c77bc529b7ac935b93aa66c333dc3   \n",
       "\n",
       "   customer_zip_code_prefix          customer_city customer_state  \\\n",
       "0                     14409                 franca             SP   \n",
       "1                      9790  sao bernardo do campo             SP   \n",
       "\n",
       "                         product_id  product_category_name  \\\n",
       "0  a9516a079e37a9c9c36b9b78b10169e8      moveis_escritorio   \n",
       "1  4aa6014eceb682077f9dc4bffebc05b0  utilidades_domesticas   \n",
       "\n",
       "   product_name_lenght  product_description_lenght  product_photos_qty  ...  \\\n",
       "0                 41.0                      1141.0                 1.0  ...   \n",
       "1                 43.0                      1002.0                 3.0  ...   \n",
       "\n",
       "                          seller_id  shipping_limit_date   price  \\\n",
       "0  7c67e1448b00f6e969d365cea6b010ab  2017-05-22 15:22:12  124.99   \n",
       "1  b8bc237ba3788b23da09c0f1f3a3288c  2018-01-18 20:58:32  289.00   \n",
       "\n",
       "   freight_value order_status  order_purchase_timestamp    order_approved_at  \\\n",
       "0          21.88    delivered       2017-05-16 15:05:35  2017-05-16 15:22:12   \n",
       "1          46.48    delivered       2018-01-12 20:48:24  2018-01-12 20:58:32   \n",
       "\n",
       "   order_delivered_carrier_date  order_delivered_customer_date  \\\n",
       "0           2017-05-23 10:47:57            2017-05-25 10:35:35   \n",
       "1           2018-01-15 17:14:59            2018-01-29 12:41:19   \n",
       "\n",
       "   order_estimated_delivery_date  \n",
       "0            2017-06-05 00:00:00  \n",
       "1            2018-02-06 00:00:00  \n",
       "\n",
       "[2 rows x 30 columns]"
      ]
     },
     "execution_count": 3,
     "metadata": {},
     "output_type": "execute_result"
    }
   ],
   "source": [
    "olist.head(2)"
   ]
  },
  {
   "cell_type": "code",
   "execution_count": 4,
   "id": "different-problem",
   "metadata": {},
   "outputs": [
    {
     "data": {
      "text/plain": [
       "Index(['customer_id', 'customer_unique_id', 'customer_zip_code_prefix',\n",
       "       'customer_city', 'customer_state', 'product_id',\n",
       "       'product_category_name', 'product_name_lenght',\n",
       "       'product_description_lenght', 'product_photos_qty', 'product_weight_g',\n",
       "       'product_length_cm', 'product_height_cm', 'product_width_cm',\n",
       "       'order_id', 'payment_sequential', 'payment_type',\n",
       "       'payment_installments', 'payment_value', 'order_item_id', 'seller_id',\n",
       "       'shipping_limit_date', 'price', 'freight_value', 'order_status',\n",
       "       'order_purchase_timestamp', 'order_approved_at',\n",
       "       'order_delivered_carrier_date', 'order_delivered_customer_date',\n",
       "       'order_estimated_delivery_date'],\n",
       "      dtype='object')"
      ]
     },
     "execution_count": 4,
     "metadata": {},
     "output_type": "execute_result"
    }
   ],
   "source": [
    "olist.columns"
   ]
  },
  {
   "cell_type": "code",
   "execution_count": 5,
   "id": "external-chester",
   "metadata": {},
   "outputs": [],
   "source": [
    "olist['order_purchase_timestamp'] = pd.to_datetime(olist['order_purchase_timestamp'])\n",
    "olist['ano'] = olist['order_purchase_timestamp'].apply(lambda x: x.year)"
   ]
  },
  {
   "cell_type": "code",
   "execution_count": 6,
   "id": "rubber-sellers",
   "metadata": {},
   "outputs": [],
   "source": [
    "olist.sort_values(by=['ano'], inplace=True)"
   ]
  },
  {
   "cell_type": "code",
   "execution_count": 7,
   "id": "personal-headquarters",
   "metadata": {},
   "outputs": [
    {
     "data": {
      "text/html": [
       "<div>\n",
       "<style scoped>\n",
       "    .dataframe tbody tr th:only-of-type {\n",
       "        vertical-align: middle;\n",
       "    }\n",
       "\n",
       "    .dataframe tbody tr th {\n",
       "        vertical-align: top;\n",
       "    }\n",
       "\n",
       "    .dataframe thead th {\n",
       "        text-align: right;\n",
       "    }\n",
       "</style>\n",
       "<table border=\"1\" class=\"dataframe\">\n",
       "  <thead>\n",
       "    <tr style=\"text-align: right;\">\n",
       "      <th></th>\n",
       "      <th>id</th>\n",
       "      <th>dat_nsc</th>\n",
       "      <th>renda</th>\n",
       "      <th>latitude</th>\n",
       "      <th>longitude</th>\n",
       "      <th>ano</th>\n",
       "      <th>mes</th>\n",
       "      <th>dia</th>\n",
       "      <th>hora</th>\n",
       "      <th>idade</th>\n",
       "      <th>geracoes</th>\n",
       "      <th>index_right</th>\n",
       "      <th>CD_MUN</th>\n",
       "      <th>NM_MUN</th>\n",
       "      <th>SIGLA_UF</th>\n",
       "      <th>AREA_KM2</th>\n",
       "      <th>qtd_cliente</th>\n",
       "      <th>geometry</th>\n",
       "    </tr>\n",
       "  </thead>\n",
       "  <tbody>\n",
       "    <tr>\n",
       "      <th>0</th>\n",
       "      <td>d6c0cc1d-eb61-486a-b5c3-50725ef44d61</td>\n",
       "      <td>1981-01-30T00:00:00</td>\n",
       "      <td>DE R$ 1.900,00 A R$ 3.800,00</td>\n",
       "      <td>-4.847580</td>\n",
       "      <td>-37.784390</td>\n",
       "      <td>1981.0</td>\n",
       "      <td>1.0</td>\n",
       "      <td>30.0</td>\n",
       "      <td>0.0</td>\n",
       "      <td>40.0</td>\n",
       "      <td>1980 a 1994 - Geração Y</td>\n",
       "      <td>985</td>\n",
       "      <td>2307007</td>\n",
       "      <td>Jaguaruana</td>\n",
       "      <td>CE</td>\n",
       "      <td>854.362</td>\n",
       "      <td>1.0</td>\n",
       "      <td>POINT (-37.78439 -4.84758)</td>\n",
       "    </tr>\n",
       "    <tr>\n",
       "      <th>1</th>\n",
       "      <td>da0067e7-aa6b-4355-b373-ca17f6ac3b44</td>\n",
       "      <td>1978-01-28T00:00:00</td>\n",
       "      <td>DE R$ 3.800,00 A R$ 7.600,00</td>\n",
       "      <td>-26.990118</td>\n",
       "      <td>-48.637165</td>\n",
       "      <td>1978.0</td>\n",
       "      <td>1.0</td>\n",
       "      <td>28.0</td>\n",
       "      <td>0.0</td>\n",
       "      <td>43.0</td>\n",
       "      <td>1960 a 1979 - Geração X</td>\n",
       "      <td>4337</td>\n",
       "      <td>4202008</td>\n",
       "      <td>Balneário Camboriú</td>\n",
       "      <td>SC</td>\n",
       "      <td>45.214</td>\n",
       "      <td>13.0</td>\n",
       "      <td>POINT (-48.63717 -26.99012)</td>\n",
       "    </tr>\n",
       "  </tbody>\n",
       "</table>\n",
       "</div>"
      ],
      "text/plain": [
       "                                     id              dat_nsc  \\\n",
       "0  d6c0cc1d-eb61-486a-b5c3-50725ef44d61  1981-01-30T00:00:00   \n",
       "1  da0067e7-aa6b-4355-b373-ca17f6ac3b44  1978-01-28T00:00:00   \n",
       "\n",
       "                          renda   latitude  longitude     ano  mes   dia  \\\n",
       "0  DE R$ 1.900,00 A R$ 3.800,00  -4.847580 -37.784390  1981.0  1.0  30.0   \n",
       "1  DE R$ 3.800,00 A R$ 7.600,00 -26.990118 -48.637165  1978.0  1.0  28.0   \n",
       "\n",
       "   hora  idade                 geracoes  index_right   CD_MUN  \\\n",
       "0   0.0   40.0  1980 a 1994 - Geração Y          985  2307007   \n",
       "1   0.0   43.0  1960 a 1979 - Geração X         4337  4202008   \n",
       "\n",
       "               NM_MUN SIGLA_UF  AREA_KM2  qtd_cliente  \\\n",
       "0          Jaguaruana       CE   854.362          1.0   \n",
       "1  Balneário Camboriú       SC    45.214         13.0   \n",
       "\n",
       "                      geometry  \n",
       "0   POINT (-37.78439 -4.84758)  \n",
       "1  POINT (-48.63717 -26.99012)  "
      ]
     },
     "execution_count": 7,
     "metadata": {},
     "output_type": "execute_result"
    }
   ],
   "source": [
    "data.head(2)"
   ]
  },
  {
   "cell_type": "code",
   "execution_count": 8,
   "id": "fiscal-decade",
   "metadata": {},
   "outputs": [
    {
     "data": {
      "text/plain": [
       "Index(['id', 'dat_nsc', 'renda', 'latitude', 'longitude', 'ano', 'mes', 'dia',\n",
       "       'hora', 'idade', 'geracoes', 'index_right', 'CD_MUN', 'NM_MUN',\n",
       "       'SIGLA_UF', 'AREA_KM2', 'qtd_cliente', 'geometry'],\n",
       "      dtype='object')"
      ]
     },
     "execution_count": 8,
     "metadata": {},
     "output_type": "execute_result"
    }
   ],
   "source": [
    "data.columns"
   ]
  },
  {
   "cell_type": "code",
   "execution_count": 9,
   "id": "prospective-florida",
   "metadata": {},
   "outputs": [
    {
     "data": {
      "text/plain": [
       "(8681, 18)"
      ]
     },
     "execution_count": 9,
     "metadata": {},
     "output_type": "execute_result"
    }
   ],
   "source": [
    "data.shape"
   ]
  },
  {
   "cell_type": "code",
   "execution_count": 10,
   "id": "corresponding-surprise",
   "metadata": {},
   "outputs": [
    {
     "data": {
      "text/plain": [
       "id             0\n",
       "dat_nsc        0\n",
       "renda          0\n",
       "latitude       0\n",
       "longitude      0\n",
       "ano            0\n",
       "mes            0\n",
       "dia            0\n",
       "hora           0\n",
       "idade          0\n",
       "geracoes       0\n",
       "index_right    0\n",
       "CD_MUN         0\n",
       "NM_MUN         0\n",
       "SIGLA_UF       0\n",
       "AREA_KM2       0\n",
       "qtd_cliente    0\n",
       "geometry       0\n",
       "dtype: int64"
      ]
     },
     "execution_count": 10,
     "metadata": {},
     "output_type": "execute_result"
    }
   ],
   "source": [
    "data.isnull().sum()"
   ]
  },
  {
   "cell_type": "code",
   "execution_count": 11,
   "id": "suffering-opinion",
   "metadata": {},
   "outputs": [],
   "source": [
    "olist = olist.rename(columns={\"customer_state\": \"SIGLA_UF\"})"
   ]
  },
  {
   "cell_type": "code",
   "execution_count": 12,
   "id": "ultimate-audio",
   "metadata": {},
   "outputs": [
    {
     "data": {
      "text/html": [
       "<div>\n",
       "<style scoped>\n",
       "    .dataframe tbody tr th:only-of-type {\n",
       "        vertical-align: middle;\n",
       "    }\n",
       "\n",
       "    .dataframe tbody tr th {\n",
       "        vertical-align: top;\n",
       "    }\n",
       "\n",
       "    .dataframe thead th {\n",
       "        text-align: right;\n",
       "    }\n",
       "</style>\n",
       "<table border=\"1\" class=\"dataframe\">\n",
       "  <thead>\n",
       "    <tr style=\"text-align: right;\">\n",
       "      <th></th>\n",
       "      <th>customer_id</th>\n",
       "      <th>customer_unique_id</th>\n",
       "      <th>customer_zip_code_prefix</th>\n",
       "      <th>customer_city</th>\n",
       "      <th>SIGLA_UF</th>\n",
       "      <th>product_id</th>\n",
       "      <th>product_category_name</th>\n",
       "      <th>product_name_lenght</th>\n",
       "      <th>product_description_lenght</th>\n",
       "      <th>product_photos_qty</th>\n",
       "      <th>...</th>\n",
       "      <th>shipping_limit_date</th>\n",
       "      <th>price</th>\n",
       "      <th>freight_value</th>\n",
       "      <th>order_status</th>\n",
       "      <th>order_purchase_timestamp</th>\n",
       "      <th>order_approved_at</th>\n",
       "      <th>order_delivered_carrier_date</th>\n",
       "      <th>order_delivered_customer_date</th>\n",
       "      <th>order_estimated_delivery_date</th>\n",
       "      <th>ano</th>\n",
       "    </tr>\n",
       "  </thead>\n",
       "  <tbody>\n",
       "    <tr>\n",
       "      <th>33819</th>\n",
       "      <td>bf3143805b420affe47047794eae0872</td>\n",
       "      <td>b139fbdcd53f8036eb05d3023fc97580</td>\n",
       "      <td>13390</td>\n",
       "      <td>rio das pedras</td>\n",
       "      <td>SP</td>\n",
       "      <td>a18c130946b89ab774bc5948fe71e2a5</td>\n",
       "      <td>consoles_games</td>\n",
       "      <td>53.0</td>\n",
       "      <td>520.0</td>\n",
       "      <td>6.0</td>\n",
       "      <td>...</td>\n",
       "      <td>2016-10-21 16:24:25</td>\n",
       "      <td>15.0</td>\n",
       "      <td>10.96</td>\n",
       "      <td>invoiced</td>\n",
       "      <td>2016-10-06 14:36:59</td>\n",
       "      <td>2016-10-06 15:41:47</td>\n",
       "      <td>NaN</td>\n",
       "      <td>NaN</td>\n",
       "      <td>2016-11-28 00:00:00</td>\n",
       "      <td>2016</td>\n",
       "    </tr>\n",
       "  </tbody>\n",
       "</table>\n",
       "<p>1 rows × 31 columns</p>\n",
       "</div>"
      ],
      "text/plain": [
       "                            customer_id                customer_unique_id  \\\n",
       "33819  bf3143805b420affe47047794eae0872  b139fbdcd53f8036eb05d3023fc97580   \n",
       "\n",
       "       customer_zip_code_prefix   customer_city SIGLA_UF  \\\n",
       "33819                     13390  rio das pedras       SP   \n",
       "\n",
       "                             product_id product_category_name  \\\n",
       "33819  a18c130946b89ab774bc5948fe71e2a5        consoles_games   \n",
       "\n",
       "       product_name_lenght  product_description_lenght  product_photos_qty  \\\n",
       "33819                 53.0                       520.0                 6.0   \n",
       "\n",
       "       ...  shipping_limit_date  price  freight_value  order_status  \\\n",
       "33819  ...  2016-10-21 16:24:25   15.0          10.96      invoiced   \n",
       "\n",
       "      order_purchase_timestamp    order_approved_at  \\\n",
       "33819      2016-10-06 14:36:59  2016-10-06 15:41:47   \n",
       "\n",
       "      order_delivered_carrier_date  order_delivered_customer_date  \\\n",
       "33819                          NaN                            NaN   \n",
       "\n",
       "       order_estimated_delivery_date   ano  \n",
       "33819            2016-11-28 00:00:00  2016  \n",
       "\n",
       "[1 rows x 31 columns]"
      ]
     },
     "execution_count": 12,
     "metadata": {},
     "output_type": "execute_result"
    }
   ],
   "source": [
    "olist.head(1)"
   ]
  },
  {
   "cell_type": "code",
   "execution_count": 13,
   "id": "enclosed-figure",
   "metadata": {},
   "outputs": [],
   "source": [
    "olist['preco_medio_uf'] = olist['price'].groupby(olist['SIGLA_UF']).transform('mean')"
   ]
  },
  {
   "cell_type": "code",
   "execution_count": 14,
   "id": "finished-juice",
   "metadata": {},
   "outputs": [
    {
     "data": {
      "text/plain": [
       "count    117601.000000\n",
       "mean        120.824783\n",
       "std          14.106826\n",
       "min         109.917418\n",
       "25%         109.917418\n",
       "50%         120.225607\n",
       "75%         124.849231\n",
       "max         193.624945\n",
       "Name: preco_medio_uf, dtype: float64"
      ]
     },
     "execution_count": 14,
     "metadata": {},
     "output_type": "execute_result"
    }
   ],
   "source": [
    "olist.preco_medio_uf.describe()"
   ]
  },
  {
   "cell_type": "code",
   "execution_count": 15,
   "id": "utility-wallace",
   "metadata": {},
   "outputs": [
    {
     "data": {
      "text/plain": [
       "array(['consoles_games', 'informatica_acessorios', 'brinquedos',\n",
       "       'cama_mesa_banho', 'ferramentas_jardim', 'perfumaria',\n",
       "       'moveis_decoracao', 'beleza_saude', 'cool_stuff',\n",
       "       'fashion_bolsas_e_acessorios', 'climatizacao', nan,\n",
       "       'industria_comercio_e_negocios', 'fashion_roupa_feminina',\n",
       "       'moveis_escritorio', 'utilidades_domesticas', 'esporte_lazer',\n",
       "       'market_place', 'automotivo', 'alimentos', 'telefonia',\n",
       "       'eletronicos', 'relogios_presentes', 'telefonia_fixa', 'bebes',\n",
       "       'fashion_calcados', 'audio', 'pet_shop', 'livros_interesse_geral',\n",
       "       'livros_tecnicos', 'fashion_roupa_masculina', 'fraldas_higiene',\n",
       "       'papelaria', 'livros_importados', 'sinalizacao_e_seguranca',\n",
       "       'casa_conforto', 'eletroportateis', 'eletrodomesticos_2',\n",
       "       'malas_acessorios', 'moveis_sala', 'artigos_de_natal',\n",
       "       'eletrodomesticos', 'construcao_ferramentas_jardim',\n",
       "       'construcao_ferramentas_construcao', 'casa_construcao',\n",
       "       'moveis_cozinha_area_de_servico_jantar_e_jardim',\n",
       "       'instrumentos_musicais', 'artes', 'artigos_de_festas', 'pcs',\n",
       "       'moveis_quarto', 'musica', 'fashion_underwear_e_moda_praia',\n",
       "       'bebidas', 'alimentos_bebidas', 'tablets_impressao_imagem',\n",
       "       'construcao_ferramentas_seguranca', 'dvds_blu_ray', 'cine_foto',\n",
       "       'la_cuisine', 'agro_industria_e_comercio',\n",
       "       'portateis_casa_forno_e_cafe', 'fashion_esporte',\n",
       "       'construcao_ferramentas_iluminacao', 'moveis_colchao_e_estofado',\n",
       "       'construcao_ferramentas_ferramentas', 'cds_dvds_musicais',\n",
       "       'casa_conforto_2', 'fashion_roupa_infanto_juvenil',\n",
       "       'artes_e_artesanato', 'pc_gamer', 'seguros_e_servicos', 'flores',\n",
       "       'portateis_cozinha_e_preparadores_de_alimentos'], dtype=object)"
      ]
     },
     "execution_count": 15,
     "metadata": {},
     "output_type": "execute_result"
    }
   ],
   "source": [
    "olist.product_category_name.unique()"
   ]
  },
  {
   "cell_type": "code",
   "execution_count": 16,
   "id": "expressed-royalty",
   "metadata": {},
   "outputs": [
    {
     "data": {
      "text/plain": [
       "<AxesSubplot:>"
      ]
     },
     "execution_count": 16,
     "metadata": {},
     "output_type": "execute_result"
    },
    {
     "data": {
      "image/png": "[encoded data removed]",
      "text/plain": [
       "<Figure size 432x288 with 1 Axes>"
      ]
     },
     "metadata": {
      "needs_background": "light"
     },
     "output_type": "display_data"
    }
   ],
   "source": [
    "olist['product_category_name'].value_counts().plot(kind = 'bar')"
   ]
  },
  {
   "cell_type": "code",
   "execution_count": 28,
   "id": "referenced-sugar",
   "metadata": {},
   "outputs": [],
   "source": [
    "#Vamos criar uma função que retorna uma lista de produtos mais comprados em relação o seu preço por Estado\n",
    "def busca_produto_uf(uf):\n",
    "    prod_uf = olist[olist['SIGLA_UF'] == uf]\n",
    "    prod_uf = prod_uf.groupby(['product_category_name']).price.mean()\n",
    "    prod_uf10 = prod_uf.nlargest(10)\n",
    "    prod_uf10_df = pd.DataFrame(data=prod_uf10)\n",
    "    produtos = list(prod_uf10_df.index)\n",
    " \n",
    "    return produtos"
   ]
  },
  {
   "cell_type": "code",
   "execution_count": 27,
   "id": "obvious-words",
   "metadata": {},
   "outputs": [
    {
     "name": "stdout",
     "output_type": "stream",
     "text": [
      "['pcs', 'eletrodomesticos_2', 'portateis_casa_forno_e_cafe', 'telefonia_fixa', 'eletroportateis', 'instrumentos_musicais', 'climatizacao', 'agro_industria_e_comercio', 'relogios_presentes', 'construcao_ferramentas_construcao']\n",
      "['pcs' 'eletrodomesticos_2' 'portateis_casa_forno_e_cafe' 'telefonia_fixa'\n",
      " 'eletroportateis' 'instrumentos_musicais' 'climatizacao'\n",
      " 'agro_industria_e_comercio' 'relogios_presentes'\n",
      " 'construcao_ferramentas_construcao']\n"
     ]
    }
   ],
   "source": [
    "#Top 10 produtos do RJ\n",
    "prod_uf_rj =  busca_produto_uf('RJ')\n",
    "print(prod_uf_rj)\n",
    "se = pd.Series(prod_uf_rj)\n",
    "se.values\n",
    "print(se.values)"
   ]
  },
  {
   "cell_type": "code",
   "execution_count": 20,
   "id": "unnecessary-syracuse",
   "metadata": {},
   "outputs": [],
   "source": [
    "#Cria uma nova coluna com as top 10 categorias de produtos que os clientes mais gastam dinheiro por Estado\n",
    "for uf in olist.SIGLA_UF.unique():\n",
    "    olist_prod =  busca_produto_uf(uf)\n",
    "    olist.loc[olist[\"SIGLA_UF\"] == uf,\"top10_produtos\",] = str(olist_prod)"
   ]
  },
  {
   "cell_type": "code",
   "execution_count": 21,
   "id": "further-questionnaire",
   "metadata": {},
   "outputs": [
    {
     "data": {
      "text/html": [
       "<div>\n",
       "<style scoped>\n",
       "    .dataframe tbody tr th:only-of-type {\n",
       "        vertical-align: middle;\n",
       "    }\n",
       "\n",
       "    .dataframe tbody tr th {\n",
       "        vertical-align: top;\n",
       "    }\n",
       "\n",
       "    .dataframe thead th {\n",
       "        text-align: right;\n",
       "    }\n",
       "</style>\n",
       "<table border=\"1\" class=\"dataframe\">\n",
       "  <thead>\n",
       "    <tr style=\"text-align: right;\">\n",
       "      <th></th>\n",
       "      <th>customer_id</th>\n",
       "      <th>customer_unique_id</th>\n",
       "      <th>customer_zip_code_prefix</th>\n",
       "      <th>customer_city</th>\n",
       "      <th>SIGLA_UF</th>\n",
       "      <th>product_id</th>\n",
       "      <th>product_category_name</th>\n",
       "      <th>product_name_lenght</th>\n",
       "      <th>product_description_lenght</th>\n",
       "      <th>product_photos_qty</th>\n",
       "      <th>...</th>\n",
       "      <th>freight_value</th>\n",
       "      <th>order_status</th>\n",
       "      <th>order_purchase_timestamp</th>\n",
       "      <th>order_approved_at</th>\n",
       "      <th>order_delivered_carrier_date</th>\n",
       "      <th>order_delivered_customer_date</th>\n",
       "      <th>order_estimated_delivery_date</th>\n",
       "      <th>ano</th>\n",
       "      <th>preco_medio_uf</th>\n",
       "      <th>top10_produtos</th>\n",
       "    </tr>\n",
       "  </thead>\n",
       "  <tbody>\n",
       "    <tr>\n",
       "      <th>33819</th>\n",
       "      <td>bf3143805b420affe47047794eae0872</td>\n",
       "      <td>b139fbdcd53f8036eb05d3023fc97580</td>\n",
       "      <td>13390</td>\n",
       "      <td>rio das pedras</td>\n",
       "      <td>SP</td>\n",
       "      <td>a18c130946b89ab774bc5948fe71e2a5</td>\n",
       "      <td>consoles_games</td>\n",
       "      <td>53.0</td>\n",
       "      <td>520.0</td>\n",
       "      <td>6.0</td>\n",
       "      <td>...</td>\n",
       "      <td>10.96</td>\n",
       "      <td>invoiced</td>\n",
       "      <td>2016-10-06 14:36:59</td>\n",
       "      <td>2016-10-06 15:41:47</td>\n",
       "      <td>NaN</td>\n",
       "      <td>NaN</td>\n",
       "      <td>2016-11-28 00:00:00</td>\n",
       "      <td>2016</td>\n",
       "      <td>109.917418</td>\n",
       "      <td>['pcs', 'portateis_casa_forno_e_cafe', 'eletro...</td>\n",
       "    </tr>\n",
       "    <tr>\n",
       "      <th>17106</th>\n",
       "      <td>3140c5d46f2d38e4f14a9675359d6a27</td>\n",
       "      <td>7f3ae1ea298c60b1a19751a1ded40199</td>\n",
       "      <td>91260</td>\n",
       "      <td>porto alegre</td>\n",
       "      <td>RS</td>\n",
       "      <td>f9bcf9d8e89d012d7dc24fe4de0abd80</td>\n",
       "      <td>informatica_acessorios</td>\n",
       "      <td>36.0</td>\n",
       "      <td>398.0</td>\n",
       "      <td>1.0</td>\n",
       "      <td>...</td>\n",
       "      <td>18.65</td>\n",
       "      <td>invoiced</td>\n",
       "      <td>2016-10-10 17:16:03</td>\n",
       "      <td>2016-10-12 03:01:52</td>\n",
       "      <td>NaN</td>\n",
       "      <td>NaN</td>\n",
       "      <td>2016-12-06 00:00:00</td>\n",
       "      <td>2016</td>\n",
       "      <td>121.457066</td>\n",
       "      <td>['pcs', 'portateis_cozinha_e_preparadores_de_a...</td>\n",
       "    </tr>\n",
       "    <tr>\n",
       "      <th>51468</th>\n",
       "      <td>663c23427108785957931a3ac88f6085</td>\n",
       "      <td>2e15add79c76241beffe812a24ad3a31</td>\n",
       "      <td>22745</td>\n",
       "      <td>rio de janeiro</td>\n",
       "      <td>RJ</td>\n",
       "      <td>8adc1d29aa4fd4d758a91ef997c8a0a2</td>\n",
       "      <td>brinquedos</td>\n",
       "      <td>46.0</td>\n",
       "      <td>303.0</td>\n",
       "      <td>1.0</td>\n",
       "      <td>...</td>\n",
       "      <td>16.70</td>\n",
       "      <td>delivered</td>\n",
       "      <td>2016-10-04 16:41:59</td>\n",
       "      <td>2016-10-06 15:55:55</td>\n",
       "      <td>2016-10-24 07:05:30</td>\n",
       "      <td>2016-10-29 12:53:41</td>\n",
       "      <td>2016-11-28 00:00:00</td>\n",
       "      <td>2016</td>\n",
       "      <td>124.849231</td>\n",
       "      <td>['pcs', 'eletrodomesticos_2', 'portateis_casa_...</td>\n",
       "    </tr>\n",
       "    <tr>\n",
       "      <th>7221</th>\n",
       "      <td>92da31c4d9d81552801e3c1a6194b796</td>\n",
       "      <td>b74deaa44a000da4ce9bf2913cb8e232</td>\n",
       "      <td>58305</td>\n",
       "      <td>bayeux</td>\n",
       "      <td>PB</td>\n",
       "      <td>dd6a505f83dd3c6326aa9856519e0978</td>\n",
       "      <td>brinquedos</td>\n",
       "      <td>43.0</td>\n",
       "      <td>623.0</td>\n",
       "      <td>5.0</td>\n",
       "      <td>...</td>\n",
       "      <td>24.84</td>\n",
       "      <td>delivered</td>\n",
       "      <td>2016-10-10 00:01:50</td>\n",
       "      <td>2016-10-11 10:44:13</td>\n",
       "      <td>2016-10-14 18:00:00</td>\n",
       "      <td>2016-11-16 17:17:53</td>\n",
       "      <td>2016-12-14 00:00:00</td>\n",
       "      <td>2016</td>\n",
       "      <td>193.624945</td>\n",
       "      <td>['pcs', 'eletrodomesticos', 'industria_comerci...</td>\n",
       "    </tr>\n",
       "    <tr>\n",
       "      <th>114338</th>\n",
       "      <td>01415cfeb907d8ce0e17075b4c097fe9</td>\n",
       "      <td>c2154b6ca788852f644e6f56dc7abbe9</td>\n",
       "      <td>5409</td>\n",
       "      <td>sao paulo</td>\n",
       "      <td>SP</td>\n",
       "      <td>895fc53d66ecb6c1afc40138dbc2a73c</td>\n",
       "      <td>cama_mesa_banho</td>\n",
       "      <td>48.0</td>\n",
       "      <td>330.0</td>\n",
       "      <td>3.0</td>\n",
       "      <td>...</td>\n",
       "      <td>15.11</td>\n",
       "      <td>delivered</td>\n",
       "      <td>2016-10-09 23:50:37</td>\n",
       "      <td>2016-10-10 11:04:05</td>\n",
       "      <td>2016-10-25 13:55:42</td>\n",
       "      <td>2016-10-31 11:54:44</td>\n",
       "      <td>2016-12-02 00:00:00</td>\n",
       "      <td>2016</td>\n",
       "      <td>109.917418</td>\n",
       "      <td>['pcs', 'portateis_casa_forno_e_cafe', 'eletro...</td>\n",
       "    </tr>\n",
       "  </tbody>\n",
       "</table>\n",
       "<p>5 rows × 33 columns</p>\n",
       "</div>"
      ],
      "text/plain": [
       "                             customer_id                customer_unique_id  \\\n",
       "33819   bf3143805b420affe47047794eae0872  b139fbdcd53f8036eb05d3023fc97580   \n",
       "17106   3140c5d46f2d38e4f14a9675359d6a27  7f3ae1ea298c60b1a19751a1ded40199   \n",
       "51468   663c23427108785957931a3ac88f6085  2e15add79c76241beffe812a24ad3a31   \n",
       "7221    92da31c4d9d81552801e3c1a6194b796  b74deaa44a000da4ce9bf2913cb8e232   \n",
       "114338  01415cfeb907d8ce0e17075b4c097fe9  c2154b6ca788852f644e6f56dc7abbe9   \n",
       "\n",
       "        customer_zip_code_prefix   customer_city SIGLA_UF  \\\n",
       "33819                      13390  rio das pedras       SP   \n",
       "17106                      91260    porto alegre       RS   \n",
       "51468                      22745  rio de janeiro       RJ   \n",
       "7221                       58305          bayeux       PB   \n",
       "114338                      5409       sao paulo       SP   \n",
       "\n",
       "                              product_id   product_category_name  \\\n",
       "33819   a18c130946b89ab774bc5948fe71e2a5          consoles_games   \n",
       "17106   f9bcf9d8e89d012d7dc24fe4de0abd80  informatica_acessorios   \n",
       "51468   8adc1d29aa4fd4d758a91ef997c8a0a2              brinquedos   \n",
       "7221    dd6a505f83dd3c6326aa9856519e0978              brinquedos   \n",
       "114338  895fc53d66ecb6c1afc40138dbc2a73c         cama_mesa_banho   \n",
       "\n",
       "        product_name_lenght  product_description_lenght  product_photos_qty  \\\n",
       "33819                  53.0                       520.0                 6.0   \n",
       "17106                  36.0                       398.0                 1.0   \n",
       "51468                  46.0                       303.0                 1.0   \n",
       "7221                   43.0                       623.0                 5.0   \n",
       "114338                 48.0                       330.0                 3.0   \n",
       "\n",
       "        ...  freight_value  order_status  order_purchase_timestamp  \\\n",
       "33819   ...          10.96      invoiced       2016-10-06 14:36:59   \n",
       "17106   ...          18.65      invoiced       2016-10-10 17:16:03   \n",
       "51468   ...          16.70     delivered       2016-10-04 16:41:59   \n",
       "7221    ...          24.84     delivered       2016-10-10 00:01:50   \n",
       "114338  ...          15.11     delivered       2016-10-09 23:50:37   \n",
       "\n",
       "          order_approved_at order_delivered_carrier_date  \\\n",
       "33819   2016-10-06 15:41:47                          NaN   \n",
       "17106   2016-10-12 03:01:52                          NaN   \n",
       "51468   2016-10-06 15:55:55          2016-10-24 07:05:30   \n",
       "7221    2016-10-11 10:44:13          2016-10-14 18:00:00   \n",
       "114338  2016-10-10 11:04:05          2016-10-25 13:55:42   \n",
       "\n",
       "        order_delivered_customer_date order_estimated_delivery_date   ano  \\\n",
       "33819                             NaN           2016-11-28 00:00:00  2016   \n",
       "17106                             NaN           2016-12-06 00:00:00  2016   \n",
       "51468             2016-10-29 12:53:41           2016-11-28 00:00:00  2016   \n",
       "7221              2016-11-16 17:17:53           2016-12-14 00:00:00  2016   \n",
       "114338            2016-10-31 11:54:44           2016-12-02 00:00:00  2016   \n",
       "\n",
       "        preco_medio_uf                                     top10_produtos  \n",
       "33819       109.917418  ['pcs', 'portateis_casa_forno_e_cafe', 'eletro...  \n",
       "17106       121.457066  ['pcs', 'portateis_cozinha_e_preparadores_de_a...  \n",
       "51468       124.849231  ['pcs', 'eletrodomesticos_2', 'portateis_casa_...  \n",
       "7221        193.624945  ['pcs', 'eletrodomesticos', 'industria_comerci...  \n",
       "114338      109.917418  ['pcs', 'portateis_casa_forno_e_cafe', 'eletro...  \n",
       "\n",
       "[5 rows x 33 columns]"
      ]
     },
     "execution_count": 21,
     "metadata": {},
     "output_type": "execute_result"
    }
   ],
   "source": [
    "#olist = olist.drop(columns=['category'])\n",
    "olist.head()"
   ]
  },
  {
   "cell_type": "code",
   "execution_count": 22,
   "id": "collect-honey",
   "metadata": {},
   "outputs": [
    {
     "data": {
      "text/plain": [
       "27"
      ]
     },
     "execution_count": 22,
     "metadata": {},
     "output_type": "execute_result"
    }
   ],
   "source": [
    "len(olist.top10_produtos.unique())"
   ]
  },
  {
   "cell_type": "code",
   "execution_count": 23,
   "id": "associate-theory",
   "metadata": {},
   "outputs": [
    {
     "data": {
      "text/plain": [
       "Index(['customer_id', 'customer_unique_id', 'customer_zip_code_prefix',\n",
       "       'customer_city', 'SIGLA_UF', 'product_id', 'product_category_name',\n",
       "       'product_name_lenght', 'product_description_lenght',\n",
       "       'product_photos_qty', 'product_weight_g', 'product_length_cm',\n",
       "       'product_height_cm', 'product_width_cm', 'order_id',\n",
       "       'payment_sequential', 'payment_type', 'payment_installments',\n",
       "       'payment_value', 'order_item_id', 'seller_id', 'shipping_limit_date',\n",
       "       'price', 'freight_value', 'order_status', 'order_purchase_timestamp',\n",
       "       'order_approved_at', 'order_delivered_carrier_date',\n",
       "       'order_delivered_customer_date', 'order_estimated_delivery_date', 'ano',\n",
       "       'preco_medio_uf', 'top10_produtos'],\n",
       "      dtype='object')"
      ]
     },
     "execution_count": 23,
     "metadata": {},
     "output_type": "execute_result"
    }
   ],
   "source": [
    "olist.columns"
   ]
  },
  {
   "cell_type": "code",
   "execution_count": 26,
   "id": "suburban-violation",
   "metadata": {},
   "outputs": [
    {
     "ename": "AttributeError",
     "evalue": "'Series' object has no attribute 'values_count'",
     "output_type": "error",
     "traceback": [
      "\u001b[0;31m---------------------------------------------------------------------------\u001b[0m",
      "\u001b[0;31mAttributeError\u001b[0m                            Traceback (most recent call last)",
      "\u001b[0;32m<ipython-input-26-ce4d217ea77a>\u001b[0m in \u001b[0;36m<module>\u001b[0;34m\u001b[0m\n\u001b[0;32m----> 1\u001b[0;31m \u001b[0molist\u001b[0m\u001b[0;34m.\u001b[0m\u001b[0mpayment_type\u001b[0m\u001b[0;34m.\u001b[0m\u001b[0mvalues_count\u001b[0m\u001b[0;34m(\u001b[0m\u001b[0;34m)\u001b[0m\u001b[0;34m\u001b[0m\u001b[0;34m\u001b[0m\u001b[0m\n\u001b[0m",
      "\u001b[0;32m/usr/local/lib/python3.6/site-packages/pandas/core/generic.py\u001b[0m in \u001b[0;36m__getattr__\u001b[0;34m(self, name)\u001b[0m\n\u001b[1;32m   5139\u001b[0m             \u001b[0;32mif\u001b[0m \u001b[0mself\u001b[0m\u001b[0;34m.\u001b[0m\u001b[0m_info_axis\u001b[0m\u001b[0;34m.\u001b[0m\u001b[0m_can_hold_identifiers_and_holds_name\u001b[0m\u001b[0;34m(\u001b[0m\u001b[0mname\u001b[0m\u001b[0;34m)\u001b[0m\u001b[0;34m:\u001b[0m\u001b[0;34m\u001b[0m\u001b[0;34m\u001b[0m\u001b[0m\n\u001b[1;32m   5140\u001b[0m                 \u001b[0;32mreturn\u001b[0m \u001b[0mself\u001b[0m\u001b[0;34m[\u001b[0m\u001b[0mname\u001b[0m\u001b[0;34m]\u001b[0m\u001b[0;34m\u001b[0m\u001b[0;34m\u001b[0m\u001b[0m\n\u001b[0;32m-> 5141\u001b[0;31m             \u001b[0;32mreturn\u001b[0m \u001b[0mobject\u001b[0m\u001b[0;34m.\u001b[0m\u001b[0m__getattribute__\u001b[0m\u001b[0;34m(\u001b[0m\u001b[0mself\u001b[0m\u001b[0;34m,\u001b[0m \u001b[0mname\u001b[0m\u001b[0;34m)\u001b[0m\u001b[0;34m\u001b[0m\u001b[0;34m\u001b[0m\u001b[0m\n\u001b[0m\u001b[1;32m   5142\u001b[0m \u001b[0;34m\u001b[0m\u001b[0m\n\u001b[1;32m   5143\u001b[0m     \u001b[0;32mdef\u001b[0m \u001b[0m__setattr__\u001b[0m\u001b[0;34m(\u001b[0m\u001b[0mself\u001b[0m\u001b[0;34m,\u001b[0m \u001b[0mname\u001b[0m\u001b[0;34m:\u001b[0m \u001b[0mstr\u001b[0m\u001b[0;34m,\u001b[0m \u001b[0mvalue\u001b[0m\u001b[0;34m)\u001b[0m \u001b[0;34m->\u001b[0m \u001b[0;32mNone\u001b[0m\u001b[0;34m:\u001b[0m\u001b[0;34m\u001b[0m\u001b[0;34m\u001b[0m\u001b[0m\n",
      "\u001b[0;31mAttributeError\u001b[0m: 'Series' object has no attribute 'values_count'"
     ]
    }
   ],
   "source": [
    "#Vamos criar uma função que retorna uma lista de produtos mais comprados em relação o seu preço por Estado\n",
    "def busca_tipopagamento_uf(uf):\n",
    "    prod_uf = olist[olist['SIGLA_UF'] == uf]\n",
    "    prod_uf = prod_uf.groupby(['payment_type']).price.mean()\n",
    "    prod_uf10 = prod_uf.nlargest(10)\n",
    "    prod_uf10_df = pd.DataFrame(data=prod_uf10)\n",
    "    produtos = list(prod_uf10_df.index)\n",
    " \n",
    "    return produtos"
   ]
  },
  {
   "cell_type": "code",
   "execution_count": null,
   "id": "stopped-recognition",
   "metadata": {},
   "outputs": [],
   "source": []
  },
  {
   "cell_type": "code",
   "execution_count": null,
   "id": "harmful-aerospace",
   "metadata": {},
   "outputs": [],
   "source": [
    "data.columns"
   ]
  },
  {
   "cell_type": "code",
   "execution_count": null,
   "id": "designing-fairy",
   "metadata": {},
   "outputs": [],
   "source": [
    "data.geracoes.unique()"
   ]
  },
  {
   "cell_type": "code",
   "execution_count": null,
   "id": "precise-istanbul",
   "metadata": {},
   "outputs": [],
   "source": [
    "data_rj = data[data['SIGLA_UF'] == 'RJ']"
   ]
  },
  {
   "cell_type": "code",
   "execution_count": null,
   "id": "liquid-compatibility",
   "metadata": {},
   "outputs": [],
   "source": [
    "import folium"
   ]
  },
  {
   "cell_type": "code",
   "execution_count": null,
   "id": "auburn-drain",
   "metadata": {},
   "outputs": [],
   "source": [
    "# Cria o Mapa\n",
    "fmap = folium.Map(\n",
    "                location=[-16.1237611, -59.9219642],   \n",
    "                zoom_start=4,\n",
    "                control_scale=True,\n",
    "                prefer_canvas=True)"
   ]
  },
  {
   "cell_type": "code",
   "execution_count": null,
   "id": "separated-replacement",
   "metadata": {},
   "outputs": [],
   "source": [
    "geracoes = folium.map.FeatureGroup()\n",
    "latitudes = list(data_rj.latitude)\n",
    "longitudes = list(data_rj.longitude)\n",
    "labels = list(data_rj.geracoes)\n",
    "for lat, lng, label in zip(latitudes, longitudes, labels):\n",
    "    if label == '1960 a 1979 - Geração X':\n",
    "        folium.Marker(\n",
    "        location = [lat, lng], \n",
    "          popup = label,\n",
    "          icon = folium.Icon(color='red', icon='o')\n",
    "         ).add_to(fmap)\n",
    "    elif label == '1900 a 1940 - Veteranos':\n",
    "        folium.Marker(\n",
    "        location = [lat, lng], \n",
    "          popup = label,\n",
    "          icon = folium.Icon(color='black', icon='o')\n",
    "         ).add_to(fmap)\n",
    "    elif label == '1940 a 1959 - Baby Boomers ':\n",
    "        folium.Marker(\n",
    "        location = [lat, lng], \n",
    "          popup = label,\n",
    "          icon = folium.Icon(color='blue', icon='o')\n",
    "         ).add_to(fmap)\n",
    "    elif label == '1980 a 1994 - Geração Y':\n",
    "        folium.Marker(\n",
    "        location = [lat, lng], \n",
    "          popup = label,\n",
    "          icon = folium.Icon(color='pink', icon='o')\n",
    "         ).add_to(fmap)\n",
    "    else:\n",
    "        folium.Marker(\n",
    "          location = [lat, lng], \n",
    "          popup = label,\n",
    "          icon = folium.Icon(color='green', icon='o')\n",
    "         ).add_to(fmap)"
   ]
  },
  {
   "cell_type": "code",
   "execution_count": null,
   "id": "enhanced-reynolds",
   "metadata": {},
   "outputs": [],
   "source": [
    "fmap.add_child(geracoes)\n",
    "fmap"
   ]
  },
  {
   "cell_type": "code",
   "execution_count": null,
   "id": "received-scientist",
   "metadata": {},
   "outputs": [],
   "source": [
    "fmap.save(outfile= \"geracoes_rj.html\")"
   ]
  },
  {
   "cell_type": "code",
   "execution_count": null,
   "id": "editorial-webster",
   "metadata": {},
   "outputs": [],
   "source": []
  }
 ],
 "metadata": {
  "kernelspec": {
   "display_name": "Python 3",
   "language": "python",
   "name": "python3"
  },
  "language_info": {
   "codemirror_mode": {
    "name": "ipython",
    "version": 3
   },
   "file_extension": ".py",
   "mimetype": "text/x-python",
   "name": "python",
   "nbconvert_exporter": "python",
   "pygments_lexer": "ipython3",
   "version": "3.6.13"
  }
 },
 "nbformat": 4,
 "nbformat_minor": 5
}
