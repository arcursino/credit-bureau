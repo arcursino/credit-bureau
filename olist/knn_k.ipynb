{
 "cells": [
  {
   "cell_type": "code",
   "execution_count": 1,
   "id": "8b42aaac",
   "metadata": {},
   "outputs": [],
   "source": [
    "import numpy as np\n",
    "import pandas as pd\n",
    "\n",
    "from sklearn.model_selection import train_test_split\n",
    "from sklearn.preprocessing import StandardScaler\n",
    "from sklearn.neighbors import KNeighborsClassifier\n",
    "from sklearn.metrics import confusion_matrix\n",
    "from sklearn.metrics import f1_score\n",
    "from sklearn.metrics import accuracy_score\n",
    "\n",
    "import numpy as np\n",
    "import matplotlib.pyplot as plt\n",
    "from matplotlib.ticker import NullFormatter\n",
    "import pandas as pd\n",
    "import matplotlib.ticker as ticker\n",
    "%matplotlib inline"
   ]
  },
  {
   "cell_type": "code",
   "execution_count": 2,
   "id": "f19bc492",
   "metadata": {},
   "outputs": [],
   "source": [
    "df = pd.read_csv(\"olist_processado.csv\")"
   ]
  },
  {
   "cell_type": "code",
   "execution_count": 3,
   "id": "586ab76f",
   "metadata": {},
   "outputs": [
    {
     "data": {
      "text/html": [
       "<div>\n",
       "<style scoped>\n",
       "    .dataframe tbody tr th:only-of-type {\n",
       "        vertical-align: middle;\n",
       "    }\n",
       "\n",
       "    .dataframe tbody tr th {\n",
       "        vertical-align: top;\n",
       "    }\n",
       "\n",
       "    .dataframe thead th {\n",
       "        text-align: right;\n",
       "    }\n",
       "</style>\n",
       "<table border=\"1\" class=\"dataframe\">\n",
       "  <thead>\n",
       "    <tr style=\"text-align: right;\">\n",
       "      <th></th>\n",
       "      <th>customer_id</th>\n",
       "      <th>customer_city</th>\n",
       "      <th>customer_state</th>\n",
       "      <th>order_id</th>\n",
       "      <th>order_purchase_timestamp</th>\n",
       "      <th>order_item_id</th>\n",
       "      <th>product_id</th>\n",
       "      <th>price</th>\n",
       "      <th>review_id</th>\n",
       "      <th>review_score</th>\n",
       "      <th>customer_lat</th>\n",
       "      <th>customer_long</th>\n",
       "      <th>product_category_name</th>\n",
       "      <th>quantidade_item</th>\n",
       "    </tr>\n",
       "  </thead>\n",
       "  <tbody>\n",
       "    <tr>\n",
       "      <th>0</th>\n",
       "      <td>06b8999e2fba1a1fbc88172c00ba8bc7</td>\n",
       "      <td>franca</td>\n",
       "      <td>SP</td>\n",
       "      <td>00e7ee1b050b8499577073aeb2a297a1</td>\n",
       "      <td>2017-05-16 15:05:35</td>\n",
       "      <td>1</td>\n",
       "      <td>a9516a079e37a9c9c36b9b78b10169e8</td>\n",
       "      <td>124.99</td>\n",
       "      <td>88b8b52d46df026a9d1ad2136a59b30b</td>\n",
       "      <td>4</td>\n",
       "      <td>-20.500253</td>\n",
       "      <td>-47.400367</td>\n",
       "      <td>moveis_escritorio</td>\n",
       "      <td>1</td>\n",
       "    </tr>\n",
       "    <tr>\n",
       "      <th>1</th>\n",
       "      <td>8912fc0c3bbf1e2fbf35819e21706718</td>\n",
       "      <td>santarem</td>\n",
       "      <td>PA</td>\n",
       "      <td>c1d2b34febe9cd269e378117d6681172</td>\n",
       "      <td>2017-11-09 00:50:13</td>\n",
       "      <td>1</td>\n",
       "      <td>a9516a079e37a9c9c36b9b78b10169e8</td>\n",
       "      <td>112.99</td>\n",
       "      <td>7fc63200f12eebb5f387856afdd63db8</td>\n",
       "      <td>1</td>\n",
       "      <td>-2.441535</td>\n",
       "      <td>-54.720801</td>\n",
       "      <td>moveis_escritorio</td>\n",
       "      <td>2</td>\n",
       "    </tr>\n",
       "  </tbody>\n",
       "</table>\n",
       "</div>"
      ],
      "text/plain": [
       "                        customer_id customer_city customer_state  \\\n",
       "0  06b8999e2fba1a1fbc88172c00ba8bc7        franca             SP   \n",
       "1  8912fc0c3bbf1e2fbf35819e21706718      santarem             PA   \n",
       "\n",
       "                           order_id order_purchase_timestamp  order_item_id  \\\n",
       "0  00e7ee1b050b8499577073aeb2a297a1      2017-05-16 15:05:35              1   \n",
       "1  c1d2b34febe9cd269e378117d6681172      2017-11-09 00:50:13              1   \n",
       "\n",
       "                         product_id   price                         review_id  \\\n",
       "0  a9516a079e37a9c9c36b9b78b10169e8  124.99  88b8b52d46df026a9d1ad2136a59b30b   \n",
       "1  a9516a079e37a9c9c36b9b78b10169e8  112.99  7fc63200f12eebb5f387856afdd63db8   \n",
       "\n",
       "   review_score  customer_lat  customer_long product_category_name  \\\n",
       "0             4    -20.500253     -47.400367     moveis_escritorio   \n",
       "1             1     -2.441535     -54.720801     moveis_escritorio   \n",
       "\n",
       "   quantidade_item  \n",
       "0                1  \n",
       "1                2  "
      ]
     },
     "execution_count": 3,
     "metadata": {},
     "output_type": "execute_result"
    }
   ],
   "source": [
    "df.head(2)"
   ]
  },
  {
   "cell_type": "code",
   "execution_count": 4,
   "id": "81839c49",
   "metadata": {},
   "outputs": [
    {
     "data": {
      "text/plain": [
       "customer_id                  object\n",
       "customer_city                object\n",
       "customer_state               object\n",
       "order_id                     object\n",
       "order_purchase_timestamp     object\n",
       "order_item_id                 int64\n",
       "product_id                   object\n",
       "price                       float64\n",
       "review_id                    object\n",
       "review_score                  int64\n",
       "customer_lat                float64\n",
       "customer_long               float64\n",
       "product_category_name        object\n",
       "quantidade_item               int64\n",
       "dtype: object"
      ]
     },
     "execution_count": 4,
     "metadata": {},
     "output_type": "execute_result"
    }
   ],
   "source": [
    "df.dtypes"
   ]
  },
  {
   "cell_type": "code",
   "execution_count": 5,
   "id": "reflected-feature",
   "metadata": {},
   "outputs": [],
   "source": [
    "data = df[['customer_id', 'review_score', 'product_category_name', 'quantidade_item', 'product_id', 'price']]"
   ]
  },
  {
   "cell_type": "code",
   "execution_count": 6,
   "id": "single-astronomy",
   "metadata": {},
   "outputs": [
    {
     "name": "stdout",
     "output_type": "stream",
     "text": [
      "<class 'pandas.core.frame.DataFrame'>\n",
      "RangeIndex: 113622 entries, 0 to 113621\n",
      "Data columns (total 6 columns):\n",
      " #   Column                 Non-Null Count   Dtype  \n",
      "---  ------                 --------------   -----  \n",
      " 0   customer_id            113622 non-null  object \n",
      " 1   review_score           113622 non-null  int64  \n",
      " 2   product_category_name  113622 non-null  object \n",
      " 3   quantidade_item        113622 non-null  int64  \n",
      " 4   product_id             113622 non-null  object \n",
      " 5   price                  113622 non-null  float64\n",
      "dtypes: float64(1), int64(2), object(3)\n",
      "memory usage: 5.2+ MB\n"
     ]
    }
   ],
   "source": [
    "data.info()"
   ]
  },
  {
   "cell_type": "code",
   "execution_count": 7,
   "id": "spare-division",
   "metadata": {},
   "outputs": [
    {
     "name": "stderr",
     "output_type": "stream",
     "text": [
      "/home/ariana/anaconda3/lib/python3.7/site-packages/pandas/core/generic.py:5494: SettingWithCopyWarning: \n",
      "A value is trying to be set on a copy of a slice from a DataFrame.\n",
      "Try using .loc[row_indexer,col_indexer] = value instead\n",
      "\n",
      "See the caveats in the documentation: https://pandas.pydata.org/pandas-docs/stable/user_guide/indexing.html#returning-a-view-versus-a-copy\n",
      "  self[name] = value\n"
     ]
    }
   ],
   "source": [
    "data.product_category_name=data.product_category_name.astype('category').cat.codes\n",
    "data.customer_id=data.customer_id.astype('category').cat.codes\n",
    "data.product_id=data.product_id.astype('category').cat.codes"
   ]
  },
  {
   "cell_type": "code",
   "execution_count": 8,
   "id": "steady-combination",
   "metadata": {},
   "outputs": [
    {
     "data": {
      "text/html": [
       "<div>\n",
       "<style scoped>\n",
       "    .dataframe tbody tr th:only-of-type {\n",
       "        vertical-align: middle;\n",
       "    }\n",
       "\n",
       "    .dataframe tbody tr th {\n",
       "        vertical-align: top;\n",
       "    }\n",
       "\n",
       "    .dataframe thead th {\n",
       "        text-align: right;\n",
       "    }\n",
       "</style>\n",
       "<table border=\"1\" class=\"dataframe\">\n",
       "  <thead>\n",
       "    <tr style=\"text-align: right;\">\n",
       "      <th></th>\n",
       "      <th>customer_id</th>\n",
       "      <th>review_score</th>\n",
       "      <th>product_category_name</th>\n",
       "      <th>quantidade_item</th>\n",
       "      <th>product_id</th>\n",
       "      <th>price</th>\n",
       "    </tr>\n",
       "  </thead>\n",
       "  <tbody>\n",
       "    <tr>\n",
       "      <th>113617</th>\n",
       "      <td>93851</td>\n",
       "      <td>3</td>\n",
       "      <td>14</td>\n",
       "      <td>1</td>\n",
       "      <td>19008</td>\n",
       "      <td>99.90</td>\n",
       "    </tr>\n",
       "    <tr>\n",
       "      <th>113618</th>\n",
       "      <td>83135</td>\n",
       "      <td>4</td>\n",
       "      <td>63</td>\n",
       "      <td>1</td>\n",
       "      <td>22016</td>\n",
       "      <td>19.99</td>\n",
       "    </tr>\n",
       "    <tr>\n",
       "      <th>113619</th>\n",
       "      <td>9277</td>\n",
       "      <td>4</td>\n",
       "      <td>11</td>\n",
       "      <td>1</td>\n",
       "      <td>23776</td>\n",
       "      <td>250.00</td>\n",
       "    </tr>\n",
       "    <tr>\n",
       "      <th>113620</th>\n",
       "      <td>49425</td>\n",
       "      <td>5</td>\n",
       "      <td>33</td>\n",
       "      <td>1</td>\n",
       "      <td>31238</td>\n",
       "      <td>84.90</td>\n",
       "    </tr>\n",
       "    <tr>\n",
       "      <th>113621</th>\n",
       "      <td>11767</td>\n",
       "      <td>1</td>\n",
       "      <td>30</td>\n",
       "      <td>1</td>\n",
       "      <td>25533</td>\n",
       "      <td>167.99</td>\n",
       "    </tr>\n",
       "  </tbody>\n",
       "</table>\n",
       "</div>"
      ],
      "text/plain": [
       "        customer_id  review_score  product_category_name  quantidade_item  \\\n",
       "113617        93851             3                     14                1   \n",
       "113618        83135             4                     63                1   \n",
       "113619         9277             4                     11                1   \n",
       "113620        49425             5                     33                1   \n",
       "113621        11767             1                     30                1   \n",
       "\n",
       "        product_id   price  \n",
       "113617       19008   99.90  \n",
       "113618       22016   19.99  \n",
       "113619       23776  250.00  \n",
       "113620       31238   84.90  \n",
       "113621       25533  167.99  "
      ]
     },
     "execution_count": 8,
     "metadata": {},
     "output_type": "execute_result"
    }
   ],
   "source": [
    "data.tail()"
   ]
  },
  {
   "cell_type": "code",
   "execution_count": 9,
   "id": "positive-basin",
   "metadata": {},
   "outputs": [
    {
     "name": "stdout",
     "output_type": "stream",
     "text": [
      "<class 'pandas.core.frame.DataFrame'>\n",
      "RangeIndex: 113622 entries, 0 to 113621\n",
      "Data columns (total 6 columns):\n",
      " #   Column                 Non-Null Count   Dtype  \n",
      "---  ------                 --------------   -----  \n",
      " 0   customer_id            113622 non-null  int32  \n",
      " 1   review_score           113622 non-null  int64  \n",
      " 2   product_category_name  113622 non-null  int8   \n",
      " 3   quantidade_item        113622 non-null  int64  \n",
      " 4   product_id             113622 non-null  int16  \n",
      " 5   price                  113622 non-null  float64\n",
      "dtypes: float64(1), int16(1), int32(1), int64(2), int8(1)\n",
      "memory usage: 3.4 MB\n"
     ]
    }
   ],
   "source": [
    "data.info()"
   ]
  },
  {
   "cell_type": "code",
   "execution_count": 28,
   "id": "quick-violence",
   "metadata": {},
   "outputs": [],
   "source": [
    "from sklearn.cluster import KMeans\n",
    "from sklearn.decomposition import  PCA\n",
    "from sklearn.preprocessing import  MinMaxScaler"
   ]
  },
  {
   "cell_type": "code",
   "execution_count": 29,
   "id": "terminal-trust",
   "metadata": {},
   "outputs": [
    {
     "name": "stderr",
     "output_type": "stream",
     "text": [
      "/home/ariana/anaconda3/lib/python3.7/site-packages/ipykernel_launcher.py:2: SettingWithCopyWarning: \n",
      "A value is trying to be set on a copy of a slice from a DataFrame\n",
      "\n",
      "See the caveats in the documentation: https://pandas.pydata.org/pandas-docs/stable/user_guide/indexing.html#returning-a-view-versus-a-copy\n",
      "  \n"
     ]
    },
    {
     "data": {
      "text/plain": [
       "customer_id              0\n",
       "review_score             0\n",
       "product_category_name    0\n",
       "quantidade_item          0\n",
       "product_id               0\n",
       "price                    0\n",
       "dtype: int64"
      ]
     },
     "execution_count": 29,
     "metadata": {},
     "output_type": "execute_result"
    }
   ],
   "source": [
    "# Elimina as linhas que possuem dados faltantes\n",
    "data.dropna(inplace=True)\n",
    "data.isnull().sum()"
   ]
  },
  {
   "cell_type": "code",
   "execution_count": 31,
   "id": "north-union",
   "metadata": {},
   "outputs": [],
   "source": [
    "data_seg = data"
   ]
  },
  {
   "cell_type": "code",
   "execution_count": 34,
   "id": "clear-millennium",
   "metadata": {},
   "outputs": [
    {
     "data": {
      "text/plain": [
       "Index(['customer_id', 'review_score', 'product_category_name',\n",
       "       'quantidade_item', 'product_id', 'price'],\n",
       "      dtype='object')"
      ]
     },
     "execution_count": 34,
     "metadata": {},
     "output_type": "execute_result"
    }
   ],
   "source": [
    "data_seg.columns"
   ]
  },
  {
   "cell_type": "code",
   "execution_count": 30,
   "id": "hazardous-hotel",
   "metadata": {},
   "outputs": [],
   "source": [
    "#Normalização com média 0 e desvio 1\n",
    "normaliza = MinMaxScaler()"
   ]
  },
  {
   "cell_type": "code",
   "execution_count": 32,
   "id": "wanted-fundamentals",
   "metadata": {},
   "outputs": [],
   "source": [
    "#Aplica a normalização\n",
    "X_std = normaliza.fit_transform(data_seg)"
   ]
  },
  {
   "cell_type": "code",
   "execution_count": 33,
   "id": "prime-combat",
   "metadata": {},
   "outputs": [
    {
     "data": {
      "image/png": "[encoded data removed]",
      "text/plain": [
       "<Figure size 432x288 with 1 Axes>"
      ]
     },
     "metadata": {
      "needs_background": "light"
     },
     "output_type": "display_data"
    }
   ],
   "source": [
    "#aplicando a curva do cotovelo para encontrar o número de clusters\n",
    "ks = range(1,10)\n",
    "inertias = []\n",
    "for k in ks:\n",
    "    #cria o objeto para modelo k-means para os testes\n",
    "    model = KMeans(n_clusters=k)\n",
    "    \n",
    "    #aplica nos componentes selecionados\n",
    "    model.fit(X_std)\n",
    "    \n",
    "    #adiciona os valores para a distância (agitação)\n",
    "    inertias.append(model.inertia_)\n",
    "    \n",
    "\n",
    "plt.plot(ks, inertias, '-o', color='black')\n",
    "plt.xlabel('Número de Cluster, k')\n",
    "plt.ylabel('Distâncias')\n",
    "plt.xticks(ks)\n",
    "plt.show()"
   ]
  },
  {
   "cell_type": "code",
   "execution_count": 35,
   "id": "annual-dress",
   "metadata": {},
   "outputs": [],
   "source": [
    "#transformando os dados normalizados em um dataframe\n",
    "data_norma = pd.DataFrame(X_std, columns=['customer_id', 'review_score', 'product_category_name',\n",
    "       'quantidade_item', 'product_id', 'price'])"
   ]
  },
  {
   "cell_type": "code",
   "execution_count": 36,
   "id": "chubby-movement",
   "metadata": {},
   "outputs": [
    {
     "data": {
      "text/html": [
       "<div>\n",
       "<style scoped>\n",
       "    .dataframe tbody tr th:only-of-type {\n",
       "        vertical-align: middle;\n",
       "    }\n",
       "\n",
       "    .dataframe tbody tr th {\n",
       "        vertical-align: top;\n",
       "    }\n",
       "\n",
       "    .dataframe thead th {\n",
       "        text-align: right;\n",
       "    }\n",
       "</style>\n",
       "<table border=\"1\" class=\"dataframe\">\n",
       "  <thead>\n",
       "    <tr style=\"text-align: right;\">\n",
       "      <th></th>\n",
       "      <th>customer_id</th>\n",
       "      <th>review_score</th>\n",
       "      <th>product_category_name</th>\n",
       "      <th>quantidade_item</th>\n",
       "      <th>product_id</th>\n",
       "      <th>price</th>\n",
       "    </tr>\n",
       "  </thead>\n",
       "  <tbody>\n",
       "    <tr>\n",
       "      <th>0</th>\n",
       "      <td>0.026327</td>\n",
       "      <td>0.75</td>\n",
       "      <td>0.763889</td>\n",
       "      <td>0.000000</td>\n",
       "      <td>0.659156</td>\n",
       "      <td>0.018434</td>\n",
       "    </tr>\n",
       "    <tr>\n",
       "      <th>1</th>\n",
       "      <td>0.534767</td>\n",
       "      <td>0.00</td>\n",
       "      <td>0.763889</td>\n",
       "      <td>0.047619</td>\n",
       "      <td>0.659156</td>\n",
       "      <td>0.016652</td>\n",
       "    </tr>\n",
       "  </tbody>\n",
       "</table>\n",
       "</div>"
      ],
      "text/plain": [
       "   customer_id  review_score  product_category_name  quantidade_item  \\\n",
       "0     0.026327          0.75               0.763889         0.000000   \n",
       "1     0.534767          0.00               0.763889         0.047619   \n",
       "\n",
       "   product_id     price  \n",
       "0    0.659156  0.018434  \n",
       "1    0.659156  0.016652  "
      ]
     },
     "execution_count": 36,
     "metadata": {},
     "output_type": "execute_result"
    }
   ],
   "source": [
    "#Agora todos os valores estão entre 0 e 1\n",
    "data_norma.head(2)"
   ]
  },
  {
   "cell_type": "code",
   "execution_count": 38,
   "id": "julian-single",
   "metadata": {},
   "outputs": [
    {
     "data": {
      "text/html": [
       "<div>\n",
       "<style scoped>\n",
       "    .dataframe tbody tr th:only-of-type {\n",
       "        vertical-align: middle;\n",
       "    }\n",
       "\n",
       "    .dataframe tbody tr th {\n",
       "        vertical-align: top;\n",
       "    }\n",
       "\n",
       "    .dataframe thead th {\n",
       "        text-align: right;\n",
       "    }\n",
       "</style>\n",
       "<table border=\"1\" class=\"dataframe\">\n",
       "  <thead>\n",
       "    <tr style=\"text-align: right;\">\n",
       "      <th></th>\n",
       "      <th>customer_id</th>\n",
       "      <th>review_score</th>\n",
       "      <th>product_category_name</th>\n",
       "      <th>quantidade_item</th>\n",
       "      <th>product_id</th>\n",
       "      <th>price</th>\n",
       "      <th>cluster</th>\n",
       "    </tr>\n",
       "  </thead>\n",
       "  <tbody>\n",
       "    <tr>\n",
       "      <th>0</th>\n",
       "      <td>0.026327</td>\n",
       "      <td>0.75</td>\n",
       "      <td>0.763889</td>\n",
       "      <td>0.000000</td>\n",
       "      <td>0.659156</td>\n",
       "      <td>0.018434</td>\n",
       "      <td>1</td>\n",
       "    </tr>\n",
       "    <tr>\n",
       "      <th>1</th>\n",
       "      <td>0.534767</td>\n",
       "      <td>0.00</td>\n",
       "      <td>0.763889</td>\n",
       "      <td>0.047619</td>\n",
       "      <td>0.659156</td>\n",
       "      <td>0.016652</td>\n",
       "      <td>2</td>\n",
       "    </tr>\n",
       "    <tr>\n",
       "      <th>2</th>\n",
       "      <td>0.534767</td>\n",
       "      <td>0.00</td>\n",
       "      <td>0.763889</td>\n",
       "      <td>0.047619</td>\n",
       "      <td>0.659156</td>\n",
       "      <td>0.016652</td>\n",
       "      <td>2</td>\n",
       "    </tr>\n",
       "    <tr>\n",
       "      <th>3</th>\n",
       "      <td>0.941723</td>\n",
       "      <td>0.50</td>\n",
       "      <td>0.763889</td>\n",
       "      <td>0.000000</td>\n",
       "      <td>0.659156</td>\n",
       "      <td>0.018434</td>\n",
       "      <td>1</td>\n",
       "    </tr>\n",
       "    <tr>\n",
       "      <th>4</th>\n",
       "      <td>0.419579</td>\n",
       "      <td>0.75</td>\n",
       "      <td>0.763889</td>\n",
       "      <td>0.000000</td>\n",
       "      <td>0.659156</td>\n",
       "      <td>0.015761</td>\n",
       "      <td>1</td>\n",
       "    </tr>\n",
       "  </tbody>\n",
       "</table>\n",
       "</div>"
      ],
      "text/plain": [
       "   customer_id  review_score  product_category_name  quantidade_item  \\\n",
       "0     0.026327          0.75               0.763889         0.000000   \n",
       "1     0.534767          0.00               0.763889         0.047619   \n",
       "2     0.534767          0.00               0.763889         0.047619   \n",
       "3     0.941723          0.50               0.763889         0.000000   \n",
       "4     0.419579          0.75               0.763889         0.000000   \n",
       "\n",
       "   product_id     price  cluster  \n",
       "0    0.659156  0.018434        1  \n",
       "1    0.659156  0.016652        2  \n",
       "2    0.659156  0.016652        2  \n",
       "3    0.659156  0.018434        1  \n",
       "4    0.659156  0.015761        1  "
      ]
     },
     "execution_count": 38,
     "metadata": {},
     "output_type": "execute_result"
    }
   ],
   "source": [
    "#Realizando a aplicação do Kmeans\n",
    "km = KMeans(n_clusters=4)\n",
    "clusters = km.fit_predict(data_norma)\n",
    "data_norma['cluster'] = clusters\n",
    "data_norma.head()"
   ]
  },
  {
   "cell_type": "code",
   "execution_count": 39,
   "id": "special-seeker",
   "metadata": {},
   "outputs": [
    {
     "name": "stdout",
     "output_type": "stream",
     "text": [
      "Collecting mplot3d-dragger\n",
      "  Downloading mplot3d_dragger-0.0.0-py3-none-any.whl (3.3 kB)\n",
      "\u001b[33mWARNING: Error parsing requirements for jupyterlab-dash: [Errno 2] No such file or directory: '/home/ariana/anaconda3/lib/python3.7/site-packages/jupyterlab_dash-0.1.0a3.dist-info/METADATA'\u001b[0m\n",
      "Installing collected packages: mplot3d-dragger\n",
      "Successfully installed mplot3d-dragger-0.0.0\n"
     ]
    }
   ],
   "source": [
    "!pip install mplot3d-dragger\n",
    "from mpl_toolkits.mplot3d import Axes3D"
   ]
  },
  {
   "cell_type": "code",
   "execution_count": 40,
   "id": "regional-township",
   "metadata": {},
   "outputs": [
    {
     "data": {
      "image/png": "[encoded data removed]",
      "text/plain": [
       "<Figure size 1440x720 with 1 Axes>"
      ]
     },
     "metadata": {
      "needs_background": "light"
     },
     "output_type": "display_data"
    }
   ],
   "source": [
    "#plota o gráfico de dispersão\n",
    "fig = plt.figure(figsize=(20,10))\n",
    "ax = fig.add_subplot(111, projection='3d')\n",
    "\n",
    "x = data_norma['price']\n",
    "y = data_norma['quantidade_item']\n",
    "z = data_norma['review_score']\n",
    "\n",
    "ax.scatter(x, y, z, marker='s', c=data_norma['cluster'], s=40, cmap='tab10')\n",
    "\n",
    "plt.xlabel('Preço')\n",
    "plt.ylabel('Quantidade')\n",
    "ax.set_zlabel('Review')\n",
    "\n",
    "plt.show()"
   ]
  },
  {
   "cell_type": "code",
   "execution_count": 41,
   "id": "sporting-cable",
   "metadata": {},
   "outputs": [],
   "source": [
    "#retornando os dados\n",
    "retorno = normaliza.inverse_transform(X_std)"
   ]
  },
  {
   "cell_type": "code",
   "execution_count": 42,
   "id": "vertical-appendix",
   "metadata": {},
   "outputs": [
    {
     "data": {
      "text/html": [
       "<div>\n",
       "<style scoped>\n",
       "    .dataframe tbody tr th:only-of-type {\n",
       "        vertical-align: middle;\n",
       "    }\n",
       "\n",
       "    .dataframe tbody tr th {\n",
       "        vertical-align: top;\n",
       "    }\n",
       "\n",
       "    .dataframe thead th {\n",
       "        text-align: right;\n",
       "    }\n",
       "</style>\n",
       "<table border=\"1\" class=\"dataframe\">\n",
       "  <thead>\n",
       "    <tr style=\"text-align: right;\">\n",
       "      <th></th>\n",
       "      <th>customer_id</th>\n",
       "      <th>review_score</th>\n",
       "      <th>product_category_name</th>\n",
       "      <th>quantidade_item</th>\n",
       "      <th>product_id</th>\n",
       "      <th>price</th>\n",
       "      <th>cluster</th>\n",
       "    </tr>\n",
       "  </thead>\n",
       "  <tbody>\n",
       "    <tr>\n",
       "      <th>0</th>\n",
       "      <td>2561.0</td>\n",
       "      <td>4.0</td>\n",
       "      <td>55.0</td>\n",
       "      <td>1.0</td>\n",
       "      <td>21356.0</td>\n",
       "      <td>124.99</td>\n",
       "      <td>1</td>\n",
       "    </tr>\n",
       "    <tr>\n",
       "      <th>1</th>\n",
       "      <td>52020.0</td>\n",
       "      <td>1.0</td>\n",
       "      <td>55.0</td>\n",
       "      <td>2.0</td>\n",
       "      <td>21356.0</td>\n",
       "      <td>112.99</td>\n",
       "      <td>2</td>\n",
       "    </tr>\n",
       "    <tr>\n",
       "      <th>2</th>\n",
       "      <td>52020.0</td>\n",
       "      <td>1.0</td>\n",
       "      <td>55.0</td>\n",
       "      <td>2.0</td>\n",
       "      <td>21356.0</td>\n",
       "      <td>112.99</td>\n",
       "      <td>2</td>\n",
       "    </tr>\n",
       "    <tr>\n",
       "      <th>3</th>\n",
       "      <td>91607.0</td>\n",
       "      <td>3.0</td>\n",
       "      <td>55.0</td>\n",
       "      <td>1.0</td>\n",
       "      <td>21356.0</td>\n",
       "      <td>124.99</td>\n",
       "      <td>1</td>\n",
       "    </tr>\n",
       "    <tr>\n",
       "      <th>4</th>\n",
       "      <td>40815.0</td>\n",
       "      <td>4.0</td>\n",
       "      <td>55.0</td>\n",
       "      <td>1.0</td>\n",
       "      <td>21356.0</td>\n",
       "      <td>106.99</td>\n",
       "      <td>1</td>\n",
       "    </tr>\n",
       "  </tbody>\n",
       "</table>\n",
       "</div>"
      ],
      "text/plain": [
       "   customer_id  review_score  product_category_name  quantidade_item  \\\n",
       "0       2561.0           4.0                   55.0              1.0   \n",
       "1      52020.0           1.0                   55.0              2.0   \n",
       "2      52020.0           1.0                   55.0              2.0   \n",
       "3      91607.0           3.0                   55.0              1.0   \n",
       "4      40815.0           4.0                   55.0              1.0   \n",
       "\n",
       "   product_id   price  cluster  \n",
       "0     21356.0  124.99        1  \n",
       "1     21356.0  112.99        2  \n",
       "2     21356.0  112.99        2  \n",
       "3     21356.0  124.99        1  \n",
       "4     21356.0  106.99        1  "
      ]
     },
     "execution_count": 42,
     "metadata": {},
     "output_type": "execute_result"
    }
   ],
   "source": [
    "data_retorno = pd.DataFrame(retorno, columns=['customer_id', 'review_score', 'product_category_name',\n",
    "       'quantidade_item', 'product_id', 'price'])\n",
    "data_retorno['cluster'] = clusters\n",
    "data_retorno.head()"
   ]
  },
  {
   "cell_type": "code",
   "execution_count": 46,
   "id": "republican-birthday",
   "metadata": {},
   "outputs": [
    {
     "data": {
      "text/plain": [
       "customer_id              int8\n",
       "review_score             int8\n",
       "product_category_name    int8\n",
       "quantidade_item          int8\n",
       "product_id               int8\n",
       "price                    int8\n",
       "cluster                  int8\n",
       "dtype: object"
      ]
     },
     "execution_count": 46,
     "metadata": {},
     "output_type": "execute_result"
    }
   ],
   "source": [
    "data_retorno.dtypes"
   ]
  },
  {
   "cell_type": "code",
   "execution_count": 45,
   "id": "individual-nothing",
   "metadata": {},
   "outputs": [],
   "source": [
    "data_retorno = data_retorno.astype('int8')"
   ]
  },
  {
   "cell_type": "code",
   "execution_count": 81,
   "id": "sitting-heather",
   "metadata": {},
   "outputs": [],
   "source": [
    "data_cluster1 = data_retorno[data_retorno['cluster'] == 3]"
   ]
  },
  {
   "cell_type": "code",
   "execution_count": 82,
   "id": "pressing-executive",
   "metadata": {},
   "outputs": [
    {
     "data": {
      "text/html": [
       "<div>\n",
       "<style scoped>\n",
       "    .dataframe tbody tr th:only-of-type {\n",
       "        vertical-align: middle;\n",
       "    }\n",
       "\n",
       "    .dataframe tbody tr th {\n",
       "        vertical-align: top;\n",
       "    }\n",
       "\n",
       "    .dataframe thead th {\n",
       "        text-align: right;\n",
       "    }\n",
       "</style>\n",
       "<table border=\"1\" class=\"dataframe\">\n",
       "  <thead>\n",
       "    <tr style=\"text-align: right;\">\n",
       "      <th></th>\n",
       "      <th>customer_id</th>\n",
       "      <th>review_score</th>\n",
       "      <th>product_category_name</th>\n",
       "      <th>quantidade_item</th>\n",
       "      <th>product_id</th>\n",
       "      <th>price</th>\n",
       "      <th>cluster</th>\n",
       "    </tr>\n",
       "  </thead>\n",
       "  <tbody>\n",
       "    <tr>\n",
       "      <th>145</th>\n",
       "      <td>-21</td>\n",
       "      <td>5</td>\n",
       "      <td>13</td>\n",
       "      <td>1</td>\n",
       "      <td>-28</td>\n",
       "      <td>-26</td>\n",
       "      <td>3</td>\n",
       "    </tr>\n",
       "    <tr>\n",
       "      <th>146</th>\n",
       "      <td>16</td>\n",
       "      <td>5</td>\n",
       "      <td>32</td>\n",
       "      <td>1</td>\n",
       "      <td>-36</td>\n",
       "      <td>3</td>\n",
       "      <td>3</td>\n",
       "    </tr>\n",
       "    <tr>\n",
       "      <th>149</th>\n",
       "      <td>57</td>\n",
       "      <td>5</td>\n",
       "      <td>32</td>\n",
       "      <td>2</td>\n",
       "      <td>-36</td>\n",
       "      <td>3</td>\n",
       "      <td>3</td>\n",
       "    </tr>\n",
       "    <tr>\n",
       "      <th>150</th>\n",
       "      <td>57</td>\n",
       "      <td>5</td>\n",
       "      <td>32</td>\n",
       "      <td>2</td>\n",
       "      <td>-36</td>\n",
       "      <td>3</td>\n",
       "      <td>3</td>\n",
       "    </tr>\n",
       "    <tr>\n",
       "      <th>151</th>\n",
       "      <td>51</td>\n",
       "      <td>5</td>\n",
       "      <td>44</td>\n",
       "      <td>1</td>\n",
       "      <td>84</td>\n",
       "      <td>14</td>\n",
       "      <td>3</td>\n",
       "    </tr>\n",
       "  </tbody>\n",
       "</table>\n",
       "</div>"
      ],
      "text/plain": [
       "     customer_id  review_score  product_category_name  quantidade_item  \\\n",
       "145          -21             5                     13                1   \n",
       "146           16             5                     32                1   \n",
       "149           57             5                     32                2   \n",
       "150           57             5                     32                2   \n",
       "151           51             5                     44                1   \n",
       "\n",
       "     product_id  price  cluster  \n",
       "145         -28    -26        3  \n",
       "146         -36      3        3  \n",
       "149         -36      3        3  \n",
       "150         -36      3        3  \n",
       "151          84     14        3  "
      ]
     },
     "execution_count": 82,
     "metadata": {},
     "output_type": "execute_result"
    }
   ],
   "source": [
    "data_cluster1.head()"
   ]
  },
  {
   "cell_type": "code",
   "execution_count": 83,
   "id": "occupied-photograph",
   "metadata": {},
   "outputs": [
    {
     "data": {
      "text/plain": [
       "array([1, 2, 0, 3], dtype=int8)"
      ]
     },
     "execution_count": 83,
     "metadata": {},
     "output_type": "execute_result"
    }
   ],
   "source": [
    "data_retorno['cluster'].unique()"
   ]
  },
  {
   "cell_type": "code",
   "execution_count": null,
   "id": "obvious-princess",
   "metadata": {},
   "outputs": [],
   "source": []
  },
  {
   "cell_type": "code",
   "execution_count": null,
   "id": "satisfactory-chapel",
   "metadata": {},
   "outputs": [],
   "source": []
  },
  {
   "cell_type": "code",
   "execution_count": null,
   "id": "similar-nursery",
   "metadata": {},
   "outputs": [],
   "source": []
  },
  {
   "cell_type": "code",
   "execution_count": 84,
   "id": "681f2471",
   "metadata": {},
   "outputs": [],
   "source": [
    "#x = data[['customer_id', 'product_id', 'product_category_name', 'quantidade_item', 'price']]\n",
    "x = data_cluster1[['customer_id', 'product_id']]\n",
    "y = data_cluster1['review_score']"
   ]
  },
  {
   "cell_type": "code",
   "execution_count": 85,
   "id": "overhead-perfume",
   "metadata": {},
   "outputs": [
    {
     "data": {
      "text/plain": [
       "28596"
      ]
     },
     "execution_count": 85,
     "metadata": {},
     "output_type": "execute_result"
    }
   ],
   "source": [
    "len(x)"
   ]
  },
  {
   "cell_type": "code",
   "execution_count": 86,
   "id": "computational-castle",
   "metadata": {},
   "outputs": [],
   "source": [
    "from sklearn import preprocessing\n",
    "x = preprocessing.StandardScaler().fit(x).transform(x.astype(float))"
   ]
  },
  {
   "cell_type": "code",
   "execution_count": 87,
   "id": "c591e5c7",
   "metadata": {},
   "outputs": [],
   "source": [
    "#Prepare data for classification process\n",
    "x_train, x_test, y_train, y_test = train_test_split(x, y, test_size=0.2, random_state=4)"
   ]
  },
  {
   "cell_type": "code",
   "execution_count": 88,
   "id": "ordered-border",
   "metadata": {},
   "outputs": [
    {
     "name": "stdout",
     "output_type": "stream",
     "text": [
      "Accuracy of model at K=4 is 0.5681818181818182\n"
     ]
    }
   ],
   "source": [
    "from sklearn.neighbors import KNeighborsClassifier\n",
    "from sklearn import metrics\n",
    "#Train Model and Predict\n",
    "k = 4  \n",
    "neigh = KNeighborsClassifier(n_neighbors = k).fit(x_train,y_train)\n",
    "Pred_y = neigh.predict(x_test)\n",
    "print(\"Accuracy of model at K=4 is\",metrics.accuracy_score(y_test, Pred_y))"
   ]
  },
  {
   "cell_type": "code",
   "execution_count": 89,
   "id": "elder-boulder",
   "metadata": {
    "scrolled": true
   },
   "outputs": [
    {
     "name": "stdout",
     "output_type": "stream",
     "text": [
      "Minimum error:- 0.320979020979021 at K = 38\n"
     ]
    },
    {
     "data": {
      "image/png": "[encoded data removed]",
      "text/plain": [
       "<Figure size 720x432 with 1 Axes>"
      ]
     },
     "metadata": {
      "needs_background": "light"
     },
     "output_type": "display_data"
    }
   ],
   "source": [
    "error_rate = []\n",
    "for i in range(1,40):\n",
    " knn = KNeighborsClassifier(n_neighbors=i)\n",
    " knn.fit(x_train,y_train)\n",
    " pred_i = knn.predict(x_test)\n",
    " error_rate.append(np.mean(pred_i != y_test))\n",
    "\n",
    "plt.figure(figsize=(10,6))\n",
    "plt.plot(range(1,40),error_rate,color='blue', linestyle='dashed', \n",
    "         marker='o',markerfacecolor='red', markersize=10)\n",
    "plt.title('Error Rate vs. K Value')\n",
    "plt.xlabel('K')\n",
    "plt.ylabel('Error Rate')\n",
    "print(\"Minimum error:-\",min(error_rate),\"at K =\",error_rate.index(min(error_rate)))"
   ]
  },
  {
   "cell_type": "code",
   "execution_count": 90,
   "id": "valuable-accent",
   "metadata": {},
   "outputs": [
    {
     "name": "stdout",
     "output_type": "stream",
     "text": [
      "Maximum accuracy:- 0.679020979020979 at K = 38\n"
     ]
    },
    {
     "data": {
      "image/png": "[encoded data removed]",
      "text/plain": [
       "<Figure size 720x432 with 1 Axes>"
      ]
     },
     "metadata": {
      "needs_background": "light"
     },
     "output_type": "display_data"
    }
   ],
   "source": [
    "acc = []\n",
    "# Will take some time\n",
    "from sklearn import metrics\n",
    "for i in range(1,40):\n",
    "    neigh = KNeighborsClassifier(n_neighbors = i).fit(x_train,y_train)\n",
    "    yhat = neigh.predict(x_test)\n",
    "    acc.append(metrics.accuracy_score(y_test, yhat))\n",
    "    \n",
    "plt.figure(figsize=(10,6))\n",
    "plt.plot(range(1,40),acc,color = 'blue',linestyle='dashed', \n",
    "         marker='o',markerfacecolor='red', markersize=10)\n",
    "plt.title('accuracy vs. K Value')\n",
    "plt.xlabel('K')\n",
    "plt.ylabel('Accuracy')\n",
    "print(\"Maximum accuracy:-\",max(acc),\"at K =\",acc.index(max(acc)))"
   ]
  },
  {
   "cell_type": "code",
   "execution_count": null,
   "id": "accurate-logging",
   "metadata": {},
   "outputs": [],
   "source": []
  },
  {
   "cell_type": "code",
   "execution_count": null,
   "id": "material-barcelona",
   "metadata": {},
   "outputs": [],
   "source": []
  }
 ],
 "metadata": {
  "kernelspec": {
   "display_name": "Python 3",
   "language": "python",
   "name": "python3"
  },
  "language_info": {
   "codemirror_mode": {
    "name": "ipython",
    "version": 3
   },
   "file_extension": ".py",
   "mimetype": "text/x-python",
   "name": "python",
   "nbconvert_exporter": "python",
   "pygments_lexer": "ipython3",
   "version": "3.7.9"
  }
 },
 "nbformat": 4,
 "nbformat_minor": 5
}
