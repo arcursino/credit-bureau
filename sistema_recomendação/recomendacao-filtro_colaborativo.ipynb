{
 "cells": [
  {
   "cell_type": "markdown",
   "id": "extraordinary-celebrity",
   "metadata": {},
   "source": [
    "# Sistema de Recomendação # Filtro Colaborativo\n",
    "\n",
    "Foi gerado um sistema de recomendação item a item usando a técnica Filtro Colaborativo, onde se utiliza a nota do produto atribuída pelos clientes."
   ]
  },
  {
   "cell_type": "code",
   "execution_count": 1,
   "id": "congressional-spank",
   "metadata": {},
   "outputs": [],
   "source": [
    "#Importa os módulos\n",
    "import numpy as np\n",
    "import pandas as pd\n",
    "import sklearn\n",
    "import matplotlib.pyplot as plt\n",
    "import seaborn as sns\n",
    "\n",
    "import warnings\n",
    "warnings.simplefilter(action='ignore', category=FutureWarning)"
   ]
  },
  {
   "cell_type": "code",
   "execution_count": 2,
   "id": "monetary-facility",
   "metadata": {},
   "outputs": [
    {
     "data": {
      "text/html": [
       "<div>\n",
       "<style scoped>\n",
       "    .dataframe tbody tr th:only-of-type {\n",
       "        vertical-align: middle;\n",
       "    }\n",
       "\n",
       "    .dataframe tbody tr th {\n",
       "        vertical-align: top;\n",
       "    }\n",
       "\n",
       "    .dataframe thead th {\n",
       "        text-align: right;\n",
       "    }\n",
       "</style>\n",
       "<table border=\"1\" class=\"dataframe\">\n",
       "  <thead>\n",
       "    <tr style=\"text-align: right;\">\n",
       "      <th></th>\n",
       "      <th>customer_id</th>\n",
       "      <th>customer_city</th>\n",
       "      <th>customer_state</th>\n",
       "      <th>order_id</th>\n",
       "      <th>order_purchase_timestamp</th>\n",
       "      <th>order_item_id</th>\n",
       "      <th>product_id</th>\n",
       "      <th>price</th>\n",
       "      <th>review_id</th>\n",
       "      <th>review_score</th>\n",
       "      <th>customer_lat</th>\n",
       "      <th>customer_long</th>\n",
       "      <th>product_category_name</th>\n",
       "      <th>quantidade_item</th>\n",
       "    </tr>\n",
       "  </thead>\n",
       "  <tbody>\n",
       "    <tr>\n",
       "      <th>0</th>\n",
       "      <td>06b8999e2fba1a1fbc88172c00ba8bc7</td>\n",
       "      <td>franca</td>\n",
       "      <td>SP</td>\n",
       "      <td>00e7ee1b050b8499577073aeb2a297a1</td>\n",
       "      <td>2017-05-16 15:05:35</td>\n",
       "      <td>1</td>\n",
       "      <td>a9516a079e37a9c9c36b9b78b10169e8</td>\n",
       "      <td>124.99</td>\n",
       "      <td>88b8b52d46df026a9d1ad2136a59b30b</td>\n",
       "      <td>4</td>\n",
       "      <td>-20.500253</td>\n",
       "      <td>-47.400367</td>\n",
       "      <td>moveis_escritorio</td>\n",
       "      <td>1</td>\n",
       "    </tr>\n",
       "    <tr>\n",
       "      <th>1</th>\n",
       "      <td>8912fc0c3bbf1e2fbf35819e21706718</td>\n",
       "      <td>santarem</td>\n",
       "      <td>PA</td>\n",
       "      <td>c1d2b34febe9cd269e378117d6681172</td>\n",
       "      <td>2017-11-09 00:50:13</td>\n",
       "      <td>1</td>\n",
       "      <td>a9516a079e37a9c9c36b9b78b10169e8</td>\n",
       "      <td>112.99</td>\n",
       "      <td>7fc63200f12eebb5f387856afdd63db8</td>\n",
       "      <td>1</td>\n",
       "      <td>-2.441535</td>\n",
       "      <td>-54.720801</td>\n",
       "      <td>moveis_escritorio</td>\n",
       "      <td>2</td>\n",
       "    </tr>\n",
       "    <tr>\n",
       "      <th>2</th>\n",
       "      <td>8912fc0c3bbf1e2fbf35819e21706718</td>\n",
       "      <td>santarem</td>\n",
       "      <td>PA</td>\n",
       "      <td>c1d2b34febe9cd269e378117d6681172</td>\n",
       "      <td>2017-11-09 00:50:13</td>\n",
       "      <td>2</td>\n",
       "      <td>a9516a079e37a9c9c36b9b78b10169e8</td>\n",
       "      <td>112.99</td>\n",
       "      <td>7fc63200f12eebb5f387856afdd63db8</td>\n",
       "      <td>1</td>\n",
       "      <td>-2.441535</td>\n",
       "      <td>-54.720801</td>\n",
       "      <td>moveis_escritorio</td>\n",
       "      <td>2</td>\n",
       "    </tr>\n",
       "    <tr>\n",
       "      <th>3</th>\n",
       "      <td>f0ac8e5a239118859b1734e1087cbb1f</td>\n",
       "      <td>nova santa rita</td>\n",
       "      <td>RS</td>\n",
       "      <td>b1a5d5365d330d10485e0203d54ab9e8</td>\n",
       "      <td>2017-05-07 20:11:26</td>\n",
       "      <td>1</td>\n",
       "      <td>a9516a079e37a9c9c36b9b78b10169e8</td>\n",
       "      <td>124.99</td>\n",
       "      <td>251191809e37c1cffc16865947c18a4d</td>\n",
       "      <td>3</td>\n",
       "      <td>-29.879675</td>\n",
       "      <td>-51.272093</td>\n",
       "      <td>moveis_escritorio</td>\n",
       "      <td>1</td>\n",
       "    </tr>\n",
       "    <tr>\n",
       "      <th>4</th>\n",
       "      <td>6bc8d08963a135220ed6c6d098831f84</td>\n",
       "      <td>mage</td>\n",
       "      <td>RJ</td>\n",
       "      <td>2e604b3614664aa66867856dba7e61b7</td>\n",
       "      <td>2018-02-03 19:45:40</td>\n",
       "      <td>1</td>\n",
       "      <td>a9516a079e37a9c9c36b9b78b10169e8</td>\n",
       "      <td>106.99</td>\n",
       "      <td>f7123bac5b91a0e2e38d8b41fd1206f4</td>\n",
       "      <td>4</td>\n",
       "      <td>-22.610299</td>\n",
       "      <td>-43.176850</td>\n",
       "      <td>moveis_escritorio</td>\n",
       "      <td>1</td>\n",
       "    </tr>\n",
       "  </tbody>\n",
       "</table>\n",
       "</div>"
      ],
      "text/plain": [
       "                        customer_id    customer_city customer_state  \\\n",
       "0  06b8999e2fba1a1fbc88172c00ba8bc7           franca             SP   \n",
       "1  8912fc0c3bbf1e2fbf35819e21706718         santarem             PA   \n",
       "2  8912fc0c3bbf1e2fbf35819e21706718         santarem             PA   \n",
       "3  f0ac8e5a239118859b1734e1087cbb1f  nova santa rita             RS   \n",
       "4  6bc8d08963a135220ed6c6d098831f84             mage             RJ   \n",
       "\n",
       "                           order_id order_purchase_timestamp  order_item_id  \\\n",
       "0  00e7ee1b050b8499577073aeb2a297a1      2017-05-16 15:05:35              1   \n",
       "1  c1d2b34febe9cd269e378117d6681172      2017-11-09 00:50:13              1   \n",
       "2  c1d2b34febe9cd269e378117d6681172      2017-11-09 00:50:13              2   \n",
       "3  b1a5d5365d330d10485e0203d54ab9e8      2017-05-07 20:11:26              1   \n",
       "4  2e604b3614664aa66867856dba7e61b7      2018-02-03 19:45:40              1   \n",
       "\n",
       "                         product_id   price                         review_id  \\\n",
       "0  a9516a079e37a9c9c36b9b78b10169e8  124.99  88b8b52d46df026a9d1ad2136a59b30b   \n",
       "1  a9516a079e37a9c9c36b9b78b10169e8  112.99  7fc63200f12eebb5f387856afdd63db8   \n",
       "2  a9516a079e37a9c9c36b9b78b10169e8  112.99  7fc63200f12eebb5f387856afdd63db8   \n",
       "3  a9516a079e37a9c9c36b9b78b10169e8  124.99  251191809e37c1cffc16865947c18a4d   \n",
       "4  a9516a079e37a9c9c36b9b78b10169e8  106.99  f7123bac5b91a0e2e38d8b41fd1206f4   \n",
       "\n",
       "   review_score  customer_lat  customer_long product_category_name  \\\n",
       "0             4    -20.500253     -47.400367     moveis_escritorio   \n",
       "1             1     -2.441535     -54.720801     moveis_escritorio   \n",
       "2             1     -2.441535     -54.720801     moveis_escritorio   \n",
       "3             3    -29.879675     -51.272093     moveis_escritorio   \n",
       "4             4    -22.610299     -43.176850     moveis_escritorio   \n",
       "\n",
       "   quantidade_item  \n",
       "0                1  \n",
       "1                2  \n",
       "2                2  \n",
       "3                1  \n",
       "4                1  "
      ]
     },
     "execution_count": 2,
     "metadata": {},
     "output_type": "execute_result"
    }
   ],
   "source": [
    "#Carrega o dataset\n",
    "df = pd.read_csv(\"olist_processado.csv\")\n",
    "df.head()"
   ]
  },
  {
   "cell_type": "markdown",
   "id": "brilliant-output",
   "metadata": {},
   "source": [
    "## Análise Exploratória dos Dados\n",
    "\n",
    "Vamos nos concentrar no conjunto de dados de classificações. Precisaremos de produtos para as seções subsequentes. \"review_score\" contém as avaliações dos usuários para um determinado produto. Vamos ver quantas avaliações, produtos exclusivos e clientes exclusivos existem em nosso conjunto de dados."
   ]
  },
  {
   "cell_type": "code",
   "execution_count": 3,
   "id": "dried-change",
   "metadata": {},
   "outputs": [],
   "source": [
    "n_reviews = len(df['review_score'])\n",
    "n_produtos = df['product_id'].nunique()\n",
    "n_clientes = df['customer_id'].nunique()"
   ]
  },
  {
   "cell_type": "code",
   "execution_count": 4,
   "id": "abroad-frequency",
   "metadata": {},
   "outputs": [
    {
     "name": "stdout",
     "output_type": "stream",
     "text": [
      "Número de Reviews: 113622\n",
      "Número de Produtos: 32400\n",
      "Número de Clientes: 97277\n",
      "Número médio de reviews por Cliente: 1.17\n",
      "Número médio de reviews por Produto: 3.51\n"
     ]
    }
   ],
   "source": [
    "print(f\"Número de Reviews: {n_reviews}\")\n",
    "print(f\"Número de Produtos: {n_produtos}\")\n",
    "print(f\"Número de Clientes: {n_clientes}\")\n",
    "print(f\"Número médio de reviews por Cliente: {round(n_reviews/n_clientes, 2)}\")\n",
    "print(f\"Número médio de reviews por Produto: {round(n_reviews/n_produtos, 2)}\")"
   ]
  },
  {
   "cell_type": "markdown",
   "id": "therapeutic-collapse",
   "metadata": {},
   "source": [
    "Agora, vamos dar uma olhada nas contagens de classificação dos usuários. Podemos fazer isso usando groupby () e count () do pandas, que agrupa os dados por \"customer_id\" e conta o número de avaliações para cada cliente."
   ]
  },
  {
   "cell_type": "code",
   "execution_count": 5,
   "id": "optional-times",
   "metadata": {},
   "outputs": [
    {
     "data": {
      "text/html": [
       "<div>\n",
       "<style scoped>\n",
       "    .dataframe tbody tr th:only-of-type {\n",
       "        vertical-align: middle;\n",
       "    }\n",
       "\n",
       "    .dataframe tbody tr th {\n",
       "        vertical-align: top;\n",
       "    }\n",
       "\n",
       "    .dataframe thead th {\n",
       "        text-align: right;\n",
       "    }\n",
       "</style>\n",
       "<table border=\"1\" class=\"dataframe\">\n",
       "  <thead>\n",
       "    <tr style=\"text-align: right;\">\n",
       "      <th></th>\n",
       "      <th>customer_id</th>\n",
       "      <th>n_reviews</th>\n",
       "    </tr>\n",
       "  </thead>\n",
       "  <tbody>\n",
       "    <tr>\n",
       "      <th>0</th>\n",
       "      <td>00012a2ce6f8dcda20d059ce98491703</td>\n",
       "      <td>1</td>\n",
       "    </tr>\n",
       "    <tr>\n",
       "      <th>1</th>\n",
       "      <td>000161a058600d5901f007fab4c27140</td>\n",
       "      <td>1</td>\n",
       "    </tr>\n",
       "    <tr>\n",
       "      <th>2</th>\n",
       "      <td>0001fd6190edaaf884bcaf3d49edf079</td>\n",
       "      <td>1</td>\n",
       "    </tr>\n",
       "    <tr>\n",
       "      <th>3</th>\n",
       "      <td>0002414f95344307404f0ace7a26f1d5</td>\n",
       "      <td>1</td>\n",
       "    </tr>\n",
       "    <tr>\n",
       "      <th>4</th>\n",
       "      <td>000379cdec625522490c315e70c7a9fb</td>\n",
       "      <td>1</td>\n",
       "    </tr>\n",
       "  </tbody>\n",
       "</table>\n",
       "</div>"
      ],
      "text/plain": [
       "                        customer_id  n_reviews\n",
       "0  00012a2ce6f8dcda20d059ce98491703          1\n",
       "1  000161a058600d5901f007fab4c27140          1\n",
       "2  0001fd6190edaaf884bcaf3d49edf079          1\n",
       "3  0002414f95344307404f0ace7a26f1d5          1\n",
       "4  000379cdec625522490c315e70c7a9fb          1"
      ]
     },
     "execution_count": 5,
     "metadata": {},
     "output_type": "execute_result"
    }
   ],
   "source": [
    "cliente_freq = df[['customer_id', 'product_id']].groupby('customer_id').count().reset_index()\n",
    "cliente_freq.columns = ['customer_id', 'n_reviews']\n",
    "cliente_freq.head()"
   ]
  },
  {
   "cell_type": "code",
   "execution_count": 6,
   "id": "typical-preference",
   "metadata": {},
   "outputs": [
    {
     "name": "stdout",
     "output_type": "stream",
     "text": [
      "Número médio de avaliações para um determinado cliente: 1.17.\n"
     ]
    }
   ],
   "source": [
    "print(f\"Número médio de avaliações para um determinado cliente: {cliente_freq['n_reviews'].mean():.2f}.\")"
   ]
  },
  {
   "cell_type": "code",
   "execution_count": 7,
   "id": "partial-lambda",
   "metadata": {},
   "outputs": [],
   "source": [
    "frequencia_review = cliente_freq[cliente_freq['n_reviews'] < 5]"
   ]
  },
  {
   "cell_type": "code",
   "execution_count": 8,
   "id": "operational-officer",
   "metadata": {},
   "outputs": [
    {
     "data": {
      "image/png": "[encoded data removed]",
      "text/plain": [
       "<Figure size 1008x360 with 2 Axes>"
      ]
     },
     "metadata": {},
     "output_type": "display_data"
    }
   ],
   "source": [
    "sns.set_style(\"whitegrid\")\n",
    "plt.figure(figsize=(14,5))\n",
    "plt.subplot(1,2,1)\n",
    "ax = sns.countplot(x=\"review_score\", data=df, palette=\"viridis\")\n",
    "plt.title(\"Distribuição das Reviews\")\n",
    "\n",
    "plt.subplot(1,2,2)\n",
    "ax = sns.kdeplot(frequencia_review['n_reviews'], shade=True, legend=False)\n",
    "plt.axvline(frequencia_review['n_reviews'].mean(), color=\"k\", linestyle=\"--\")\n",
    "plt.xlabel(\"# review por cliente\")\n",
    "plt.ylabel(\"densidade\")\n",
    "plt.title(\"Número de produtos com review dos clientes\")\n",
    "plt.show()"
   ]
  },
  {
   "cell_type": "markdown",
   "id": "respected-parliament",
   "metadata": {},
   "source": [
    "A nota mais comum no Review é 5, e o número de reviews por cliente é em sua maioria 1, tendo a média geral em torno de 1.17 review por cliente."
   ]
  },
  {
   "cell_type": "markdown",
   "id": "sustainable-hundred",
   "metadata": {},
   "source": [
    "## Qual produto é melhor e pior avaliado na média?"
   ]
  },
  {
   "cell_type": "code",
   "execution_count": 9,
   "id": "experienced-graphic",
   "metadata": {},
   "outputs": [
    {
     "data": {
      "text/html": [
       "<div>\n",
       "<style scoped>\n",
       "    .dataframe tbody tr th:only-of-type {\n",
       "        vertical-align: middle;\n",
       "    }\n",
       "\n",
       "    .dataframe tbody tr th {\n",
       "        vertical-align: top;\n",
       "    }\n",
       "\n",
       "    .dataframe thead th {\n",
       "        text-align: right;\n",
       "    }\n",
       "</style>\n",
       "<table border=\"1\" class=\"dataframe\">\n",
       "  <thead>\n",
       "    <tr style=\"text-align: right;\">\n",
       "      <th></th>\n",
       "      <th>customer_id</th>\n",
       "      <th>customer_city</th>\n",
       "      <th>customer_state</th>\n",
       "      <th>order_id</th>\n",
       "      <th>order_purchase_timestamp</th>\n",
       "      <th>order_item_id</th>\n",
       "      <th>product_id</th>\n",
       "      <th>price</th>\n",
       "      <th>review_id</th>\n",
       "      <th>review_score</th>\n",
       "      <th>customer_lat</th>\n",
       "      <th>customer_long</th>\n",
       "      <th>product_category_name</th>\n",
       "      <th>quantidade_item</th>\n",
       "    </tr>\n",
       "  </thead>\n",
       "  <tbody>\n",
       "    <tr>\n",
       "      <th>99093</th>\n",
       "      <td>6cd217b674e22cf568f6a2cf6060fd07</td>\n",
       "      <td>sao paulo</td>\n",
       "      <td>SP</td>\n",
       "      <td>0bf736fd0fd5169d60de3699fcbcf986</td>\n",
       "      <td>2017-12-21 16:21:47</td>\n",
       "      <td>1</td>\n",
       "      <td>0009406fd7479715e4bef61dd91f2462</td>\n",
       "      <td>229.0</td>\n",
       "      <td>32247878e34bd6e8d7dbf7b31a4ae0b0</td>\n",
       "      <td>1</td>\n",
       "      <td>-23.437321</td>\n",
       "      <td>-46.712576</td>\n",
       "      <td>cama_mesa_banho</td>\n",
       "      <td>1</td>\n",
       "    </tr>\n",
       "  </tbody>\n",
       "</table>\n",
       "</div>"
      ],
      "text/plain": [
       "                            customer_id customer_city customer_state  \\\n",
       "99093  6cd217b674e22cf568f6a2cf6060fd07     sao paulo             SP   \n",
       "\n",
       "                               order_id order_purchase_timestamp  \\\n",
       "99093  0bf736fd0fd5169d60de3699fcbcf986      2017-12-21 16:21:47   \n",
       "\n",
       "       order_item_id                        product_id  price  \\\n",
       "99093              1  0009406fd7479715e4bef61dd91f2462  229.0   \n",
       "\n",
       "                              review_id  review_score  customer_lat  \\\n",
       "99093  32247878e34bd6e8d7dbf7b31a4ae0b0             1    -23.437321   \n",
       "\n",
       "       customer_long product_category_name  quantidade_item  \n",
       "99093     -46.712576       cama_mesa_banho                1  "
      ]
     },
     "execution_count": 9,
     "metadata": {},
     "output_type": "execute_result"
    }
   ],
   "source": [
    "media_review = df.groupby('product_id')[['review_score']].mean()\n",
    "\n",
    "menor_review = media_review['review_score'].idxmin()\n",
    "df.loc[df['product_id'] == menor_review]"
   ]
  },
  {
   "cell_type": "markdown",
   "id": "unusual-acceptance",
   "metadata": {},
   "source": [
    "O produto \"0009406fd7479715e4bef61dd91f2462\" -  da categoria \"Cama Mesa e Banho\" é o pior produto de acordo com as notas no Review"
   ]
  },
  {
   "cell_type": "code",
   "execution_count": 10,
   "id": "second-sheep",
   "metadata": {},
   "outputs": [
    {
     "data": {
      "text/html": [
       "<div>\n",
       "<style scoped>\n",
       "    .dataframe tbody tr th:only-of-type {\n",
       "        vertical-align: middle;\n",
       "    }\n",
       "\n",
       "    .dataframe tbody tr th {\n",
       "        vertical-align: top;\n",
       "    }\n",
       "\n",
       "    .dataframe thead th {\n",
       "        text-align: right;\n",
       "    }\n",
       "</style>\n",
       "<table border=\"1\" class=\"dataframe\">\n",
       "  <thead>\n",
       "    <tr style=\"text-align: right;\">\n",
       "      <th></th>\n",
       "      <th>customer_id</th>\n",
       "      <th>customer_city</th>\n",
       "      <th>customer_state</th>\n",
       "      <th>order_id</th>\n",
       "      <th>order_purchase_timestamp</th>\n",
       "      <th>order_item_id</th>\n",
       "      <th>product_id</th>\n",
       "      <th>price</th>\n",
       "      <th>review_id</th>\n",
       "      <th>review_score</th>\n",
       "      <th>customer_lat</th>\n",
       "      <th>customer_long</th>\n",
       "      <th>product_category_name</th>\n",
       "      <th>quantidade_item</th>\n",
       "    </tr>\n",
       "  </thead>\n",
       "  <tbody>\n",
       "    <tr>\n",
       "      <th>50624</th>\n",
       "      <td>86c180c33f454b35e1596a99da3dddc4</td>\n",
       "      <td>teutonia</td>\n",
       "      <td>RS</td>\n",
       "      <td>f30149f4a8882a08895b6a242aa0d612</td>\n",
       "      <td>2018-05-20 18:45:21</td>\n",
       "      <td>1</td>\n",
       "      <td>00066f42aeeb9f3007548bb9d3f33c38</td>\n",
       "      <td>101.65</td>\n",
       "      <td>91845d1f2ee1fdb677c769fad86f2109</td>\n",
       "      <td>5</td>\n",
       "      <td>-29.500155</td>\n",
       "      <td>-51.805718</td>\n",
       "      <td>perfumaria</td>\n",
       "      <td>1</td>\n",
       "    </tr>\n",
       "  </tbody>\n",
       "</table>\n",
       "</div>"
      ],
      "text/plain": [
       "                            customer_id customer_city customer_state  \\\n",
       "50624  86c180c33f454b35e1596a99da3dddc4      teutonia             RS   \n",
       "\n",
       "                               order_id order_purchase_timestamp  \\\n",
       "50624  f30149f4a8882a08895b6a242aa0d612      2018-05-20 18:45:21   \n",
       "\n",
       "       order_item_id                        product_id   price  \\\n",
       "50624              1  00066f42aeeb9f3007548bb9d3f33c38  101.65   \n",
       "\n",
       "                              review_id  review_score  customer_lat  \\\n",
       "50624  91845d1f2ee1fdb677c769fad86f2109             5    -29.500155   \n",
       "\n",
       "       customer_long product_category_name  quantidade_item  \n",
       "50624     -51.805718            perfumaria                1  "
      ]
     },
     "execution_count": 10,
     "metadata": {},
     "output_type": "execute_result"
    }
   ],
   "source": [
    "maior_review = media_review['review_score'].idxmax()\n",
    "df.loc[df['product_id'] == maior_review]"
   ]
  },
  {
   "cell_type": "markdown",
   "id": "pretty-favorite",
   "metadata": {},
   "source": [
    "O produto \"00066f42aeeb9f3007548bb9d3f33c38\" - da categoria \"Perfumaria\" é o melhor produto de acordo com as notas no Review"
   ]
  },
  {
   "cell_type": "code",
   "execution_count": 11,
   "id": "therapeutic-pontiac",
   "metadata": {},
   "outputs": [
    {
     "data": {
      "text/html": [
       "<div>\n",
       "<style scoped>\n",
       "    .dataframe tbody tr th:only-of-type {\n",
       "        vertical-align: middle;\n",
       "    }\n",
       "\n",
       "    .dataframe tbody tr th {\n",
       "        vertical-align: top;\n",
       "    }\n",
       "\n",
       "    .dataframe thead th {\n",
       "        text-align: right;\n",
       "    }\n",
       "</style>\n",
       "<table border=\"1\" class=\"dataframe\">\n",
       "  <thead>\n",
       "    <tr style=\"text-align: right;\">\n",
       "      <th></th>\n",
       "      <th>customer_id</th>\n",
       "      <th>customer_city</th>\n",
       "      <th>customer_state</th>\n",
       "      <th>order_id</th>\n",
       "      <th>order_purchase_timestamp</th>\n",
       "      <th>order_item_id</th>\n",
       "      <th>product_id</th>\n",
       "      <th>price</th>\n",
       "      <th>review_id</th>\n",
       "      <th>review_score</th>\n",
       "      <th>customer_lat</th>\n",
       "      <th>customer_long</th>\n",
       "      <th>product_category_name</th>\n",
       "      <th>quantidade_item</th>\n",
       "    </tr>\n",
       "  </thead>\n",
       "  <tbody>\n",
       "    <tr>\n",
       "      <th>50624</th>\n",
       "      <td>86c180c33f454b35e1596a99da3dddc4</td>\n",
       "      <td>teutonia</td>\n",
       "      <td>RS</td>\n",
       "      <td>f30149f4a8882a08895b6a242aa0d612</td>\n",
       "      <td>2018-05-20 18:45:21</td>\n",
       "      <td>1</td>\n",
       "      <td>00066f42aeeb9f3007548bb9d3f33c38</td>\n",
       "      <td>101.65</td>\n",
       "      <td>91845d1f2ee1fdb677c769fad86f2109</td>\n",
       "      <td>5</td>\n",
       "      <td>-29.500155</td>\n",
       "      <td>-51.805718</td>\n",
       "      <td>perfumaria</td>\n",
       "      <td>1</td>\n",
       "    </tr>\n",
       "  </tbody>\n",
       "</table>\n",
       "</div>"
      ],
      "text/plain": [
       "                            customer_id customer_city customer_state  \\\n",
       "50624  86c180c33f454b35e1596a99da3dddc4      teutonia             RS   \n",
       "\n",
       "                               order_id order_purchase_timestamp  \\\n",
       "50624  f30149f4a8882a08895b6a242aa0d612      2018-05-20 18:45:21   \n",
       "\n",
       "       order_item_id                        product_id   price  \\\n",
       "50624              1  00066f42aeeb9f3007548bb9d3f33c38  101.65   \n",
       "\n",
       "                              review_id  review_score  customer_lat  \\\n",
       "50624  91845d1f2ee1fdb677c769fad86f2109             5    -29.500155   \n",
       "\n",
       "       customer_long product_category_name  quantidade_item  \n",
       "50624     -51.805718            perfumaria                1  "
      ]
     },
     "execution_count": 11,
     "metadata": {},
     "output_type": "execute_result"
    }
   ],
   "source": [
    "df[df['product_id'] == maior_review]"
   ]
  },
  {
   "cell_type": "markdown",
   "id": "commercial-appointment",
   "metadata": {},
   "source": [
    "Porém o produto citado acima tem apenas uma única revisão. Por isso uma melhor avaliação da popularidade é a Média Bayesiana, onde:\n",
    "C - representa o tamanho do conjunto de dados\n",
    "m - representa a classificação média de todos os produtos\n",
    "N - representa o número total de reviews dos produtos\n",
    "\n",
    "Mas antes, vamos agrupar os dados dos produtos com a média do review_score."
   ]
  },
  {
   "cell_type": "code",
   "execution_count": 12,
   "id": "prospective-designer",
   "metadata": {},
   "outputs": [],
   "source": [
    "produto_stats = df.groupby(['product_id', 'product_category_name'])[['review_score']].agg(['count', 'mean'])\n",
    "produto_stats.columns = produto_stats.columns.droplevel()"
   ]
  },
  {
   "cell_type": "code",
   "execution_count": 13,
   "id": "directed-consolidation",
   "metadata": {},
   "outputs": [
    {
     "data": {
      "text/html": [
       "<div>\n",
       "<style scoped>\n",
       "    .dataframe tbody tr th:only-of-type {\n",
       "        vertical-align: middle;\n",
       "    }\n",
       "\n",
       "    .dataframe tbody tr th {\n",
       "        vertical-align: top;\n",
       "    }\n",
       "\n",
       "    .dataframe thead th {\n",
       "        text-align: right;\n",
       "    }\n",
       "</style>\n",
       "<table border=\"1\" class=\"dataframe\">\n",
       "  <thead>\n",
       "    <tr style=\"text-align: right;\">\n",
       "      <th></th>\n",
       "      <th></th>\n",
       "      <th>count</th>\n",
       "      <th>mean</th>\n",
       "    </tr>\n",
       "    <tr>\n",
       "      <th>product_id</th>\n",
       "      <th>product_category_name</th>\n",
       "      <th></th>\n",
       "      <th></th>\n",
       "    </tr>\n",
       "  </thead>\n",
       "  <tbody>\n",
       "    <tr>\n",
       "      <th>00066f42aeeb9f3007548bb9d3f33c38</th>\n",
       "      <th>perfumaria</th>\n",
       "      <td>1</td>\n",
       "      <td>5.0</td>\n",
       "    </tr>\n",
       "    <tr>\n",
       "      <th>00088930e925c41fd95ebfe695fd2655</th>\n",
       "      <th>automotivo</th>\n",
       "      <td>1</td>\n",
       "      <td>4.0</td>\n",
       "    </tr>\n",
       "    <tr>\n",
       "      <th>0009406fd7479715e4bef61dd91f2462</th>\n",
       "      <th>cama_mesa_banho</th>\n",
       "      <td>1</td>\n",
       "      <td>1.0</td>\n",
       "    </tr>\n",
       "    <tr>\n",
       "      <th>000b8f95fcb9e0096488278317764d19</th>\n",
       "      <th>utilidades_domesticas</th>\n",
       "      <td>2</td>\n",
       "      <td>5.0</td>\n",
       "    </tr>\n",
       "    <tr>\n",
       "      <th>000d9be29b5207b54e86aa1b1ac54872</th>\n",
       "      <th>relogios_presentes</th>\n",
       "      <td>1</td>\n",
       "      <td>5.0</td>\n",
       "    </tr>\n",
       "    <tr>\n",
       "      <th>...</th>\n",
       "      <th>...</th>\n",
       "      <td>...</td>\n",
       "      <td>...</td>\n",
       "    </tr>\n",
       "    <tr>\n",
       "      <th>fff6177642830a9a94a0f2cba5e476d1</th>\n",
       "      <th>cool_stuff</th>\n",
       "      <td>2</td>\n",
       "      <td>4.5</td>\n",
       "    </tr>\n",
       "    <tr>\n",
       "      <th>fff81cc3158d2725c0655ab9ba0f712c</th>\n",
       "      <th>beleza_saude</th>\n",
       "      <td>1</td>\n",
       "      <td>4.0</td>\n",
       "    </tr>\n",
       "    <tr>\n",
       "      <th>fff9553ac224cec9d15d49f5a263411f</th>\n",
       "      <th>fashion_bolsas_e_acessorios</th>\n",
       "      <td>1</td>\n",
       "      <td>5.0</td>\n",
       "    </tr>\n",
       "    <tr>\n",
       "      <th>fffdb2d0ec8d6a61f0a0a0db3f25b441</th>\n",
       "      <th>informatica_acessorios</th>\n",
       "      <td>5</td>\n",
       "      <td>5.0</td>\n",
       "    </tr>\n",
       "    <tr>\n",
       "      <th>fffe9eeff12fcbd74a2f2b007dde0c58</th>\n",
       "      <th>brinquedos</th>\n",
       "      <td>1</td>\n",
       "      <td>4.0</td>\n",
       "    </tr>\n",
       "  </tbody>\n",
       "</table>\n",
       "<p>33858 rows × 2 columns</p>\n",
       "</div>"
      ],
      "text/plain": [
       "                                                              count  mean\n",
       "product_id                       product_category_name                   \n",
       "00066f42aeeb9f3007548bb9d3f33c38 perfumaria                       1   5.0\n",
       "00088930e925c41fd95ebfe695fd2655 automotivo                       1   4.0\n",
       "0009406fd7479715e4bef61dd91f2462 cama_mesa_banho                  1   1.0\n",
       "000b8f95fcb9e0096488278317764d19 utilidades_domesticas            2   5.0\n",
       "000d9be29b5207b54e86aa1b1ac54872 relogios_presentes               1   5.0\n",
       "...                                                             ...   ...\n",
       "fff6177642830a9a94a0f2cba5e476d1 cool_stuff                       2   4.5\n",
       "fff81cc3158d2725c0655ab9ba0f712c beleza_saude                     1   4.0\n",
       "fff9553ac224cec9d15d49f5a263411f fashion_bolsas_e_acessorios      1   5.0\n",
       "fffdb2d0ec8d6a61f0a0a0db3f25b441 informatica_acessorios           5   5.0\n",
       "fffe9eeff12fcbd74a2f2b007dde0c58 brinquedos                       1   4.0\n",
       "\n",
       "[33858 rows x 2 columns]"
      ]
     },
     "execution_count": 13,
     "metadata": {},
     "output_type": "execute_result"
    }
   ],
   "source": [
    "produto_stats"
   ]
  },
  {
   "cell_type": "code",
   "execution_count": 14,
   "id": "refined-jesus",
   "metadata": {},
   "outputs": [],
   "source": [
    "C = produto_stats['count'].mean()\n",
    "m = produto_stats['mean'].mean()\n",
    "\n",
    "def media_bayesiana(reviews):\n",
    "    media_bayesiana = (C * m + reviews.sum()) / (C + reviews.count())\n",
    "    \n",
    "    return media_bayesiana"
   ]
  },
  {
   "cell_type": "code",
   "execution_count": 15,
   "id": "terminal-burlington",
   "metadata": {},
   "outputs": [],
   "source": [
    "media_bayesiana_reviews = df.groupby(['product_id'])['review_score'].agg(media_bayesiana).reset_index()\n",
    "media_bayesiana_reviews.columns = ['product_id', 'media_bayesiana']"
   ]
  },
  {
   "cell_type": "code",
   "execution_count": 16,
   "id": "lesbian-particle",
   "metadata": {},
   "outputs": [
    {
     "data": {
      "text/html": [
       "<div>\n",
       "<style scoped>\n",
       "    .dataframe tbody tr th:only-of-type {\n",
       "        vertical-align: middle;\n",
       "    }\n",
       "\n",
       "    .dataframe tbody tr th {\n",
       "        vertical-align: top;\n",
       "    }\n",
       "\n",
       "    .dataframe thead th {\n",
       "        text-align: right;\n",
       "    }\n",
       "</style>\n",
       "<table border=\"1\" class=\"dataframe\">\n",
       "  <thead>\n",
       "    <tr style=\"text-align: right;\">\n",
       "      <th></th>\n",
       "      <th>product_id</th>\n",
       "      <th>media_bayesiana</th>\n",
       "    </tr>\n",
       "  </thead>\n",
       "  <tbody>\n",
       "    <tr>\n",
       "      <th>0</th>\n",
       "      <td>00066f42aeeb9f3007548bb9d3f33c38</td>\n",
       "      <td>4.219467</td>\n",
       "    </tr>\n",
       "    <tr>\n",
       "      <th>1</th>\n",
       "      <td>00088930e925c41fd95ebfe695fd2655</td>\n",
       "      <td>3.989890</td>\n",
       "    </tr>\n",
       "    <tr>\n",
       "      <th>2</th>\n",
       "      <td>0009406fd7479715e4bef61dd91f2462</td>\n",
       "      <td>3.301159</td>\n",
       "    </tr>\n",
       "    <tr>\n",
       "      <th>3</th>\n",
       "      <td>000b8f95fcb9e0096488278317764d19</td>\n",
       "      <td>4.365202</td>\n",
       "    </tr>\n",
       "    <tr>\n",
       "      <th>4</th>\n",
       "      <td>000d9be29b5207b54e86aa1b1ac54872</td>\n",
       "      <td>4.219467</td>\n",
       "    </tr>\n",
       "    <tr>\n",
       "      <th>...</th>\n",
       "      <td>...</td>\n",
       "      <td>...</td>\n",
       "    </tr>\n",
       "    <tr>\n",
       "      <th>32395</th>\n",
       "      <td>fff6177642830a9a94a0f2cba5e476d1</td>\n",
       "      <td>4.178490</td>\n",
       "    </tr>\n",
       "    <tr>\n",
       "      <th>32396</th>\n",
       "      <td>fff81cc3158d2725c0655ab9ba0f712c</td>\n",
       "      <td>3.989890</td>\n",
       "    </tr>\n",
       "    <tr>\n",
       "      <th>32397</th>\n",
       "      <td>fff9553ac224cec9d15d49f5a263411f</td>\n",
       "      <td>4.219467</td>\n",
       "    </tr>\n",
       "    <tr>\n",
       "      <th>32398</th>\n",
       "      <td>fffdb2d0ec8d6a61f0a0a0db3f25b441</td>\n",
       "      <td>4.593114</td>\n",
       "    </tr>\n",
       "    <tr>\n",
       "      <th>32399</th>\n",
       "      <td>fffe9eeff12fcbd74a2f2b007dde0c58</td>\n",
       "      <td>3.989890</td>\n",
       "    </tr>\n",
       "  </tbody>\n",
       "</table>\n",
       "<p>32400 rows × 2 columns</p>\n",
       "</div>"
      ],
      "text/plain": [
       "                             product_id  media_bayesiana\n",
       "0      00066f42aeeb9f3007548bb9d3f33c38         4.219467\n",
       "1      00088930e925c41fd95ebfe695fd2655         3.989890\n",
       "2      0009406fd7479715e4bef61dd91f2462         3.301159\n",
       "3      000b8f95fcb9e0096488278317764d19         4.365202\n",
       "4      000d9be29b5207b54e86aa1b1ac54872         4.219467\n",
       "...                                 ...              ...\n",
       "32395  fff6177642830a9a94a0f2cba5e476d1         4.178490\n",
       "32396  fff81cc3158d2725c0655ab9ba0f712c         3.989890\n",
       "32397  fff9553ac224cec9d15d49f5a263411f         4.219467\n",
       "32398  fffdb2d0ec8d6a61f0a0a0db3f25b441         4.593114\n",
       "32399  fffe9eeff12fcbd74a2f2b007dde0c58         3.989890\n",
       "\n",
       "[32400 rows x 2 columns]"
      ]
     },
     "execution_count": 16,
     "metadata": {},
     "output_type": "execute_result"
    }
   ],
   "source": [
    "media_bayesiana_reviews"
   ]
  },
  {
   "cell_type": "code",
   "execution_count": 17,
   "id": "blocked-navigator",
   "metadata": {},
   "outputs": [],
   "source": [
    "produto_stats = df.groupby(['product_id', 'product_category_name'])[['review_score']].agg(['count', 'mean']).reset_index()"
   ]
  },
  {
   "cell_type": "code",
   "execution_count": 18,
   "id": "deluxe-dealing",
   "metadata": {},
   "outputs": [
    {
     "name": "stderr",
     "output_type": "stream",
     "text": [
      "/home/ariana/anaconda3/lib/python3.7/site-packages/pandas/core/reshape/merge.py:648: UserWarning: merging between different levels can give an unintended result (2 levels on the left,1 on the right)\n",
      "  warnings.warn(msg, UserWarning)\n"
     ]
    }
   ],
   "source": [
    "produto_stats = pd.merge(produto_stats, media_bayesiana_reviews, on='product_id')"
   ]
  },
  {
   "cell_type": "code",
   "execution_count": 19,
   "id": "australian-lottery",
   "metadata": {},
   "outputs": [],
   "source": [
    "produto_stats = produto_stats.drop(['product_id'], axis=1)"
   ]
  },
  {
   "cell_type": "code",
   "execution_count": 20,
   "id": "novel-malaysia",
   "metadata": {},
   "outputs": [
    {
     "data": {
      "text/html": [
       "<div>\n",
       "<style scoped>\n",
       "    .dataframe tbody tr th:only-of-type {\n",
       "        vertical-align: middle;\n",
       "    }\n",
       "\n",
       "    .dataframe tbody tr th {\n",
       "        vertical-align: top;\n",
       "    }\n",
       "\n",
       "    .dataframe thead th {\n",
       "        text-align: right;\n",
       "    }\n",
       "</style>\n",
       "<table border=\"1\" class=\"dataframe\">\n",
       "  <thead>\n",
       "    <tr style=\"text-align: right;\">\n",
       "      <th></th>\n",
       "      <th>(product_id, )</th>\n",
       "      <th>(product_category_name, )</th>\n",
       "      <th>(review_score, count)</th>\n",
       "      <th>(review_score, mean)</th>\n",
       "      <th>media_bayesiana</th>\n",
       "    </tr>\n",
       "  </thead>\n",
       "  <tbody>\n",
       "    <tr>\n",
       "      <th>8319</th>\n",
       "      <td>3e4176d545618ed02f382a3057de32b4</td>\n",
       "      <td>malas_acessorios</td>\n",
       "      <td>24</td>\n",
       "      <td>4.958333</td>\n",
       "      <td>4.839161</td>\n",
       "    </tr>\n",
       "    <tr>\n",
       "      <th>7453</th>\n",
       "      <td>37eb69aca8718e843d897aa7b82f462d</td>\n",
       "      <td>ferramentas_jardim</td>\n",
       "      <td>15</td>\n",
       "      <td>5.000000</td>\n",
       "      <td>4.814780</td>\n",
       "    </tr>\n",
       "    <tr>\n",
       "      <th>18453</th>\n",
       "      <td>8b6ed41158b194711f83b8da92757544</td>\n",
       "      <td>esporte_lazer</td>\n",
       "      <td>14</td>\n",
       "      <td>5.000000</td>\n",
       "      <td>4.804108</td>\n",
       "    </tr>\n",
       "    <tr>\n",
       "      <th>17911</th>\n",
       "      <td>870bcc6c58e03ca658cfdd13db4bbe28</td>\n",
       "      <td>informatica_acessorios</td>\n",
       "      <td>14</td>\n",
       "      <td>5.000000</td>\n",
       "      <td>4.804108</td>\n",
       "    </tr>\n",
       "    <tr>\n",
       "      <th>17209</th>\n",
       "      <td>8173ca41cdb176462f9ae79821a48404</td>\n",
       "      <td>esporte_lazer</td>\n",
       "      <td>14</td>\n",
       "      <td>5.000000</td>\n",
       "      <td>4.804108</td>\n",
       "    </tr>\n",
       "  </tbody>\n",
       "</table>\n",
       "</div>"
      ],
      "text/plain": [
       "                         (product_id, ) (product_category_name, )  \\\n",
       "8319   3e4176d545618ed02f382a3057de32b4          malas_acessorios   \n",
       "7453   37eb69aca8718e843d897aa7b82f462d        ferramentas_jardim   \n",
       "18453  8b6ed41158b194711f83b8da92757544             esporte_lazer   \n",
       "17911  870bcc6c58e03ca658cfdd13db4bbe28    informatica_acessorios   \n",
       "17209  8173ca41cdb176462f9ae79821a48404             esporte_lazer   \n",
       "\n",
       "       (review_score, count)  (review_score, mean)  media_bayesiana  \n",
       "8319                      24              4.958333         4.839161  \n",
       "7453                      15              5.000000         4.814780  \n",
       "18453                     14              5.000000         4.804108  \n",
       "17911                     14              5.000000         4.804108  \n",
       "17209                     14              5.000000         4.804108  "
      ]
     },
     "execution_count": 20,
     "metadata": {},
     "output_type": "execute_result"
    }
   ],
   "source": [
    "produto_stats.sort_values('media_bayesiana', ascending=False).head()"
   ]
  },
  {
   "cell_type": "markdown",
   "id": "coral-excess",
   "metadata": {},
   "source": [
    "Usando a média bayesiana, vemos os produtos mais bem avaliados. \n",
    "\n",
    "Agora, quais produtos são os mais mal avaliados, de acordo com a média bayesiana?"
   ]
  },
  {
   "cell_type": "code",
   "execution_count": 21,
   "id": "initial-young",
   "metadata": {
    "scrolled": true
   },
   "outputs": [
    {
     "data": {
      "text/html": [
       "<div>\n",
       "<style scoped>\n",
       "    .dataframe tbody tr th:only-of-type {\n",
       "        vertical-align: middle;\n",
       "    }\n",
       "\n",
       "    .dataframe tbody tr th {\n",
       "        vertical-align: top;\n",
       "    }\n",
       "\n",
       "    .dataframe thead th {\n",
       "        text-align: right;\n",
       "    }\n",
       "</style>\n",
       "<table border=\"1\" class=\"dataframe\">\n",
       "  <thead>\n",
       "    <tr style=\"text-align: right;\">\n",
       "      <th></th>\n",
       "      <th>(product_id, )</th>\n",
       "      <th>(product_category_name, )</th>\n",
       "      <th>(review_score, count)</th>\n",
       "      <th>(review_score, mean)</th>\n",
       "      <th>media_bayesiana</th>\n",
       "    </tr>\n",
       "  </thead>\n",
       "  <tbody>\n",
       "    <tr>\n",
       "      <th>19728</th>\n",
       "      <td>9571759451b1d780ee7c15012ea109d4</td>\n",
       "      <td>automotivo</td>\n",
       "      <td>20</td>\n",
       "      <td>1.0</td>\n",
       "      <td>1.429164</td>\n",
       "    </tr>\n",
       "    <tr>\n",
       "      <th>16583</th>\n",
       "      <td>7c68e7297c7df2535c9f0dcd61007f64</td>\n",
       "      <td>moveis_decoracao</td>\n",
       "      <td>10</td>\n",
       "      <td>1.0</td>\n",
       "      <td>1.750494</td>\n",
       "    </tr>\n",
       "    <tr>\n",
       "      <th>716</th>\n",
       "      <td>05b515fdc76e888aada3c6d66c201dff</td>\n",
       "      <td>beleza_saude</td>\n",
       "      <td>10</td>\n",
       "      <td>1.0</td>\n",
       "      <td>1.750494</td>\n",
       "    </tr>\n",
       "    <tr>\n",
       "      <th>5277</th>\n",
       "      <td>270516a3f41dc035aa87d220228f844c</td>\n",
       "      <td>beleza_saude</td>\n",
       "      <td>10</td>\n",
       "      <td>1.0</td>\n",
       "      <td>1.750494</td>\n",
       "    </tr>\n",
       "    <tr>\n",
       "      <th>33207</th>\n",
       "      <td>fb29f48bfea41db52e349454f433340e</td>\n",
       "      <td>informatica_acessorios</td>\n",
       "      <td>10</td>\n",
       "      <td>1.0</td>\n",
       "      <td>1.750494</td>\n",
       "    </tr>\n",
       "  </tbody>\n",
       "</table>\n",
       "</div>"
      ],
      "text/plain": [
       "                         (product_id, ) (product_category_name, )  \\\n",
       "19728  9571759451b1d780ee7c15012ea109d4                automotivo   \n",
       "16583  7c68e7297c7df2535c9f0dcd61007f64          moveis_decoracao   \n",
       "716    05b515fdc76e888aada3c6d66c201dff              beleza_saude   \n",
       "5277   270516a3f41dc035aa87d220228f844c              beleza_saude   \n",
       "33207  fb29f48bfea41db52e349454f433340e    informatica_acessorios   \n",
       "\n",
       "       (review_score, count)  (review_score, mean)  media_bayesiana  \n",
       "19728                     20                   1.0         1.429164  \n",
       "16583                     10                   1.0         1.750494  \n",
       "716                       10                   1.0         1.750494  \n",
       "5277                      10                   1.0         1.750494  \n",
       "33207                     10                   1.0         1.750494  "
      ]
     },
     "execution_count": 21,
     "metadata": {},
     "output_type": "execute_result"
    }
   ],
   "source": [
    "produto_stats.sort_values('media_bayesiana', ascending=True).head()"
   ]
  },
  {
   "cell_type": "markdown",
   "id": "restricted-chapel",
   "metadata": {},
   "source": [
    "## Transformar os dados\n",
    "Estaremos usando uma técnica chamada filtragem colaborativa para gerar recomendações de usuários. Essa técnica é baseada na suposição de \"homofilia\" - usuários semelhantes gostam de coisas semelhantes. A filtragem colaborativa é um tipo de aprendizagem não supervisionada que faz previsões sobre os interesses de um usuário, aprendendo com os interesses de uma população maior.\n",
    "\n",
    "A primeira etapa da filtragem colaborativa é transformar nossos dados em uma matriz de item de usuário - também conhecida como matriz de \"utilidade\". Nesta matriz, as linhas representam os usuários e as colunas representam os itens. A beleza da filtragem colaborativa é que ela não requer nenhuma informação sobre os usuários ou itens para gerar recomendações.\n",
    "\n",
    "### A função cria_X () produz uma matriz esparsa X com quatro dicionários mapeadores:\n",
    "\n",
    "cliente_mapper: mapeia o id do cliente para o índice do cliente\n",
    "produto_mapper: mapeia o id do produto para o índice do produto\n",
    "cliente_inv_mapper: mapeia o índice do cliente para o id do cliente\n",
    "produto_inv_mapper: mapeia o índice do produto para o id do produto\n",
    "Precisamos desses dicionários porque eles mapeiam qual linha e coluna da matriz de utilidade corresponde a qual ID de cliente e ID de produto, respectivamente.\n",
    "\n",
    "A matriz X (item do cliente) é um scipy.sparse.csr_matrix que armazena os dados esparsamente."
   ]
  },
  {
   "cell_type": "code",
   "execution_count": 22,
   "id": "infrared-academy",
   "metadata": {},
   "outputs": [],
   "source": [
    "from scipy.sparse import csr_matrix\n",
    "\n",
    "def cria_X(df):\n",
    "    N = df['customer_id'].nunique()\n",
    "    M = df['product_id'].nunique()\n",
    "    \n",
    "    cliente_mapper = dict(zip(np.unique(df['customer_id']), list(range(N))))\n",
    "    produto_mapper = dict(zip(np.unique(df['product_id']), list(range(M))))\n",
    "    \n",
    "    cliente_inv_mapper = dict(zip(list(range(N)), np.unique(df['customer_id'])))\n",
    "    produto_inv_mapper = dict(zip(list(range(M)), np.unique(df['product_id'])))\n",
    "    \n",
    "    cliente_index = [cliente_mapper[i] for i in df['customer_id']]\n",
    "    produto_index = [produto_mapper[i] for i in df['product_id']]\n",
    "    \n",
    "    X = csr_matrix((df['review_score'], (produto_index, cliente_index)), shape=(M,N))\n",
    "    \n",
    "    return X, cliente_mapper, produto_mapper, cliente_inv_mapper, produto_inv_mapper\n",
    "    "
   ]
  },
  {
   "cell_type": "code",
   "execution_count": 23,
   "id": "spatial-chorus",
   "metadata": {},
   "outputs": [],
   "source": [
    "X, cliente_mapper, produto_mapper, cliente_inv_mapper, produto_inv_mapper = cria_X(df)"
   ]
  },
  {
   "cell_type": "markdown",
   "id": "common-million",
   "metadata": {},
   "source": [
    "## Encontrar produtos semelhantes usando k-Nearest Neighbours\n",
    "\n",
    "Essa abordagem procura os k vizinhos mais próximos de um determinado produto, identificando k pontos no conjunto de dados que estão mais próximos do produto m. kNN faz uso de métricas de distância.\n",
    "\n",
    "Embora seja difícil de visualizar, estamos trabalhando em um espaço M-dimensional onde M representa o número de filmes em nossa matriz X."
   ]
  },
  {
   "cell_type": "markdown",
   "id": "expanded-albert",
   "metadata": {},
   "source": [
    "Para encontrar o número ideal de K\n",
    "Em geral, cientistas testam valores ímpares para K, pois identificou-se melhores resultados com valores não pares. A melhor maneira de se obter o melhor K é testando diversos valores, podemos tirar a raiz quadrada dos valor total de pontos existentes no dataset ou aplicar técnicas de tunning para identificação do valor que ira performar melhor."
   ]
  },
  {
   "cell_type": "code",
   "execution_count": 24,
   "id": "helpful-gasoline",
   "metadata": {},
   "outputs": [
    {
     "data": {
      "text/plain": [
       "337.07862584269566"
      ]
     },
     "execution_count": 24,
     "metadata": {},
     "output_type": "execute_result"
    }
   ],
   "source": [
    "import math\n",
    "math.sqrt(len(df))"
   ]
  },
  {
   "cell_type": "markdown",
   "id": "conceptual-jones",
   "metadata": {},
   "source": [
    "A máxima acurácia foi encontrada no K = 38\n",
    "\n",
    "**Ver no notebook knn_k.ipynb**"
   ]
  },
  {
   "cell_type": "markdown",
   "id": "basic-belly",
   "metadata": {},
   "source": [
    "### A função encontra_produtos_similares\n",
    "Argumentos:\n",
    "product_id - id do produto de interesse\n",
    "X - matriz de utilidade de item de cliente\n",
    "k - número de produtos semelhantes para recuperar\n",
    "métrica - distância métrica para cálculos kNN\n",
    "\n",
    "Retorna:\n",
    "lista de k IDs de produtos semelhantes"
   ]
  },
  {
   "cell_type": "code",
   "execution_count": 25,
   "id": "moral-adoption",
   "metadata": {},
   "outputs": [],
   "source": [
    "from sklearn.neighbors import NearestNeighbors\n",
    "\n",
    "def encontra_produtos_similares(product_id, X, k, metric='cosine', show_distance=False):\n",
    "    neighbour_ids = []\n",
    "    product_ind = produto_mapper[product_id]\n",
    "    product_vec = X[product_ind]\n",
    "    k+=1\n",
    "    kNN = NearestNeighbors(n_neighbors=k, algorithm=\"brute\", metric=metric)\n",
    "    kNN.fit(X)\n",
    "    \n",
    "    if isinstance(product_vec, (np.ndarray)):\n",
    "        product_vec = product_vec.reshape(1, -1)\n",
    "    \n",
    "    neighbour = kNN.kneighbors(product_vec, return_distance=show_distance)\n",
    "    for i in range(0, k):\n",
    "        n = neighbour.item(i)\n",
    "        neighbour_ids.append(produto_inv_mapper[n])\n",
    "        \n",
    "    neighbour_ids.pop(0)\n",
    "    return neighbour_ids"
   ]
  },
  {
   "cell_type": "markdown",
   "id": "objective-tribute",
   "metadata": {},
   "source": [
    "encontra_produtos_similares() pega um product_id e uma matriz X de item de cliente e produz uma lista de k filmes que são semelhantes ao product_id de interesse.\n",
    "\n",
    "Vamos ver como funciona em ação. Criaremos primeiro outro mapeador que mapeia product_id para categoria para que nossos resultados sejam mais fáceis de interpretar."
   ]
  },
  {
   "cell_type": "markdown",
   "id": "little-original",
   "metadata": {},
   "source": [
    "A métrica padrão da função é a distância de cosseno\n",
    "\n",
    "**Distância de cosseno** - Esta métrica de distância é usada principalmente para calcular a similaridade entre dois vetores. É medido pelo cosseno do ângulo entre dois vetores e determina se dois vetores estão apontando na mesma direção. Geralmente é usado para medir a similaridade de documentos na análise de texto. Quando usada com KNN, essa distância nos dá uma nova perspectiva para um problema de negócios e nos permite encontrar algumas informações ocultas nos dados que não vimos usando as duas matrizes de distância acima.\n",
    "\n",
    "Ele também é usado em analítica de texto para encontrar semelhanças entre dois documentos pelo número de vezes que um determinado conjunto de palavras aparece nele."
   ]
  },
  {
   "cell_type": "code",
   "execution_count": 26,
   "id": "atlantic-devil",
   "metadata": {
    "scrolled": true
   },
   "outputs": [
    {
     "name": "stdout",
     "output_type": "stream",
     "text": [
      "Porque você comprou o Produto 3e4176d545618ed02f382a3057de32b4 da Categoria malas_acessorios\n",
      "Produto: ab8a616a62326859211452cc82885197 da Categoria: bebidas\n",
      "Produto: ab687729e8507381d0b4aa32bef2d723 da Categoria: moveis_decoracao\n",
      "Produto: ab6894479165254fa26f0fbb31c53ce4 da Categoria: cama_mesa_banho\n",
      "Produto: ab6ac334be05ff833a2e3973927dd83c da Categoria: beleza_saude\n",
      "Produto: ab6daa82c0ec6a0a6898c06151cc3c64 da Categoria: papelaria\n",
      "Produto: ab6edd00a29d1e29948284a492497854 da Categoria: eletrodomesticos\n",
      "Produto: ab71466511b5e49de73454353d49a2ba da Categoria: bebes\n",
      "Produto: ab7b628864c6935e8c1f1e993bbc4c81 da Categoria: automotivo\n",
      "Produto: ab7be0a001c3104b4931ce39ed70857d da Categoria: informatica_acessorios\n",
      "Produto: ab89689c2d13440b8152183ddee2ed81 da Categoria: esporte_lazer\n",
      "Produto: ab459aea1242203ebcbd7b18c2c6e6b0 da Categoria: market_place\n",
      "Produto: abb1b334edaeb7f4de5f7724b7fd94cf da Categoria: moveis_decoracao\n",
      "Produto: abb9de7600a7ae9a81564692f77fc9f3 da Categoria: moveis_decoracao\n",
      "Produto: abad2a82d0a25653323cec918ba3e54c da Categoria: beleza_saude\n",
      "Produto: abaefce0c17047c6829ff4078f2005d0 da Categoria: esporte_lazer\n",
      "Produto: abaf51d7a67cc363c8da7ae77d15ecdb da Categoria: esporte_lazer\n",
      "Produto: ab674fcb1f06bd16dfbca8d91f016391 da Categoria: moveis_decoracao\n",
      "Produto: abafccbe06074c732dceed6675d5a7ac da Categoria: cama_mesa_banho\n",
      "Produto: ab63f62c916db9ba192225d361b6ec44 da Categoria: fashion_bolsas_e_acessorios\n",
      "Produto: ab60483af7942c4bf838242e83eafee6 da Categoria: moveis_decoracao\n",
      "Produto: ab8b5aa9266aa1a8caceb8699dea0b1b da Categoria: beleza_saude\n",
      "Produto: ab481d9ef0fb9cab12778cdf56564ff7 da Categoria: fashion_calcados\n",
      "Produto: ab495f166205a883ffe5ab0b5b55f867 da Categoria: eletrodomesticos\n",
      "Produto: ab4d0d8e7348b45ce6c791374f098eed da Categoria: telefonia\n",
      "Produto: ab4d426852a7cd31cef3270bfab3bcdd da Categoria: beleza_saude\n",
      "Produto: ab4d60f2cff5544a9e5a3d9c7a88373b da Categoria: malas_acessorios\n",
      "Produto: ab507b0003df596e5511f33004ea720c da Categoria: beleza_saude\n",
      "Produto: ab616e3e77440ec426347964a3489108 da Categoria: moveis_decoracao\n",
      "Produto: ab507d0f8d9ac91607f9cff20a8c5684 da Categoria: climatizacao\n",
      "Produto: ab52c2c44ec8bebc9559a03ec12c8eec da Categoria: papelaria\n",
      "Produto: ab5471c55ab7dcdfbf32ed5f4edbd592 da Categoria: cama_mesa_banho\n",
      "Produto: ab56392f9c4033a5857a8e2b0ff3be70 da Categoria: cama_mesa_banho\n",
      "Produto: ab57d2064d8806f9cc9d5734e332a969 da Categoria: fashion_bolsas_e_acessorios\n",
      "Produto: ab592db756fdbec7cc98b2cd91ed51d0 da Categoria: moveis_decoracao\n",
      "Produto: ab5b097435a43ee034c6c17438726945 da Categoria: perfumaria\n",
      "Produto: ab5da1daa941470d14366f4e76a99dd2 da Categoria: eletrodomesticos\n",
      "Produto: ab50aa8d9af0addb7f96149c8b8cee86 da Categoria: cool_stuff\n",
      "Produto: aba9cea5277910afdc1ad5dec5583e1b da Categoria: automotivo\n"
     ]
    }
   ],
   "source": [
    "nome_produtos = dict(zip(df['product_id'], df['product_category_name']))\n",
    "\n",
    "produto_id = '3e4176d545618ed02f382a3057de32b4'\n",
    "\n",
    "similar_ids = encontra_produtos_similares(produto_id, X, k=38)\n",
    "nome_produto = nome_produtos[produto_id]\n",
    "\n",
    "print(\"Porque você comprou o Produto \" + produto_id + \" da Categoria \" + nome_produto)\n",
    "for i in similar_ids:\n",
    "    print(\"Produto: \" + i + \" da Categoria: \" + nome_produtos[i])"
   ]
  },
  {
   "cell_type": "code",
   "execution_count": null,
   "id": "connected-european",
   "metadata": {},
   "outputs": [],
   "source": []
  }
 ],
 "metadata": {
  "kernelspec": {
   "display_name": "Python 3",
   "language": "python",
   "name": "python3"
  },
  "language_info": {
   "codemirror_mode": {
    "name": "ipython",
    "version": 3
   },
   "file_extension": ".py",
   "mimetype": "text/x-python",
   "name": "python",
   "nbconvert_exporter": "python",
   "pygments_lexer": "ipython3",
   "version": "3.7.9"
  }
 },
 "nbformat": 4,
 "nbformat_minor": 5
}
