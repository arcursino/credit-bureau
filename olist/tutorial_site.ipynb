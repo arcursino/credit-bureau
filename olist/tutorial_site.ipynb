{
 "cells": [
  {
   "cell_type": "code",
   "execution_count": 1,
   "id": "983036db",
   "metadata": {},
   "outputs": [
    {
     "name": "stderr",
     "output_type": "stream",
     "text": [
      "Matplotlib created a temporary config/cache directory at /tmp/matplotlib-ud2f2xgo because the default path (/.config/matplotlib) is not a writable directory; it is highly recommended to set the MPLCONFIGDIR environment variable to a writable directory, in particular to speed up the import of Matplotlib and to better support multiprocessing.\n"
     ]
    }
   ],
   "source": [
    "from datetime import datetime\n",
    "import pandas as pd\n",
    "import numpy as np\n",
    "import seaborn as sns\n",
    "import os\n",
    "import random\n",
    "import matplotlib\n",
    "import matplotlib.pyplot as plt\n",
    "from scipy import sparse\n",
    "from scipy import stats\n",
    "from sklearn.metrics.pairwise import cosine_similarity\n",
    "from sklearn.metrics import mean_squared_error\n",
    "import xgboost as xgb\n",
    "import numpy as np, scipy.stats as st\n",
    "import statsmodels.stats.api as sms\n",
    "\n",
    "from surprise import Reader, Dataset\n",
    "from surprise import BaselineOnly\n",
    "from surprise import KNNBaseline\n",
    "from surprise import SVD\n",
    "from surprise import SVDpp\n"
   ]
  },
  {
   "cell_type": "code",
   "execution_count": 2,
   "id": "e52fe082",
   "metadata": {},
   "outputs": [
    {
     "data": {
      "text/html": [
       "<div>\n",
       "<style scoped>\n",
       "    .dataframe tbody tr th:only-of-type {\n",
       "        vertical-align: middle;\n",
       "    }\n",
       "\n",
       "    .dataframe tbody tr th {\n",
       "        vertical-align: top;\n",
       "    }\n",
       "\n",
       "    .dataframe thead th {\n",
       "        text-align: right;\n",
       "    }\n",
       "</style>\n",
       "<table border=\"1\" class=\"dataframe\">\n",
       "  <thead>\n",
       "    <tr style=\"text-align: right;\">\n",
       "      <th></th>\n",
       "      <th>customer_id</th>\n",
       "      <th>customer_city</th>\n",
       "      <th>customer_state</th>\n",
       "      <th>order_id</th>\n",
       "      <th>order_purchase_timestamp</th>\n",
       "      <th>order_item_id</th>\n",
       "      <th>product_id</th>\n",
       "      <th>price</th>\n",
       "      <th>review_id</th>\n",
       "      <th>review_score</th>\n",
       "      <th>customer_lat</th>\n",
       "      <th>customer_long</th>\n",
       "      <th>product_category_name</th>\n",
       "      <th>quantidade_item</th>\n",
       "    </tr>\n",
       "  </thead>\n",
       "  <tbody>\n",
       "    <tr>\n",
       "      <th>0</th>\n",
       "      <td>06b8999e2fba1a1fbc88172c00ba8bc7</td>\n",
       "      <td>franca</td>\n",
       "      <td>SP</td>\n",
       "      <td>00e7ee1b050b8499577073aeb2a297a1</td>\n",
       "      <td>2017-05-16 15:05:35</td>\n",
       "      <td>1</td>\n",
       "      <td>a9516a079e37a9c9c36b9b78b10169e8</td>\n",
       "      <td>124.99</td>\n",
       "      <td>88b8b52d46df026a9d1ad2136a59b30b</td>\n",
       "      <td>4</td>\n",
       "      <td>-20.500253</td>\n",
       "      <td>-47.400367</td>\n",
       "      <td>moveis_escritorio</td>\n",
       "      <td>1</td>\n",
       "    </tr>\n",
       "    <tr>\n",
       "      <th>1</th>\n",
       "      <td>8912fc0c3bbf1e2fbf35819e21706718</td>\n",
       "      <td>santarem</td>\n",
       "      <td>PA</td>\n",
       "      <td>c1d2b34febe9cd269e378117d6681172</td>\n",
       "      <td>2017-11-09 00:50:13</td>\n",
       "      <td>1</td>\n",
       "      <td>a9516a079e37a9c9c36b9b78b10169e8</td>\n",
       "      <td>112.99</td>\n",
       "      <td>7fc63200f12eebb5f387856afdd63db8</td>\n",
       "      <td>1</td>\n",
       "      <td>-2.441535</td>\n",
       "      <td>-54.720801</td>\n",
       "      <td>moveis_escritorio</td>\n",
       "      <td>2</td>\n",
       "    </tr>\n",
       "  </tbody>\n",
       "</table>\n",
       "</div>"
      ],
      "text/plain": [
       "                        customer_id customer_city customer_state  \\\n",
       "0  06b8999e2fba1a1fbc88172c00ba8bc7        franca             SP   \n",
       "1  8912fc0c3bbf1e2fbf35819e21706718      santarem             PA   \n",
       "\n",
       "                           order_id order_purchase_timestamp  order_item_id  \\\n",
       "0  00e7ee1b050b8499577073aeb2a297a1      2017-05-16 15:05:35              1   \n",
       "1  c1d2b34febe9cd269e378117d6681172      2017-11-09 00:50:13              1   \n",
       "\n",
       "                         product_id   price                         review_id  \\\n",
       "0  a9516a079e37a9c9c36b9b78b10169e8  124.99  88b8b52d46df026a9d1ad2136a59b30b   \n",
       "1  a9516a079e37a9c9c36b9b78b10169e8  112.99  7fc63200f12eebb5f387856afdd63db8   \n",
       "\n",
       "   review_score  customer_lat  customer_long product_category_name  \\\n",
       "0             4    -20.500253     -47.400367     moveis_escritorio   \n",
       "1             1     -2.441535     -54.720801     moveis_escritorio   \n",
       "\n",
       "   quantidade_item  \n",
       "0                1  \n",
       "1                2  "
      ]
     },
     "execution_count": 2,
     "metadata": {},
     "output_type": "execute_result"
    }
   ],
   "source": [
    "df = pd.read_csv('olist_processado.csv')\n",
    "df.head(2)"
   ]
  },
  {
   "cell_type": "code",
   "execution_count": 3,
   "id": "b3067771",
   "metadata": {},
   "outputs": [],
   "source": [
    "df['customer_id_code'] = df.customer_id.astype('category').cat.codes\n",
    "df['product_id_code'] = df.product_id.astype('category').cat.codes"
   ]
  },
  {
   "cell_type": "code",
   "execution_count": 4,
   "id": "a3215e3e",
   "metadata": {},
   "outputs": [],
   "source": [
    "split_value = int(len(df) * 0.80)\n",
    "train_data = df[:split_value]\n",
    "test_data = df[split_value:]"
   ]
  },
  {
   "cell_type": "code",
   "execution_count": 5,
   "id": "fd23d9d5",
   "metadata": {},
   "outputs": [
    {
     "name": "stderr",
     "output_type": "stream",
     "text": [
      "/usr/local/lib/python3.6/site-packages/ipykernel_launcher.py:3: UserWarning: FixedFormatter should only be used together with FixedLocator\n",
      "  This is separate from the ipykernel package so we can avoid doing imports until\n"
     ]
    },
    {
     "data": {
      "image/png": "[encoded data removed]",
      "text/plain": [
       "<Figure size 864x576 with 1 Axes>"
      ]
     },
     "metadata": {
      "needs_background": "light"
     },
     "output_type": "display_data"
    }
   ],
   "source": [
    "plt.figure(figsize = (12, 8))\n",
    "ax = sns.countplot(x=\"review_score\", data=train_data)\n",
    "ax.set_yticklabels([num for num in ax.get_yticks()])\n",
    "plt.tick_params(labelsize = 15)\n",
    "plt.title(\"Contagem dos Reviews dos dados de treino\", fontsize = 20)\n",
    "plt.xlabel(\"Review\", fontsize = 20)\n",
    "plt.ylabel(\"Número de Review\", fontsize = 20)\n",
    "plt.show()"
   ]
  },
  {
   "cell_type": "code",
   "execution_count": 6,
   "id": "b1fbad57",
   "metadata": {},
   "outputs": [
    {
     "data": {
      "text/plain": [
       "customer_id\n",
       "f4c13379ddd0ed4f4fc1c0b49c2c5e51    22\n",
       "be1c4e52bb71e0c54b11a26b8e8d59f2    22\n",
       "be1b70680b9f9694d8c70f41fa3dc92b    20\n",
       "d6646ea91d8cd9fc7e6882a7068779d4    20\n",
       "62ff903909cb86e2b07156a6d7cc48da    18\n",
       "Name: review_score, dtype: int64"
      ]
     },
     "execution_count": 6,
     "metadata": {},
     "output_type": "execute_result"
    }
   ],
   "source": [
    "no_rated_products_per_cliente = train_data.groupby(by = \"customer_id\")[\"review_score\"].count().sort_values(ascending = False)\n",
    "no_rated_products_per_cliente.head()"
   ]
  },
  {
   "cell_type": "code",
   "execution_count": 7,
   "id": "25bba94b",
   "metadata": {},
   "outputs": [
    {
     "data": {
      "text/plain": [
       "product_id\n",
       "aca2eb7d00ea1a7b8ebd4e68314663af    528\n",
       "99a4788cb24856965c36a24e339b6058    527\n",
       "422879e10f46682990de24d770e7f83d    496\n",
       "368c6c730842d78016ad823897a372db    413\n",
       "389d119b48cf3043d311335e499d9c6b    399\n",
       "Name: review_score, dtype: int64"
      ]
     },
     "execution_count": 7,
     "metadata": {},
     "output_type": "execute_result"
    }
   ],
   "source": [
    "no_ratings_per_product = train_data.groupby(by = \"product_id\")[\"review_score\"].count().sort_values(ascending = False)\n",
    "no_ratings_per_product.head()"
   ]
  },
  {
   "cell_type": "code",
   "execution_count": 8,
   "id": "b4a04502",
   "metadata": {},
   "outputs": [],
   "source": [
    "def get_user_item_sparse_matrix(df):\n",
    "    sparse_data = sparse.csr_matrix((df.review_score, (df.customer_id_code, df.product_id_code)))\n",
    "    return sparse_data"
   ]
  },
  {
   "cell_type": "code",
   "execution_count": 9,
   "id": "90caef4b",
   "metadata": {},
   "outputs": [],
   "source": [
    "train_sparse_data = get_user_item_sparse_matrix(train_data)"
   ]
  },
  {
   "cell_type": "code",
   "execution_count": 10,
   "id": "6f36d82e",
   "metadata": {},
   "outputs": [],
   "source": [
    "test_sparse_data = get_user_item_sparse_matrix(test_data)"
   ]
  },
  {
   "cell_type": "code",
   "execution_count": 11,
   "id": "84f04996",
   "metadata": {},
   "outputs": [
    {
     "name": "stdout",
     "output_type": "stream",
     "text": [
      "Média de Review Global: 4.495230908168693\n"
     ]
    }
   ],
   "source": [
    "global_average_rating = train_sparse_data.sum()/train_sparse_data.count_nonzero()\n",
    "print(\"Média de Review Global: {}\".format(global_average_rating))"
   ]
  },
  {
   "cell_type": "code",
   "execution_count": 12,
   "id": "eac2c020",
   "metadata": {},
   "outputs": [],
   "source": [
    "def get_average_rating(sparse_matrix, is_user):\n",
    "    ax = 1 if is_user else 0\n",
    "    sum_of_ratings = sparse_matrix.sum(axis = ax).A1  \n",
    "    no_of_ratings = (sparse_matrix != 0).sum(axis = ax).A1 \n",
    "    rows, cols = sparse_matrix.shape\n",
    "    average_ratings = {i: sum_of_ratings[i]/no_of_ratings[i] for i in range(rows if is_user else cols) if no_of_ratings[i] != 0}\n",
    "    return average_ratings"
   ]
  },
  {
   "cell_type": "code",
   "execution_count": 13,
   "id": "12b69fdc",
   "metadata": {},
   "outputs": [],
   "source": [
    "average_rating_user = get_average_rating(train_sparse_data, True)"
   ]
  },
  {
   "cell_type": "code",
   "execution_count": 14,
   "id": "b8ff0221",
   "metadata": {},
   "outputs": [],
   "source": [
    "avg_rating_product = get_average_rating(train_sparse_data, False)"
   ]
  },
  {
   "cell_type": "code",
   "execution_count": 15,
   "id": "d3e49c1b",
   "metadata": {},
   "outputs": [
    {
     "name": "stdout",
     "output_type": "stream",
     "text": [
      "Total no. de Clientes = 97277\n",
      "No. de Clientes no 'train data'= 77629\n",
      "No. de Clientes não presentes no 'train data' = 19648(20.0%)\n"
     ]
    }
   ],
   "source": [
    "total_users = len(np.unique(df[\"customer_id\"]))\n",
    "train_users = len(average_rating_user)\n",
    "uncommonUsers = total_users - train_users\n",
    "                  \n",
    "print(\"Total no. de Clientes = {}\".format(total_users))\n",
    "print(\"No. de Clientes no 'train data'= {}\".format(train_users))\n",
    "print(\"No. de Clientes não presentes no 'train data' = {}({}%)\".format(uncommonUsers, np.round((uncommonUsers/total_users)*100), 2))"
   ]
  },
  {
   "cell_type": "code",
   "execution_count": 16,
   "id": "91fefa89",
   "metadata": {},
   "outputs": [
    {
     "name": "stdout",
     "output_type": "stream",
     "text": [
      "Total no. de Produtos = 32400\n",
      "No. de Produtos no 'train data' = 17364\n",
      "No. de Clientes no 'train data' = 15036(46.0%)\n"
     ]
    }
   ],
   "source": [
    "total_produtos = len(np.unique(df[\"product_id\"]))\n",
    "train_produtos = len(avg_rating_product)\n",
    "uncommonProdutos = total_produtos - train_produtos\n",
    "                  \n",
    "print(\"Total no. de Produtos = {}\".format(total_produtos))\n",
    "print(\"No. de Produtos no 'train data' = {}\".format(train_produtos))\n",
    "print(\"No. de Clientes no 'train data' = {}({}%)\".format(uncommonProdutos, np.round((uncommonProdutos/total_produtos)*100), 2))"
   ]
  },
  {
   "cell_type": "code",
   "execution_count": 17,
   "id": "fdf5d2fc",
   "metadata": {},
   "outputs": [],
   "source": [
    "def compute_user_similarity(sparse_matrix, limit=100):\n",
    "    row_index, col_index = sparse_matrix.nonzero()\n",
    "    rows = np.unique(row_index)\n",
    "    similar_arr = np.zeros(61700).reshape(617,100)\n",
    "    \n",
    "    for row in rows[:limit]:\n",
    "        sim = cosine_similarity(sparse_matrix.getrow(row), train_sparse_data).ravel()\n",
    "        similar_indices = sim.argsort()[-limit:]\n",
    "        similar = sim[similar_indices]\n",
    "        similar_arr[row] = similar\n",
    "    \n",
    "    return similar_arr "
   ]
  },
  {
   "cell_type": "code",
   "execution_count": 18,
   "id": "71d5ba91",
   "metadata": {},
   "outputs": [],
   "source": [
    "similar_user_matrix = compute_user_similarity(train_sparse_data, 100)"
   ]
  },
  {
   "cell_type": "code",
   "execution_count": 19,
   "id": "9d1a03aa",
   "metadata": {},
   "outputs": [
    {
     "data": {
      "text/plain": [
       "array([0.        , 0.        , 0.        , 0.        , 0.        ,\n",
       "       0.        , 0.        , 0.        , 0.        , 0.        ,\n",
       "       0.        , 0.        , 0.        , 0.        , 0.        ,\n",
       "       0.        , 0.        , 0.        , 0.        , 0.        ,\n",
       "       0.        , 0.        , 0.        , 0.        , 0.        ,\n",
       "       0.        , 0.        , 0.        , 0.        , 0.        ,\n",
       "       0.        , 0.        , 0.        , 0.        , 0.        ,\n",
       "       0.        , 0.        , 0.        , 0.        , 0.        ,\n",
       "       0.        , 0.        , 0.        , 0.        , 0.        ,\n",
       "       0.        , 0.        , 0.        , 0.        , 0.        ,\n",
       "       0.        , 0.        , 0.        , 0.        , 0.        ,\n",
       "       0.        , 0.        , 0.        , 0.        , 0.        ,\n",
       "       0.        , 0.        , 0.        , 0.        , 0.        ,\n",
       "       0.        , 0.        , 0.        , 0.        , 0.        ,\n",
       "       0.        , 0.        , 0.        , 0.        , 0.        ,\n",
       "       0.        , 0.        , 0.        , 0.        , 0.        ,\n",
       "       0.        , 0.        , 0.        , 0.57735027, 1.        ,\n",
       "       1.        , 1.        , 1.        , 1.        , 1.        ,\n",
       "       1.        , 1.        , 1.        , 1.        , 1.        ,\n",
       "       1.        , 1.        , 1.        , 1.        , 1.        ])"
      ]
     },
     "execution_count": 19,
     "metadata": {},
     "output_type": "execute_result"
    }
   ],
   "source": [
    "similar_user_matrix[0]"
   ]
  },
  {
   "cell_type": "code",
   "execution_count": 20,
   "id": "39afd026",
   "metadata": {},
   "outputs": [
    {
     "data": {
      "text/html": [
       "<div>\n",
       "<style scoped>\n",
       "    .dataframe tbody tr th:only-of-type {\n",
       "        vertical-align: middle;\n",
       "    }\n",
       "\n",
       "    .dataframe tbody tr th {\n",
       "        vertical-align: top;\n",
       "    }\n",
       "\n",
       "    .dataframe thead th {\n",
       "        text-align: right;\n",
       "    }\n",
       "</style>\n",
       "<table border=\"1\" class=\"dataframe\">\n",
       "  <thead>\n",
       "    <tr style=\"text-align: right;\">\n",
       "      <th></th>\n",
       "      <th>customer_id</th>\n",
       "      <th>customer_city</th>\n",
       "      <th>customer_state</th>\n",
       "      <th>order_id</th>\n",
       "      <th>order_purchase_timestamp</th>\n",
       "      <th>order_item_id</th>\n",
       "      <th>product_id</th>\n",
       "      <th>price</th>\n",
       "      <th>review_id</th>\n",
       "      <th>review_score</th>\n",
       "      <th>customer_lat</th>\n",
       "      <th>customer_long</th>\n",
       "      <th>product_category_name</th>\n",
       "      <th>quantidade_item</th>\n",
       "      <th>customer_id_code</th>\n",
       "      <th>product_id_code</th>\n",
       "    </tr>\n",
       "  </thead>\n",
       "  <tbody>\n",
       "    <tr>\n",
       "      <th>113617</th>\n",
       "      <td>f6c6d3e1e20969a5eed982163f959719</td>\n",
       "      <td>sao paulo</td>\n",
       "      <td>SP</td>\n",
       "      <td>b2f58affcc178fea2daaf834f1acff5e</td>\n",
       "      <td>2018-07-14 14:08:11</td>\n",
       "      <td>1</td>\n",
       "      <td>9682ad2500ae8b2609e6a88eb0cbc5bb</td>\n",
       "      <td>99.90</td>\n",
       "      <td>17e0e42ddf0dd7ebceff457b7c1da303</td>\n",
       "      <td>3</td>\n",
       "      <td>-23.560757</td>\n",
       "      <td>-46.623184</td>\n",
       "      <td>casa_conforto</td>\n",
       "      <td>1</td>\n",
       "      <td>93851</td>\n",
       "      <td>19008</td>\n",
       "    </tr>\n",
       "    <tr>\n",
       "      <th>113618</th>\n",
       "      <td>da37711b17efd5f2539e8196ab215f04</td>\n",
       "      <td>sao paulo</td>\n",
       "      <td>SP</td>\n",
       "      <td>c8203bb57639618630affac9e8e923dd</td>\n",
       "      <td>2017-03-27 23:04:18</td>\n",
       "      <td>1</td>\n",
       "      <td>aea06073397f809424f946979354c9f0</td>\n",
       "      <td>19.99</td>\n",
       "      <td>f3642bae4843d919c4c53ec1ff8fe26d</td>\n",
       "      <td>4</td>\n",
       "      <td>-23.638750</td>\n",
       "      <td>-46.640473</td>\n",
       "      <td>pet_shop</td>\n",
       "      <td>1</td>\n",
       "      <td>83135</td>\n",
       "      <td>22016</td>\n",
       "    </tr>\n",
       "    <tr>\n",
       "      <th>113619</th>\n",
       "      <td>184e0c2cfc746789643521df0e9ff904</td>\n",
       "      <td>sao miguel do guama</td>\n",
       "      <td>PA</td>\n",
       "      <td>45b3000bcd10464ac178f32cd783fc83</td>\n",
       "      <td>2017-12-07 23:55:46</td>\n",
       "      <td>1</td>\n",
       "      <td>bbf975bffd2ae9ee52f513ae5c8a4b27</td>\n",
       "      <td>250.00</td>\n",
       "      <td>6dfe34036fd1f79225daeaca9cf083c2</td>\n",
       "      <td>4</td>\n",
       "      <td>-1.612028</td>\n",
       "      <td>-47.476949</td>\n",
       "      <td>beleza_saude</td>\n",
       "      <td>1</td>\n",
       "      <td>9277</td>\n",
       "      <td>23776</td>\n",
       "    </tr>\n",
       "    <tr>\n",
       "      <th>113620</th>\n",
       "      <td>821a7275a08f32975caceff2e08ea262</td>\n",
       "      <td>sao paulo</td>\n",
       "      <td>SP</td>\n",
       "      <td>49645a8902c1ba980836b7bff991d69f</td>\n",
       "      <td>2018-04-04 17:50:52</td>\n",
       "      <td>1</td>\n",
       "      <td>f6e0a9ce8a6e91c3a0ca2d3005911d20</td>\n",
       "      <td>84.90</td>\n",
       "      <td>260447daa5d738ced8f4e0bbee8a08a2</td>\n",
       "      <td>5</td>\n",
       "      <td>-23.624169</td>\n",
       "      <td>-46.743793</td>\n",
       "      <td>fashion_bolsas_e_acessorios</td>\n",
       "      <td>1</td>\n",
       "      <td>49425</td>\n",
       "      <td>31238</td>\n",
       "    </tr>\n",
       "    <tr>\n",
       "      <th>113621</th>\n",
       "      <td>1ed0c832c2dd99570a59260e71768bdf</td>\n",
       "      <td>bom repouso</td>\n",
       "      <td>MG</td>\n",
       "      <td>51c6d2f460589fa7b65f2da51e860206</td>\n",
       "      <td>2017-11-14 12:04:09</td>\n",
       "      <td>1</td>\n",
       "      <td>c98bf47f7bea8f3aee82fa023786b8a1</td>\n",
       "      <td>167.99</td>\n",
       "      <td>603f2873842a6975a43c54d305397d69</td>\n",
       "      <td>1</td>\n",
       "      <td>-22.477212</td>\n",
       "      <td>-46.142185</td>\n",
       "      <td>eletronicos</td>\n",
       "      <td>1</td>\n",
       "      <td>11767</td>\n",
       "      <td>25533</td>\n",
       "    </tr>\n",
       "  </tbody>\n",
       "</table>\n",
       "</div>"
      ],
      "text/plain": [
       "                             customer_id        customer_city customer_state  \\\n",
       "113617  f6c6d3e1e20969a5eed982163f959719            sao paulo             SP   \n",
       "113618  da37711b17efd5f2539e8196ab215f04            sao paulo             SP   \n",
       "113619  184e0c2cfc746789643521df0e9ff904  sao miguel do guama             PA   \n",
       "113620  821a7275a08f32975caceff2e08ea262            sao paulo             SP   \n",
       "113621  1ed0c832c2dd99570a59260e71768bdf          bom repouso             MG   \n",
       "\n",
       "                                order_id order_purchase_timestamp  \\\n",
       "113617  b2f58affcc178fea2daaf834f1acff5e      2018-07-14 14:08:11   \n",
       "113618  c8203bb57639618630affac9e8e923dd      2017-03-27 23:04:18   \n",
       "113619  45b3000bcd10464ac178f32cd783fc83      2017-12-07 23:55:46   \n",
       "113620  49645a8902c1ba980836b7bff991d69f      2018-04-04 17:50:52   \n",
       "113621  51c6d2f460589fa7b65f2da51e860206      2017-11-14 12:04:09   \n",
       "\n",
       "        order_item_id                        product_id   price  \\\n",
       "113617              1  9682ad2500ae8b2609e6a88eb0cbc5bb   99.90   \n",
       "113618              1  aea06073397f809424f946979354c9f0   19.99   \n",
       "113619              1  bbf975bffd2ae9ee52f513ae5c8a4b27  250.00   \n",
       "113620              1  f6e0a9ce8a6e91c3a0ca2d3005911d20   84.90   \n",
       "113621              1  c98bf47f7bea8f3aee82fa023786b8a1  167.99   \n",
       "\n",
       "                               review_id  review_score  customer_lat  \\\n",
       "113617  17e0e42ddf0dd7ebceff457b7c1da303             3    -23.560757   \n",
       "113618  f3642bae4843d919c4c53ec1ff8fe26d             4    -23.638750   \n",
       "113619  6dfe34036fd1f79225daeaca9cf083c2             4     -1.612028   \n",
       "113620  260447daa5d738ced8f4e0bbee8a08a2             5    -23.624169   \n",
       "113621  603f2873842a6975a43c54d305397d69             1    -22.477212   \n",
       "\n",
       "        customer_long        product_category_name  quantidade_item  \\\n",
       "113617     -46.623184                casa_conforto                1   \n",
       "113618     -46.640473                     pet_shop                1   \n",
       "113619     -47.476949                 beleza_saude                1   \n",
       "113620     -46.743793  fashion_bolsas_e_acessorios                1   \n",
       "113621     -46.142185                  eletronicos                1   \n",
       "\n",
       "        customer_id_code  product_id_code  \n",
       "113617             93851            19008  \n",
       "113618             83135            22016  \n",
       "113619              9277            23776  \n",
       "113620             49425            31238  \n",
       "113621             11767            25533  "
      ]
     },
     "execution_count": 20,
     "metadata": {},
     "output_type": "execute_result"
    }
   ],
   "source": [
    "df.tail()"
   ]
  },
  {
   "cell_type": "code",
   "execution_count": 21,
   "id": "7cd84059",
   "metadata": {},
   "outputs": [],
   "source": [
    "product_id = df.index[df['product_id_code'] == 25533]"
   ]
  },
  {
   "cell_type": "code",
   "execution_count": 22,
   "id": "50055f9e",
   "metadata": {},
   "outputs": [
    {
     "data": {
      "text/plain": [
       "113621"
      ]
     },
     "execution_count": 22,
     "metadata": {},
     "output_type": "execute_result"
    }
   ],
   "source": [
    "product_id[0]"
   ]
  },
  {
   "cell_type": "code",
   "execution_count": 23,
   "id": "ff7430af",
   "metadata": {},
   "outputs": [],
   "source": [
    "def compute_product_similarity_count(sparse_matrix, df, product_id):\n",
    "    similarity = cosine_similarity(sparse_matrix.T, dense_output = False)\n",
    "    no_of_similar_products = df.loc[product_id][6], similarity[product_id].count_nonzero()\n",
    "    return no_of_similar_products"
   ]
  },
  {
   "cell_type": "code",
   "execution_count": 24,
   "id": "b11d4f7f",
   "metadata": {},
   "outputs": [
    {
     "data": {
      "text/plain": [
       "customer_id                 1ed0c832c2dd99570a59260e71768bdf\n",
       "customer_city                                    bom repouso\n",
       "customer_state                                            MG\n",
       "order_id                    51c6d2f460589fa7b65f2da51e860206\n",
       "order_purchase_timestamp                 2017-11-14 12:04:09\n",
       "order_item_id                                              1\n",
       "product_id                  c98bf47f7bea8f3aee82fa023786b8a1\n",
       "price                                                 167.99\n",
       "review_id                   603f2873842a6975a43c54d305397d69\n",
       "review_score                                               1\n",
       "customer_lat                                        -22.4772\n",
       "customer_long                                       -46.1422\n",
       "product_category_name                            eletronicos\n",
       "quantidade_item                                            1\n",
       "customer_id_code                                       11767\n",
       "product_id_code                                        25533\n",
       "Name: 113621, dtype: object"
      ]
     },
     "execution_count": 24,
     "metadata": {},
     "output_type": "execute_result"
    }
   ],
   "source": [
    "df.loc[113621]"
   ]
  },
  {
   "cell_type": "code",
   "execution_count": 25,
   "id": "ba392c00",
   "metadata": {},
   "outputs": [
    {
     "name": "stdout",
     "output_type": "stream",
     "text": [
      "Produtos Similares = ('d5991653e037ccb7af6ed7d94246b249', 0)\n"
     ]
    }
   ],
   "source": [
    "similar_products = compute_product_similarity_count(train_sparse_data, df, 25533)\n",
    "print(\"Produtos Similares = {}\".format(similar_products))"
   ]
  },
  {
   "cell_type": "code",
   "execution_count": 26,
   "id": "884a01d4",
   "metadata": {},
   "outputs": [],
   "source": [
    "data = range(len(df.customer_id))\n",
    "st.t.interval(0.95, len(data)-1, loc=np.mean(data), scale=st.sem(data))\n",
    "sms.DescrStatsW(data).tconfint_mean()\n",
    "df_sample = df.sample(n=10000)"
   ]
  },
  {
   "cell_type": "code",
   "execution_count": 27,
   "id": "9e3fa728",
   "metadata": {},
   "outputs": [],
   "source": [
    "split_value = int(len(df_sample) * 0.80)\n",
    "train_data_sample = df_sample[:split_value]\n",
    "test_data_sample = df_sample[split_value:]"
   ]
  },
  {
   "cell_type": "code",
   "execution_count": 28,
   "id": "102d0696",
   "metadata": {},
   "outputs": [
    {
     "name": "stdout",
     "output_type": "stream",
     "text": [
      "Train_data: 8000 \n",
      "Test_data: 2000\n"
     ]
    }
   ],
   "source": [
    "print(\"Train_data: {} \".format(len(train_data_sample)))\n",
    "print(\"Test_data: {}\".format(len(test_data_sample)))"
   ]
  },
  {
   "cell_type": "code",
   "execution_count": 29,
   "id": "faabe9ee",
   "metadata": {},
   "outputs": [],
   "source": [
    "train_sparse_data_sample = get_user_item_sparse_matrix(train_data_sample)\n",
    "test_sparse_data_sample = get_user_item_sparse_matrix(test_data_sample)"
   ]
  },
  {
   "cell_type": "code",
   "execution_count": 30,
   "id": "41a18d83",
   "metadata": {},
   "outputs": [],
   "source": [
    "def get_sample_sparse_matrix(sparse_matrix, no_of_users, no_of_products):\n",
    "    users, products, review_score = sparse.find(sparse_matrix)\n",
    "    uniq_users = np.unique(users)\n",
    "    uniq_products = np.unique(products)\n",
    "    np.random.seed(15)\n",
    "    user = np.random.choice(uniq_users, no_of_users, replace = False)\n",
    "    product = np.random.choice(uniq_products, no_of_products, replace = True)\n",
    "    mask = np.logical_and(np.isin(users, user), np.isin(products, products))\n",
    "    sparse_matrix = sparse.csr_matrix((review_score[mask], (users[mask], products[mask])), shape = (max(user)+1, max(product)+1))\n",
    "    \n",
    "    return sparse_matrix"
   ]
  },
  {
   "cell_type": "code",
   "execution_count": 31,
   "id": "9ce52615",
   "metadata": {},
   "outputs": [
    {
     "data": {
      "text/plain": [
       "'users, products, review_score = sparse.find(test_sparse_data_sample)\\nuniq_users = np.unique(users)\\nuniq_products = np.unique(products)\\nnp.random.seed(15)'"
      ]
     },
     "execution_count": 31,
     "metadata": {},
     "output_type": "execute_result"
    }
   ],
   "source": [
    "'''users, products, review_score = sparse.find(test_sparse_data_sample)\n",
    "uniq_users = np.unique(users)\n",
    "uniq_products = np.unique(products)\n",
    "np.random.seed(15)'''"
   ]
  },
  {
   "cell_type": "code",
   "execution_count": 32,
   "id": "902467a7",
   "metadata": {},
   "outputs": [],
   "source": [
    "#len(uniq_users)"
   ]
  },
  {
   "cell_type": "code",
   "execution_count": 33,
   "id": "042e61a4",
   "metadata": {},
   "outputs": [],
   "source": [
    "#len(uniq_products)"
   ]
  },
  {
   "cell_type": "code",
   "execution_count": 34,
   "id": "2ccbd9f2",
   "metadata": {},
   "outputs": [
    {
     "data": {
      "text/plain": [
       "'user = np.random.choice(uniq_users, 170, replace = False)\\nproduct = np.random.choice(uniq_products, 1698, replace = True)\\nmask = np.logical_and(np.isin(users, user), np.isin(products, products))\\nsparse_matrix = sparse.csr_matrix((review_score[mask], (users[mask], products[mask])), shape = (max(user)+1, max(product)+1))\\n'"
      ]
     },
     "execution_count": 34,
     "metadata": {},
     "output_type": "execute_result"
    }
   ],
   "source": [
    "'''user = np.random.choice(uniq_users, 170, replace = False)\n",
    "product = np.random.choice(uniq_products, 1698, replace = True)\n",
    "mask = np.logical_and(np.isin(users, user), np.isin(products, products))\n",
    "sparse_matrix = sparse.csr_matrix((review_score[mask], (users[mask], products[mask])), shape = (max(user)+1, max(product)+1))\n",
    "'''    "
   ]
  },
  {
   "cell_type": "code",
   "execution_count": 45,
   "id": "f578aa04",
   "metadata": {},
   "outputs": [],
   "source": [
    "train_sample_sparse_matrix = get_sample_sparse_matrix(train_sparse_data_sample, 7000, 5454)"
   ]
  },
  {
   "cell_type": "code",
   "execution_count": 49,
   "id": "0f0c456b",
   "metadata": {},
   "outputs": [],
   "source": [
    "test_sample_sparse_matrix = get_sample_sparse_matrix(test_sparse_data_sample, 170, 1698)"
   ]
  },
  {
   "cell_type": "code",
   "execution_count": 50,
   "id": "1854b094",
   "metadata": {},
   "outputs": [],
   "source": [
    "def create_new_similar_features(sample_sparse_matrix):\n",
    "    global_avg_review = get_average_rating(sample_sparse_matrix, False)\n",
    "    global_avg_users = get_average_rating(sample_sparse_matrix, True)\n",
    "    global_avg_products = get_average_rating(sample_sparse_matrix, False)\n",
    "    sample_train_users, sample_train_products, sample_train_reviews = sparse.find(sample_sparse_matrix)\n",
    "    new_features_csv_file = open(\"new_features.csv\", mode = \"w\")\n",
    "    \n",
    "    for user, product, review in zip(sample_train_users, sample_train_products, sample_train_reviews):\n",
    "        similar_arr = list()\n",
    "        similar_arr.append(user)\n",
    "        similar_arr.append(product)\n",
    "        similar_arr.append(sample_sparse_matrix.sum()/sample_sparse_matrix.count_nonzero())\n",
    "        \n",
    "        similar_users = cosine_similarity(sample_sparse_matrix[user], sample_sparse_matrix).ravel()\n",
    "        indices = np.argsort(-similar_users)[1:]\n",
    "        reviews = sample_sparse_matrix[indices, product].toarray().ravel()\n",
    "        top_similar_user_reviews = list(reviews[reviews != 0][:5])\n",
    "        top_similar_user_reviews.extend([global_avg_review[product]] * (5 - len(reviews)))\n",
    "        similar_arr.extend(top_similar_user_reviews)\n",
    "        \n",
    "        similar_products = cosine_similarity(sample_sparse_matrix[:,product].T, sample_sparse_matrix.T).ravel()\n",
    "        similar_products_indices = np.argsort(-similar_products)[1:]\n",
    "        similar_products_reviews = sample_sparse_matrix[user, similar_products_indices].toarray().ravel()\n",
    "        top_similar_product_reviews = list(similar_products_reviews[similar_products_reviews != 0][:5])\n",
    "        top_similar_product_reviews.extend([global_avg_users[user]] * (5-len(top_similar_product_reviews)))\n",
    "        similar_arr.extend(top_similar_product_reviews)\n",
    "        \n",
    "        similar_arr.append(global_avg_users[user])\n",
    "        similar_arr.append(global_avg_products[product])\n",
    "        similar_arr.append(review)\n",
    "        \n",
    "        new_features_csv_file.write(\",\".join(map(str, similar_arr)))\n",
    "        new_features_csv_file.write(\"\\n\")\n",
    "        \n",
    "    new_features_csv_file.close()\n",
    "    new_features_df = pd.read_csv('new_features.csv', names = [\"user_id\", \"product_id\", \"gloabl_average\", \"similar_user_review1\", \n",
    "                                                               \"similar_user_review2\", \"similar_user_review3\", \n",
    "                                                               \"similar_user_review4\", \"similar_user_review5\", \n",
    "                                                               \"similar_product_review1\", \"similar_product_review2\", \n",
    "                                                               \"similar_product_review3\", \"similar_product_review4\", \n",
    "                                                               \"similar_product_review5\", \"user_average\", \n",
    "                                                               \"product_average\", \"review\"]) \n",
    "    return new_features_df"
   ]
  },
  {
   "cell_type": "code",
   "execution_count": 65,
   "id": "f1d2d974",
   "metadata": {},
   "outputs": [
    {
     "data": {
      "text/plain": [
       "(7037, 16)"
      ]
     },
     "execution_count": 65,
     "metadata": {},
     "output_type": "execute_result"
    }
   ],
   "source": [
    "train_new_similar_features = create_new_similar_features(train_sample_sparse_matrix)\n"
   ]
  },
  {
   "cell_type": "code",
   "execution_count": null,
   "id": "2b91262b",
   "metadata": {},
   "outputs": [],
   "source": [
    "train_new_similar_features.shape"
   ]
  },
  {
   "cell_type": "code",
   "execution_count": 64,
   "id": "bf59d1f4",
   "metadata": {},
   "outputs": [
    {
     "data": {
      "text/plain": [
       "(170, 16)"
      ]
     },
     "execution_count": 64,
     "metadata": {},
     "output_type": "execute_result"
    }
   ],
   "source": [
    "test_new_similar_features = create_new_similar_features(test_sample_sparse_matrix)\n",
    "test_new_similar_features.shape"
   ]
  },
  {
   "cell_type": "code",
   "execution_count": 54,
   "id": "3544064d",
   "metadata": {},
   "outputs": [],
   "source": [
    "x_train = train_new_similar_features.drop([\"user_id\", \"product_id\", \"review\"], axis = 1)\n",
    "x_test = test_new_similar_features.drop([\"user_id\", \"product_id\", \"review\"], axis = 1)\n",
    "y_train = train_new_similar_features[\"review\"]\n",
    "y_test = test_new_similar_features[\"review\"]"
   ]
  },
  {
   "cell_type": "code",
   "execution_count": 55,
   "id": "e2c8cef3",
   "metadata": {},
   "outputs": [],
   "source": [
    "def error_metrics(y_true, y_pred):\n",
    "    rmse = np.sqrt(mean_squared_error(y_true, y_pred))\n",
    "    return rmse"
   ]
  },
  {
   "cell_type": "code",
   "execution_count": 56,
   "id": "1111df8e",
   "metadata": {},
   "outputs": [
    {
     "name": "stdout",
     "output_type": "stream",
     "text": [
      "[23:21:37] WARNING: ../src/learner.cc:573: \n",
      "Parameters: { \"silent\" } might not be used.\n",
      "\n",
      "  This may not be accurate due to some parameters are only used in language bindings but\n",
      "  passed down to XGBoost core.  Or some parameters are not used but slip through this\n",
      "  verification. Please open an issue if you find above cases.\n",
      "\n",
      "\n"
     ]
    },
    {
     "data": {
      "text/plain": [
       "XGBRegressor(base_score=0.5, booster='gbtree', colsample_bylevel=1,\n",
       "             colsample_bynode=1, colsample_bytree=1, gamma=0, gpu_id=-1,\n",
       "             importance_type='gain', interaction_constraints='',\n",
       "             learning_rate=0.300000012, max_delta_step=0, max_depth=6,\n",
       "             min_child_weight=1, missing=nan, monotone_constraints='()',\n",
       "             n_estimators=100, n_jobs=10, num_parallel_tree=1, random_state=0,\n",
       "             reg_alpha=0, reg_lambda=1, scale_pos_weight=1, silent=False,\n",
       "             subsample=1, tree_method='exact', validate_parameters=1,\n",
       "             verbosity=None)"
      ]
     },
     "execution_count": 56,
     "metadata": {},
     "output_type": "execute_result"
    }
   ],
   "source": [
    "clf = xgb.XGBRegressor(n_estimators = 100, silent = False, n_jobs  = 10)\n",
    "clf.fit(x_train, y_train)"
   ]
  },
  {
   "cell_type": "code",
   "execution_count": 57,
   "id": "ab33b605",
   "metadata": {},
   "outputs": [
    {
     "name": "stderr",
     "output_type": "stream",
     "text": [
      "/usr/local/lib/python3.6/site-packages/xgboost/data.py:115: UserWarning: Use subset (sliced data) of np.ndarray is not recommended because it will generate extra copies and increase memory consumption\n",
      "  \"memory consumption\")\n"
     ]
    }
   ],
   "source": [
    "y_pred_test = clf.predict(x_test)"
   ]
  },
  {
   "cell_type": "code",
   "execution_count": 61,
   "id": "5bb3d86f",
   "metadata": {},
   "outputs": [],
   "source": [
    "def plot_importance(model, clf):\n",
    "    fig = plt.figure(figsize = (8, 6))\n",
    "    ax = fig.add_axes([0,0,1,1])\n",
    "    model.plot_importance(clf, ax = ax, height = 0.3)\n",
    "    plt.xlabel(\"F Score\", fontsize = 20)\n",
    "    plt.ylabel(\"Features\", fontsize = 20)\n",
    "    plt.title(\"Feature Importance\", fontsize = 20)\n",
    "    plt.tick_params(labelsize = 15)\n",
    "    plt.show()"
   ]
  },
  {
   "cell_type": "code",
   "execution_count": 63,
   "id": "aa9ae374",
   "metadata": {},
   "outputs": [
    {
     "ename": "ValueError",
     "evalue": "Booster.get_score() results in empty.  This maybe caused by having all trees as decision dumps.",
     "output_type": "error",
     "traceback": [
      "\u001b[0;31m---------------------------------------------------------------------------\u001b[0m",
      "\u001b[0;31mValueError\u001b[0m                                Traceback (most recent call last)",
      "\u001b[0;32m<ipython-input-63-da57dd69fa6e>\u001b[0m in \u001b[0;36m<module>\u001b[0;34m\u001b[0m\n\u001b[0;32m----> 1\u001b[0;31m \u001b[0mplot_importance\u001b[0m\u001b[0;34m(\u001b[0m\u001b[0mxgb\u001b[0m\u001b[0;34m,\u001b[0m \u001b[0mclf\u001b[0m\u001b[0;34m)\u001b[0m\u001b[0;34m\u001b[0m\u001b[0;34m\u001b[0m\u001b[0m\n\u001b[0m",
      "\u001b[0;32m<ipython-input-61-47a0033cc660>\u001b[0m in \u001b[0;36mplot_importance\u001b[0;34m(model, clf)\u001b[0m\n\u001b[1;32m      2\u001b[0m     \u001b[0mfig\u001b[0m \u001b[0;34m=\u001b[0m \u001b[0mplt\u001b[0m\u001b[0;34m.\u001b[0m\u001b[0mfigure\u001b[0m\u001b[0;34m(\u001b[0m\u001b[0mfigsize\u001b[0m \u001b[0;34m=\u001b[0m \u001b[0;34m(\u001b[0m\u001b[0;36m8\u001b[0m\u001b[0;34m,\u001b[0m \u001b[0;36m6\u001b[0m\u001b[0;34m)\u001b[0m\u001b[0;34m)\u001b[0m\u001b[0;34m\u001b[0m\u001b[0;34m\u001b[0m\u001b[0m\n\u001b[1;32m      3\u001b[0m     \u001b[0max\u001b[0m \u001b[0;34m=\u001b[0m \u001b[0mfig\u001b[0m\u001b[0;34m.\u001b[0m\u001b[0madd_axes\u001b[0m\u001b[0;34m(\u001b[0m\u001b[0;34m[\u001b[0m\u001b[0;36m0\u001b[0m\u001b[0;34m,\u001b[0m\u001b[0;36m0\u001b[0m\u001b[0;34m,\u001b[0m\u001b[0;36m1\u001b[0m\u001b[0;34m,\u001b[0m\u001b[0;36m1\u001b[0m\u001b[0;34m]\u001b[0m\u001b[0;34m)\u001b[0m\u001b[0;34m\u001b[0m\u001b[0;34m\u001b[0m\u001b[0m\n\u001b[0;32m----> 4\u001b[0;31m     \u001b[0mmodel\u001b[0m\u001b[0;34m.\u001b[0m\u001b[0mplot_importance\u001b[0m\u001b[0;34m(\u001b[0m\u001b[0mclf\u001b[0m\u001b[0;34m,\u001b[0m \u001b[0max\u001b[0m \u001b[0;34m=\u001b[0m \u001b[0max\u001b[0m\u001b[0;34m,\u001b[0m \u001b[0mheight\u001b[0m \u001b[0;34m=\u001b[0m \u001b[0;36m0.3\u001b[0m\u001b[0;34m)\u001b[0m\u001b[0;34m\u001b[0m\u001b[0;34m\u001b[0m\u001b[0m\n\u001b[0m\u001b[1;32m      5\u001b[0m     \u001b[0mplt\u001b[0m\u001b[0;34m.\u001b[0m\u001b[0mxlabel\u001b[0m\u001b[0;34m(\u001b[0m\u001b[0;34m\"F Score\"\u001b[0m\u001b[0;34m,\u001b[0m \u001b[0mfontsize\u001b[0m \u001b[0;34m=\u001b[0m \u001b[0;36m20\u001b[0m\u001b[0;34m)\u001b[0m\u001b[0;34m\u001b[0m\u001b[0;34m\u001b[0m\u001b[0m\n\u001b[1;32m      6\u001b[0m     \u001b[0mplt\u001b[0m\u001b[0;34m.\u001b[0m\u001b[0mylabel\u001b[0m\u001b[0;34m(\u001b[0m\u001b[0;34m\"Features\"\u001b[0m\u001b[0;34m,\u001b[0m \u001b[0mfontsize\u001b[0m \u001b[0;34m=\u001b[0m \u001b[0;36m20\u001b[0m\u001b[0;34m)\u001b[0m\u001b[0;34m\u001b[0m\u001b[0;34m\u001b[0m\u001b[0m\n",
      "\u001b[0;32m~usr/local/lib/python3.6/site-packages/xgboost/plotting.py\u001b[0m in \u001b[0;36mplot_importance\u001b[0;34m(booster, ax, height, xlim, ylim, title, xlabel, ylabel, fmap, importance_type, max_num_features, grid, show_values, **kwargs)\u001b[0m\n\u001b[1;32m     73\u001b[0m         raise ValueError(\n\u001b[1;32m     74\u001b[0m             \u001b[0;34m'Booster.get_score() results in empty.  '\u001b[0m \u001b[0;34m+\u001b[0m\u001b[0;34m\u001b[0m\u001b[0;34m\u001b[0m\u001b[0m\n\u001b[0;32m---> 75\u001b[0;31m             'This maybe caused by having all trees as decision dumps.')\n\u001b[0m\u001b[1;32m     76\u001b[0m \u001b[0;34m\u001b[0m\u001b[0m\n\u001b[1;32m     77\u001b[0m     \u001b[0mtuples\u001b[0m \u001b[0;34m=\u001b[0m \u001b[0;34m[\u001b[0m\u001b[0;34m(\u001b[0m\u001b[0mk\u001b[0m\u001b[0;34m,\u001b[0m \u001b[0mimportance\u001b[0m\u001b[0;34m[\u001b[0m\u001b[0mk\u001b[0m\u001b[0;34m]\u001b[0m\u001b[0;34m)\u001b[0m \u001b[0;32mfor\u001b[0m \u001b[0mk\u001b[0m \u001b[0;32min\u001b[0m \u001b[0mimportance\u001b[0m\u001b[0;34m]\u001b[0m\u001b[0;34m\u001b[0m\u001b[0;34m\u001b[0m\u001b[0m\n",
      "\u001b[0;31mValueError\u001b[0m: Booster.get_score() results in empty.  This maybe caused by having all trees as decision dumps."
     ]
    },
    {
     "data": {
      "image/png": "[encoded data removed]",
      "text/plain": [
       "<Figure size 576x432 with 1 Axes>"
      ]
     },
     "metadata": {
      "needs_background": "light"
     },
     "output_type": "display_data"
    }
   ],
   "source": [
    "plot_importance(xgb, clf)"
   ]
  },
  {
   "cell_type": "code",
   "execution_count": null,
   "id": "d79a6362",
   "metadata": {},
   "outputs": [],
   "source": []
  }
 ],
 "metadata": {
  "kernelspec": {
   "display_name": "Python 3",
   "language": "python",
   "name": "python3"
  },
  "language_info": {
   "codemirror_mode": {
    "name": "ipython",
    "version": 3
   },
   "file_extension": ".py",
   "mimetype": "text/x-python",
   "name": "python",
   "nbconvert_exporter": "python",
   "pygments_lexer": "ipython3",
   "version": "3.6.13"
  }
 },
 "nbformat": 4,
 "nbformat_minor": 5
}
